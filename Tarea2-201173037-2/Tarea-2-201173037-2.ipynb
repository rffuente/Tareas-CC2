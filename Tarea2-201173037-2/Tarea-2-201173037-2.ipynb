{
 "cells": [
  {
   "cell_type": "markdown",
   "metadata": {},
   "source": [
    "<center>\n",
    "    <h1> ILI286 - Computación Científica II  </h1>\n",
    "    <h2> Tarea 2 </h2>\n",
    "    <h2> 07 de septiembre del 2016</h2>\n",
    "    <h4> Roberto Felipe Fuentes Zenteno - 201173037-2 - roberto.fuentes@alumnos.usm.cl</h4>\n",
    "</center>\n",
    "\n"
   ]
  },
  {
   "cell_type": "markdown",
   "metadata": {},
   "source": [
    "# Tabla de Contenidos\n",
    "* [Introducción](#intro)\n",
    "* [Desarrollo y análisis de resultados](#des)\n",
    "* [Algoritmos Integración Númerica](#int)\n",
    "    - [Pregunta 1](#pregunta1)\n",
    "    - [Pregunta 2](#pregunta2)\n",
    "    - [Pregunta 3](#pregunta3)\n",
    "* [Aplicación](#app)\n",
    "    - [De-polarización](#depo)\n",
    "        - [Pregunta 1](#pregunta21)\n",
    "        - [Pregunta 2](#pregunta22)\n",
    "    - [Tensión eficaz](#ten)\n",
    "        - [Pregunta 1](#pregunta31)\n",
    "        - [Pregunta 2](#pregunta32)\n",
    "* [Conclusiones](#con)\n",
    "* [Referencias](#ref)"
   ]
  },
  {
   "cell_type": "markdown",
   "metadata": {},
   "source": [
    "<div id='intro' />\n",
    "# Introducción\n"
   ]
  },
  {
   "cell_type": "markdown",
   "metadata": {},
   "source": [
    "En este laboratorio analizaremos los distintos algoritmos que existen para el cálculo numérico de una integra, además de ver como se comportan dependiendo de la función y los intervalos de integración del problema, y cual de ellos es mejor dependiendo de la situación. Por otro lado, veremos la aplicación en problemas reales de estos métodos, y se implementaran algoritmos nuevos para una mejor resolución del problema."
   ]
  },
  {
   "cell_type": "markdown",
   "metadata": {},
   "source": [
    "<div id='des' />\n",
    "# Desarrollo y análisis de resultados\n"
   ]
  },
  {
   "cell_type": "markdown",
   "metadata": {},
   "source": [
    "<div id='int' />\n",
    "## Algoritmos Integración Númerica"
   ]
  },
  {
   "cell_type": "code",
   "execution_count": 1,
   "metadata": {
    "collapsed": false
   },
   "outputs": [],
   "source": [
    "%matplotlib inline\n",
    "import numpy as np\n",
    "from matplotlib import pyplot as plt\n",
    "import math\n",
    "from mpmath import *\n",
    "import time\n",
    "import timeit\n",
    "import warnings"
   ]
  },
  {
   "cell_type": "markdown",
   "metadata": {},
   "source": [
    "### Algoritmos para la resolución de integrales"
   ]
  },
  {
   "cell_type": "code",
   "execution_count": 2,
   "metadata": {
    "collapsed": false
   },
   "outputs": [
    {
     "name": "stdout",
     "output_type": "stream",
     "text": [
      "2.34648961539\n",
      "2.35823184376\n",
      "2.35042318068\n",
      "2.35040238729\n"
     ]
    }
   ],
   "source": [
    "#limits of integration\n",
    "a = -1; b = 1\n",
    "#function to integrate\n",
    "myfun = lambda x : np.exp(-x) #x**2 #1 # x #np.exp(-x)\n",
    "#number the points in the 1D grid\n",
    "m = 10\n",
    "#definimos un epsilon para integrales que lanzaran un error\n",
    "e=1e-10\n",
    "\n",
    "#Metodo Punto medio\n",
    "def punto_medio(fun, m, a, b):\n",
    "    f = np.vectorize(fun) # So we can apply it to arrays without trouble\n",
    "    x = np.linspace(a, b, m+1) # We want N bins, so N+1 points  \n",
    "    dx = x[1]-x[0]\n",
    "    puntos_medios = x[:-1] + .5*dx\n",
    "    valores_puntos_medios = f(puntos_medios)\n",
    "    valor = sum(valores_puntos_medios*dx)\n",
    "    return valor\n",
    "\n",
    "print( punto_medio(myfun, m, a, b) )\n",
    "\n",
    "\n",
    "#Metodo del Trapecio\n",
    "def trapecio(fun, m, a, b):\n",
    "    f = np.vectorize(fun) \n",
    "    x = np.linspace(a, b, m+1)   \n",
    "    h = x[1]-x[0]\n",
    "    xmedio = x[1:-1]\n",
    "    valor = 0.5*h*(f(x[0])+2*sum(f(xmedio))+f(x[-1]))\n",
    "    return valor\n",
    "\n",
    "print(trapecio(myfun, m, a, b))\n",
    "\n",
    "#Metodo de Simpson\n",
    "def simpson(fun, m, a, b):\n",
    "    f = np.vectorize(fun) \n",
    "    x = np.linspace(a, b, m+1) \n",
    "    if m%2==1:\n",
    "        print(\"Simpsons rule only applicable to even number of segments\")\n",
    "        return np.nan\n",
    "    dx = x[1]-x[0]\n",
    "    xizq   = x[:-2:2]\n",
    "    xmedio = x[1::2]\n",
    "    xder  = x[2::2]\n",
    "    valor = sum((f(xizq)+4*f(xmedio)+f(xder))*dx/3)\n",
    "    return valor\n",
    "\n",
    "print(simpson(myfun, m, a, b))\n",
    "\n",
    "#Metodo de Cuadratura Gaussiana\n",
    "def cuadratura_gaussiana(fun, m, a, b):\n",
    "    f = np.vectorize(fun) # So we can apply it to arrays without trouble\n",
    "    x, w = nodos_y_pesos_gaussianos(m, a, b)\n",
    "    int_val = sum( w * f(x) )\n",
    "    return int_val\n",
    "\n",
    "def nodos_y_pesos_gaussianos(m, a, b):\n",
    "    if m==1: return np.array([1]), np.array([2])\n",
    "    beta = .5 / np.sqrt(1.-(2.*np.arange(1.,m))**(-2))\n",
    "    T = np.diag(beta,1) + np.diag(beta,-1)\n",
    "    D, V = np.linalg.eigh(T)\n",
    "    x = D\n",
    "    x = .5 * ( (b-a)*x + b + a)\n",
    "    w = 2*V[0,:]**2\n",
    "    w = .5*(b-a)*w\n",
    "    return x, w\n",
    "\n",
    "print(cuadratura_gaussiana(myfun, m, a, b))\n",
    "\n",
    "#Ignoramos los warnings por las integrales que entregaran error\n",
    "warnings.filterwarnings('ignore')"
   ]
  },
  {
   "cell_type": "markdown",
   "metadata": {},
   "source": [
    "### Calculo de las integrales propuestas"
   ]
  },
  {
   "cell_type": "code",
   "execution_count": 3,
   "metadata": {
    "collapsed": false
   },
   "outputs": [],
   "source": [
    "#Funcion que integraremos\n",
    "fun1 = lambda x : 2*np.tan(x)/(1+np.tan(x)**2)\n",
    "fun2 = lambda x : np.log(((x-3)**2)/((2+x)**2)) \n",
    "fun3 = lambda x : np.e**-(1.0/x)**2\n",
    "fun4 = lambda x : np.sqrt(1 - np.sin(x)**2)/(np.sqrt(1 + (1/np.tan(x))**2))\n",
    "fun5 = lambda x : np.log(np.log(x))\n",
    "fun6 = lambda x : (np.sin(x))/x\n",
    "\n",
    "#Limites de integracion\n",
    "int1_fun1 = -np.pi; int2_fun1 = np.pi \n",
    "int1_fun2 = 2; int2_fun2 = 4; int3_fun2 = 3+e\n",
    "int1_fun3 = -5; int2_fun3 = 5; int3_fun3 = 0+e\n",
    "int1_fun4 = 0; int2_fun4 = (3*np.pi)/4; int3_fun4 = 0+e\n",
    "int1_fun5 = np.e; int2_fun5 = 2*np.e\n",
    "int1_fun6 = np.pi; int2_fun6 = 2*np.pi \n",
    "\n",
    "#Valores teoricos:\n",
    "teo1 = 0\n",
    "teo2 = -10.410758741777535059074014357237602183467886156432\n",
    "teo3 = 6.8524468134176835602630239650674018866423523809749\n",
    "teo4 = 0.75\n",
    "teo5 = 0.85902424350790459376732772835289334018110913092058\n",
    "teo6 = -0.43378547584983772011527320785824193420335637968614\n",
    "\n",
    "#Numero de puntos\n",
    "m = 100"
   ]
  },
  {
   "cell_type": "markdown",
   "metadata": {},
   "source": [
    "### 1)\n",
    "\\begin{align*}\n",
    "\\Large \\int_{- \\pi}^{\\pi} \\frac{2\\text{tan($x$)}}{1+\\text{tan($x$)}^2} dx\n",
    "\\end{align*}"
   ]
  },
  {
   "cell_type": "markdown",
   "metadata": {},
   "source": [
    "Cálculos de la integral con los diferentes métodos:"
   ]
  },
  {
   "cell_type": "code",
   "execution_count": 4,
   "metadata": {
    "collapsed": false
   },
   "outputs": [
    {
     "name": "stdout",
     "output_type": "stream",
     "text": [
      "Metodo de punto medio:-1.62196645004e-16\n",
      "Metodo del trapecio: -4.01104877271e-17\n",
      "Metodo de Simpson: 3.12250225676e-17\n",
      "Metodo cuadratura Gaussiana: 2.23701994293e-15\n"
     ]
    }
   ],
   "source": [
    "print(\"Metodo de punto medio:\" + str(punto_medio(fun1, m, int1_fun1, int2_fun1)) )\n",
    "print(\"Metodo del trapecio: \" + str(trapecio(fun1, m, int1_fun1, int2_fun1)))\n",
    "print(\"Metodo de Simpson: \" + str(simpson(fun1, m, int1_fun1, int2_fun1)))\n",
    "print(\"Metodo cuadratura Gaussiana: \" + str(cuadratura_gaussiana(fun1, m, int1_fun1, int2_fun1)))"
   ]
  },
  {
   "cell_type": "markdown",
   "metadata": {},
   "source": [
    "Errores de los métodos en comparación con el valor teorico real:"
   ]
  },
  {
   "cell_type": "code",
   "execution_count": 5,
   "metadata": {
    "collapsed": false
   },
   "outputs": [
    {
     "name": "stdout",
     "output_type": "stream",
     "text": [
      "Error Metodo de punto medio:1.62196645004e-16\n",
      "Error Metodo del trapecio: 4.01104877271e-17\n",
      "Error Metodo de Simpson: 3.12250225676e-17\n",
      "Error Metodo cuadratura Gaussiana: 2.23701994293e-15\n"
     ]
    }
   ],
   "source": [
    "print(\"Error Metodo de punto medio:\" + str(abs(teo1 - punto_medio(fun1, m, int1_fun1, int2_fun1)) ))\n",
    "print(\"Error Metodo del trapecio: \" + str(abs(teo1 - trapecio(fun1, m, int1_fun1, int2_fun1))))\n",
    "print(\"Error Metodo de Simpson: \" + str(abs(teo1 - simpson(fun1, m, int1_fun1, int2_fun1))))\n",
    "print(\"Error Metodo cuadratura Gaussiana: \" + str(abs(teo1 - cuadratura_gaussiana(fun1, m, int1_fun1, int2_fun1))))"
   ]
  },
  {
   "cell_type": "markdown",
   "metadata": {},
   "source": [
    "### 2)\n",
    "\\begin{align*}\n",
    "\\Large \\int_{2}^{4} \\text{log} \\frac{(x-3)^2}{(2+x)^2} dx\n",
    "\\end{align*}"
   ]
  },
  {
   "cell_type": "markdown",
   "metadata": {},
   "source": [
    "Calculos de la integral con los diferentes metodos:"
   ]
  },
  {
   "cell_type": "code",
   "execution_count": 6,
   "metadata": {
    "collapsed": false
   },
   "outputs": [
    {
     "name": "stdout",
     "output_type": "stream",
     "text": [
      "Metodo de punto medio:-10.3831022974\n",
      "Metodo del trapecio: -inf\n",
      "Metodo de Simpson: -inf\n",
      "Metodo cuadratura Gaussiana: -10.3674228364\n"
     ]
    }
   ],
   "source": [
    "print(\"Metodo de punto medio:\" + str(punto_medio(fun2, m, int1_fun2, int2_fun2)) )\n",
    "print(\"Metodo del trapecio: \" + str(trapecio(fun2, m, int1_fun2, int2_fun2)))\n",
    "print(\"Metodo de Simpson: \" + str(simpson(fun2, m, int1_fun2, int2_fun2)))\n",
    "print(\"Metodo cuadratura Gaussiana: \" + str(cuadratura_gaussiana(fun2, m, int1_fun2, int2_fun2)))"
   ]
  },
  {
   "cell_type": "markdown",
   "metadata": {},
   "source": [
    "\\begin{align*}\n",
    "\\Large \\int_{2}^{3+e} \\text{log} \\frac{(x-3)^2}{(2+x)^2} dx + \\int_{3+e}^{4} \\text{log} \\frac{(x-3)^2}{(2+x)^2} dx\n",
    "\\end{align*}"
   ]
  },
  {
   "cell_type": "markdown",
   "metadata": {},
   "source": [
    "Cálculos de la integral con los diferentes métodos:"
   ]
  },
  {
   "cell_type": "code",
   "execution_count": 7,
   "metadata": {
    "collapsed": false
   },
   "outputs": [
    {
     "name": "stdout",
     "output_type": "stream",
     "text": [
      "Metodo de punto medio:-10.3831022974\n",
      "Metodo del trapecio: -10.7423800916\n",
      "Metodo de Simpson: -10.6226208269\n",
      "Metodo cuadratura Gaussiana: -10.3674228364\n"
     ]
    }
   ],
   "source": [
    "print(\"Metodo de punto medio:\" + str(punto_medio(fun2, m, int1_fun2, int2_fun2)))\n",
    "print(\"Metodo del trapecio: \" + str(trapecio(fun2, m, int1_fun2, int3_fun2) + trapecio(fun2, m, int3_fun2, int2_fun2) ))\n",
    "print(\"Metodo de Simpson: \" + str(simpson(fun2, m, int1_fun2, int3_fun2) + simpson(fun2, m, int3_fun2, int2_fun2) ))\n",
    "print(\"Metodo cuadratura Gaussiana: \" + str(cuadratura_gaussiana(fun2, m, int1_fun2, int2_fun2)))"
   ]
  },
  {
   "cell_type": "markdown",
   "metadata": {},
   "source": [
    "Errores de los métodos en comparación con el valor teorico real:"
   ]
  },
  {
   "cell_type": "code",
   "execution_count": 8,
   "metadata": {
    "collapsed": false
   },
   "outputs": [
    {
     "name": "stdout",
     "output_type": "stream",
     "text": [
      "Error Metodo de punto medio:0.0276564443419\n",
      "Error Metodo del trapecio: 0.331621349786\n",
      "Error Metodo de Simpson: 0.211862085076\n",
      "Error Metodo cuadratura Gaussiana: 0.0433359054266\n"
     ]
    }
   ],
   "source": [
    "print(\"Error Metodo de punto medio:\" + str(abs(teo2 - punto_medio(fun2, m, int1_fun2, int2_fun2) )))\n",
    "print(\"Error Metodo del trapecio: \" + str(abs(teo2 - (trapecio(fun2, m, int1_fun2, int3_fun2) + trapecio(fun2, m, int3_fun2, int2_fun2)) )))\n",
    "print(\"Error Metodo de Simpson: \" + str(abs(teo2 - (simpson(fun2, m, int1_fun2, int3_fun2) + simpson(fun2, m, int3_fun2, int2_fun2)) )))\n",
    "print(\"Error Metodo cuadratura Gaussiana: \" + str(abs(teo2 - cuadratura_gaussiana(fun2, m, int1_fun2, int2_fun2))))"
   ]
  },
  {
   "cell_type": "markdown",
   "metadata": {},
   "source": [
    "Observamos que la funcion a pesar de añadirle un epsilon pequeño y llegar a un resultado numérico, nos da un error bastante alto en comparación a la primera integral."
   ]
  },
  {
   "cell_type": "markdown",
   "metadata": {},
   "source": [
    "### 3)\n",
    "\n",
    "\\begin{align*}\n",
    "\\Large \\int_{-5}^{5} e^{-\\frac{1}{x^2}} dx\n",
    "\\end{align*}"
   ]
  },
  {
   "cell_type": "markdown",
   "metadata": {},
   "source": [
    "Si ejecutamos tal cual los metodos con la funcion, esta nos tirara error en trapecio y simpsons, puesto que la funcion evaluada en 0 nos da un error (ya que $\\frac{1}{0}$ = error. division por 0). Para esto, separaremos la integral en 2 como en el caso anterior, aplicando un epsilon en donde se indetermina la función."
   ]
  },
  {
   "cell_type": "markdown",
   "metadata": {},
   "source": [
    "\\begin{align*}\n",
    "\\Large \\int_{-5}^{0+e} e^{-\\frac{1}{x^2}} dx + \\int_{0+e}^{5} e^{-\\frac{1}{x^2}} dx\n",
    "\\end{align*}"
   ]
  },
  {
   "cell_type": "markdown",
   "metadata": {},
   "source": [
    "Cálculos de la integral con los diferentes metodos:"
   ]
  },
  {
   "cell_type": "code",
   "execution_count": 9,
   "metadata": {
    "collapsed": false
   },
   "outputs": [
    {
     "name": "stdout",
     "output_type": "stream",
     "text": [
      "Metodo de punto medio:6.85243403447\n",
      "Metodo del trapecio: 6.85245321856\n",
      "Metodo de Simpson: 6.85244682386\n",
      "Metodo cuadratura Gaussiana: 6.85244553677\n"
     ]
    }
   ],
   "source": [
    "print(\"Metodo de punto medio:\" + str(punto_medio(fun3, m, int1_fun3, int2_fun3)))\n",
    "print(\"Metodo del trapecio: \" + str(trapecio(fun3, m, int1_fun3, int3_fun3) + trapecio(fun3, m, int3_fun3, int2_fun3) ))\n",
    "print(\"Metodo de Simpson: \" + str(simpson(fun3, m, int1_fun3, int3_fun3) + simpson(fun3, m, int3_fun3, int2_fun3) ))\n",
    "print(\"Metodo cuadratura Gaussiana: \" + str(cuadratura_gaussiana(fun3, m, int1_fun3, int2_fun3)))"
   ]
  },
  {
   "cell_type": "markdown",
   "metadata": {},
   "source": [
    "Errores de los métodos en comparación con el valor teorico real:"
   ]
  },
  {
   "cell_type": "code",
   "execution_count": 10,
   "metadata": {
    "collapsed": false
   },
   "outputs": [
    {
     "name": "stdout",
     "output_type": "stream",
     "text": [
      "Error Metodo de punto medio:1.27789521107e-05\n",
      "Error Metodo del trapecio: 6.40513861505e-06\n",
      "Error Metodo de Simpson: 1.04417132718e-08\n",
      "Error Metodo cuadratura Gaussiana: 1.27665181804e-06\n"
     ]
    }
   ],
   "source": [
    "print(\"Error Metodo de punto medio:\" + str(abs(teo3 - punto_medio(fun3, m, int1_fun3, int2_fun3) )))\n",
    "print(\"Error Metodo del trapecio: \" + str(abs(teo3 - (trapecio(fun3, m, int1_fun3, int3_fun3) + trapecio(fun3, m, int3_fun3, int2_fun3)) )))\n",
    "print(\"Error Metodo de Simpson: \" + str(abs(teo3 - (simpson(fun3, m, int1_fun3, int3_fun3) + simpson(fun3, m, int3_fun3, int2_fun3)) )))\n",
    "print(\"Error Metodo cuadratura Gaussiana: \" + str(abs(teo3 - cuadratura_gaussiana(fun3, m, int1_fun3, int2_fun3))))"
   ]
  },
  {
   "cell_type": "markdown",
   "metadata": {},
   "source": [
    "Vemos que los resultados son bastante cercanos al valor real esperado, ya que el error es bastante aceptable."
   ]
  },
  {
   "cell_type": "markdown",
   "metadata": {},
   "source": [
    "### 4)\n",
    "\n",
    "\\begin{align*}\n",
    "\\Large \\int_{0}^{\\frac{3\\pi}{4}} \\frac{\\sqrt{1 - \\sin(x)^2}}{\\sqrt{1 + \\cot(x)^2}} dx \n",
    "\\end{align*}"
   ]
  },
  {
   "cell_type": "markdown",
   "metadata": {},
   "source": [
    "Cálculos de la integral con los diferentes metodos:"
   ]
  },
  {
   "cell_type": "code",
   "execution_count": 11,
   "metadata": {
    "collapsed": false
   },
   "outputs": [
    {
     "name": "stdout",
     "output_type": "stream",
     "text": [
      "Metodo de punto medio:0.750007710684\n",
      "Metodo del trapecio: 0.74998457868\n",
      "Metodo de Simpson: 0.750000000254\n",
      "Metodo cuadratura Gaussiana: 0.750080192626\n"
     ]
    }
   ],
   "source": [
    "print(\"Metodo de punto medio:\" + str(punto_medio(fun4, m, int1_fun4, int2_fun4)))\n",
    "print(\"Metodo del trapecio: \" + str(trapecio(fun4, m, int1_fun4, int3_fun4) + trapecio(fun4, m, int3_fun4, int2_fun4) ))\n",
    "print(\"Metodo de Simpson: \" + str(simpson(fun4, m, int1_fun4, int3_fun4) + simpson(fun4, m, int3_fun4, int2_fun4) ))\n",
    "print(\"Metodo cuadratura Gaussiana: \" + str(cuadratura_gaussiana(fun4, m, int1_fun4, int2_fun4)))"
   ]
  },
  {
   "cell_type": "markdown",
   "metadata": {},
   "source": [
    "Errores de los métodos en comparación con el valor teorico real:"
   ]
  },
  {
   "cell_type": "code",
   "execution_count": 12,
   "metadata": {
    "collapsed": false
   },
   "outputs": [
    {
     "name": "stdout",
     "output_type": "stream",
     "text": [
      "Error Metodo de punto medio:7.71068392924e-06\n",
      "Error Metodo del trapecio: 1.54213200311e-05\n",
      "Error Metodo de Simpson: 2.5420110461e-10\n",
      "Error Metodo cuadratura Gaussiana: 8.01926255878e-05\n"
     ]
    }
   ],
   "source": [
    "print(\"Error Metodo de punto medio:\" + str(abs(teo4 - punto_medio(fun4, m, int1_fun4, int2_fun4) )))\n",
    "print(\"Error Metodo del trapecio: \" + str(abs(teo4 - (trapecio(fun4, m, int1_fun4, int3_fun4) + trapecio(fun4, m, int3_fun4, int2_fun4)) )))\n",
    "print(\"Error Metodo de Simpson: \" + str(abs(teo4 - (simpson(fun4, m, int1_fun4, int3_fun4) + simpson(fun4, m, int3_fun4, int2_fun4)) )))\n",
    "print(\"Error Metodo cuadratura Gaussiana: \" + str(abs(teo4 - cuadratura_gaussiana(fun4, m, int1_fun4, int2_fun4))))"
   ]
  },
  {
   "cell_type": "markdown",
   "metadata": {},
   "source": [
    "Vemos que el metodo de simpson es el que mas se acerca al valor original."
   ]
  },
  {
   "cell_type": "markdown",
   "metadata": {},
   "source": [
    "### 5)\n",
    "\n",
    "\\begin{align*}\n",
    "\\Large \\int_{e}^{2e} \\text{log log } x \\text{ } dx\n",
    "\\end{align*}"
   ]
  },
  {
   "cell_type": "markdown",
   "metadata": {},
   "source": [
    "Cálculos de la integral con los diferentes metodos:"
   ]
  },
  {
   "cell_type": "code",
   "execution_count": 13,
   "metadata": {
    "collapsed": false
   },
   "outputs": [
    {
     "name": "stdout",
     "output_type": "stream",
     "text": [
      "Metodo de punto medio:0.859032224751\n",
      "Metodo del trapecio: 0.859008280832\n",
      "Metodo de Simpson: 0.859024242501\n",
      "Metodo cuadratura Gaussiana: 0.859024243508\n"
     ]
    }
   ],
   "source": [
    "print(\"Metodo de punto medio:\" + str(punto_medio(fun5, m, int1_fun5, int2_fun5)))\n",
    "print(\"Metodo del trapecio: \" + str(trapecio(fun5, m, int1_fun5, int2_fun5)))\n",
    "print(\"Metodo de Simpson: \" + str(simpson(fun5, m, int1_fun5, int2_fun5)))\n",
    "print(\"Metodo cuadratura Gaussiana: \" + str(cuadratura_gaussiana(fun5, m, int1_fun5, int2_fun5)))"
   ]
  },
  {
   "cell_type": "markdown",
   "metadata": {},
   "source": [
    "Errores de los métodos en comparación con el valor teorico real:"
   ]
  },
  {
   "cell_type": "code",
   "execution_count": 14,
   "metadata": {
    "collapsed": false
   },
   "outputs": [
    {
     "name": "stdout",
     "output_type": "stream",
     "text": [
      "Error Metodo de punto medio:7.98124347245e-06\n",
      "Error Metodo del trapecio: 1.59626757796e-05\n",
      "Error Metodo de Simpson: 1.00686892157e-09\n",
      "Error Metodo cuadratura Gaussiana: 8.881784197e-16\n"
     ]
    }
   ],
   "source": [
    "print(\"Error Metodo de punto medio:\" + str(abs(teo5 - punto_medio(fun5, m, int1_fun5, int2_fun5)) ))\n",
    "print(\"Error Metodo del trapecio: \" + str(abs(teo5 - trapecio(fun5, m, int1_fun5, int2_fun5))))\n",
    "print(\"Error Metodo de Simpson: \" + str(abs(teo5 - simpson(fun5, m, int1_fun5, int2_fun5))))\n",
    "print(\"Error Metodo cuadratura Gaussiana: \" + str(abs(teo5 - cuadratura_gaussiana(fun5, m, int1_fun5, int2_fun5))))"
   ]
  },
  {
   "cell_type": "markdown",
   "metadata": {},
   "source": [
    "Comprobamos que efectivamente, la cuadratura gaussiana es quien esta mas cerca del valor deseado."
   ]
  },
  {
   "cell_type": "markdown",
   "metadata": {},
   "source": [
    "### 6)\n",
    "\n",
    "\\begin{align*}\n",
    "\\Large \\int_{\\pi}^{2\\pi} \\frac{\\sin(x)}{x} dx\n",
    "\\end{align*}"
   ]
  },
  {
   "cell_type": "markdown",
   "metadata": {},
   "source": [
    "Cálculos de la integral con los diferentes metodos:"
   ]
  },
  {
   "cell_type": "code",
   "execution_count": 15,
   "metadata": {
    "collapsed": false
   },
   "outputs": [
    {
     "name": "stdout",
     "output_type": "stream",
     "text": [
      "Metodo de punto medio:-0.433805111111\n",
      "Metodo del trapecio: -0.43374620559\n",
      "Metodo de Simpson: -0.433785477256\n",
      "Metodo cuadratura Gaussiana: -0.43378547585\n"
     ]
    }
   ],
   "source": [
    "print(\"Metodo de punto medio:\" + str(punto_medio(fun6, m, int1_fun6, int2_fun6)))\n",
    "print(\"Metodo del trapecio: \" + str(trapecio(fun6, m, int1_fun6, int2_fun6)))\n",
    "print(\"Metodo de Simpson: \" + str(simpson(fun6, m, int1_fun6, int2_fun6)))\n",
    "print(\"Metodo cuadratura Gaussiana: \" + str(cuadratura_gaussiana(fun6, m, int1_fun6, int2_fun6)))"
   ]
  },
  {
   "cell_type": "markdown",
   "metadata": {},
   "source": [
    "Errores de los métodos en comparación con el valor teorico real:"
   ]
  },
  {
   "cell_type": "code",
   "execution_count": 16,
   "metadata": {
    "collapsed": false
   },
   "outputs": [
    {
     "name": "stdout",
     "output_type": "stream",
     "text": [
      "Error Metodo de punto medio:1.9635261597e-05\n",
      "Error Metodo del trapecio: 3.92702596174e-05\n",
      "Error Metodo de Simpson: 1.40585598718e-09\n",
      "Error Metodo cuadratura Gaussiana: 1.66533453694e-16\n"
     ]
    }
   ],
   "source": [
    "print(\"Error Metodo de punto medio:\" + str(abs(teo6 - punto_medio(fun6, m, int1_fun6, int2_fun6)) ))\n",
    "print(\"Error Metodo del trapecio: \" + str(abs(teo6 - trapecio(fun6, m, int1_fun6, int2_fun6))))\n",
    "print(\"Error Metodo de Simpson: \" + str(abs(teo6 - simpson(fun6, m, int1_fun6, int2_fun6))))\n",
    "print(\"Error Metodo cuadratura Gaussiana: \" + str(abs(teo6 - cuadratura_gaussiana(fun6, m, int1_fun6, int2_fun6))))"
   ]
  },
  {
   "cell_type": "markdown",
   "metadata": {},
   "source": [
    "<div id='pregunta1' />\n",
    "### Pregunta 1"
   ]
  },
  {
   "cell_type": "markdown",
   "metadata": {},
   "source": [
    "Para calcular el tiempo que se demora cada algoritmo en ejecutarse con un numero $m$ de iteraciones, lo que hacemos es calcular un tiempo inicial, ejecutar el algoritmo y luego calcular el tiempo nuevamente, donde el tiempo final sera la resta entre el tiempo inicial y final calculado. Como estos tiempos pueden variar dependiendo de los procesos que se estan ejecutando en el computador, se realiza un 5 con 5 pruebas, y luego se saca un promedio de estos tiempos.  "
   ]
  },
  {
   "cell_type": "code",
   "execution_count": null,
   "metadata": {
    "collapsed": false
   },
   "outputs": [],
   "source": [
    "def tiempo_promedio(metodo, fun, a, b,c):\n",
    "    resultado = [0,0,0,0,0]\n",
    "    for i in range(4):\n",
    "        if(metodo == 1):\n",
    "            #Vemos el tiempo en un instante t1 \n",
    "            tiempo_inicial = time.time()\n",
    "            #Ejecutamos una funcion con un numero de iteraciones\n",
    "            punto_medio(fun, 12, a,b)\n",
    "            #Calculamos otro tiempo t2, donde guardamos la resta entre t2 y t1.  \n",
    "            resultado[0] = time.time() - tiempo_inicial\n",
    "            \n",
    "            #Luego de eso, repetimos el proceso con distintos m, y para todos los metodos.\n",
    "            tiempo_inicial = time.time()\n",
    "            punto_medio(fun, 100, a,b)\n",
    "            resultado[1] = time.time() - tiempo_inicial\n",
    "            \n",
    "            tiempo_inicial = time.time()\n",
    "            punto_medio(fun, 500, a,b)\n",
    "            resultado[2] = time.time() - tiempo_inicial\n",
    "            \n",
    "            tiempo_inicial = time.time()\n",
    "            punto_medio(fun, 1000, a,b)\n",
    "            resultado[3] = time.time() - tiempo_inicial\n",
    "            \n",
    "            tiempo_inicial = time.time()\n",
    "            punto_medio(fun, 2000, a,b)\n",
    "            resultado[4] = time.time() - tiempo_inicial\n",
    "            \n",
    "        elif(metodo == 2):\n",
    "            if(c == 0):\n",
    "                tiempo_inicial = time.time()\n",
    "                trapecio(fun, 12, a,b)\n",
    "                resultado[0] = time.time() - tiempo_inicial\n",
    "                \n",
    "                tiempo_inicial = time.time()\n",
    "                trapecio(fun, 100, a,b)\n",
    "                resultado[1] = time.time() - tiempo_inicial\n",
    "                \n",
    "                tiempo_inicial = time.time()\n",
    "                trapecio(fun, 500, a,b)\n",
    "                resultado[2] = time.time() - tiempo_inicial\n",
    "                \n",
    "                tiempo_inicial = time.time()\n",
    "                trapecio(fun, 1000, a,b)\n",
    "                resultado[3] = time.time() - tiempo_inicial\n",
    "                \n",
    "                tiempo_inicial = time.time()\n",
    "                trapecio(fun, 2000, a,b)\n",
    "                resultado[4] = time.time() - tiempo_inicial\n",
    "                \n",
    "            elif(c != 0):\n",
    "                tiempo_inicial = time.time()\n",
    "                trapecio(fun, 6, a, c) + trapecio(fun, 6, c, b)\n",
    "                resultado[0] = time.time() - tiempo_inicial\n",
    "                \n",
    "                tiempo_inicial = time.time()\n",
    "                trapecio(fun, 50, a, c) + trapecio(fun, 50, c, b)\n",
    "                resultado[1] = time.time() - tiempo_inicial\n",
    "                \n",
    "                tiempo_inicial = time.time()\n",
    "                trapecio(fun, 250, a, c) + trapecio(fun, 250, c, b)\n",
    "                resultado[2] = time.time() - tiempo_inicial\n",
    "                \n",
    "                tiempo_inicial = time.time()\n",
    "                trapecio(fun, 500, a, c) + trapecio(fun, 500, c, b)\n",
    "                resultado[3] = time.time() - tiempo_inicial\n",
    "                \n",
    "                tiempo_inicial = time.time()\n",
    "                trapecio(fun, 1000, a, c) + trapecio(fun, 1000, c, b)\n",
    "                resultado[4] = time.time() - tiempo_inicial\n",
    "                \n",
    "        elif(metodo == 3):\n",
    "            if(c == 0):\n",
    "                tiempo_inicial = time.time()\n",
    "                simpson(fun, 10, a, b)\n",
    "                resultado[0] = time.time() - tiempo_inicial\n",
    "                \n",
    "                tiempo_inicial = time.time()\n",
    "                simpson(fun, 100, a, b)\n",
    "                resultado[1] = time.time() - tiempo_inicial\n",
    "                \n",
    "                tiempo_inicial = time.time()\n",
    "                simpson(fun, 500, a, b)\n",
    "                resultado[2] = time.time() - tiempo_inicial\n",
    "                \n",
    "                tiempo_inicial = time.time()\n",
    "                simpson(fun, 1000, a, b)\n",
    "                resultado[3] = time.time() - tiempo_inicial\n",
    "                \n",
    "                tiempo_inicial = time.time()\n",
    "                simpson(fun, 2000, a, b)\n",
    "                resultado[4] = time.time() - tiempo_inicial\n",
    "                \n",
    "            elif(c != 0 ):\n",
    "                tiempo_inicial = time.time()\n",
    "                simpson(fun, 6, a, c) + simpson(fun, 6, c, b)\n",
    "                resultado[0] = time.time() - tiempo_inicial\n",
    "                \n",
    "                tiempo_inicial = time.time()\n",
    "                simpson(fun, 50, a, c) + simpson(fun, 50, c, b)\n",
    "                resultado[1] = time.time() - tiempo_inicial\n",
    "                \n",
    "                tiempo_inicial = time.time()\n",
    "                simpson(fun, 250, a, c) + simpson(fun, 250, c, b)\n",
    "                resultado[2] = time.time() - tiempo_inicial\n",
    "                \n",
    "                tiempo_inicial = time.time()\n",
    "                simpson(fun, 500, a, c) + simpson(fun, 500, c, b)\n",
    "                resultado[3] = time.time() - tiempo_inicial\n",
    "                \n",
    "                tiempo_inicial = time.time()\n",
    "                simpson(fun, 1000, a, c) + simpson(fun, 1000, c, b)  \n",
    "                resultado[4] = time.time() - tiempo_inicial \n",
    "                \n",
    "        elif(metodo == 4):\n",
    "            tiempo_inicial = time.time()\n",
    "            cuadratura_gaussiana(fun, 10, a, b)  \n",
    "            resultado[0] = time.time() - tiempo_inicial\n",
    "            \n",
    "            tiempo_inicial = time.time()\n",
    "            cuadratura_gaussiana(fun, 100, a, b)  \n",
    "            resultado[1] = time.time() - tiempo_inicial\n",
    "            \n",
    "            tiempo_inicial = time.time()\n",
    "            cuadratura_gaussiana(fun, 500, a, b)  \n",
    "            resultado[2] = time.time() - tiempo_inicial\n",
    "            \n",
    "            tiempo_inicial = time.time()\n",
    "            cuadratura_gaussiana(fun, 1000, a, b)  \n",
    "            resultado[3] = time.time() - tiempo_inicial\n",
    "            \n",
    "            tiempo_inicial = time.time()\n",
    "            cuadratura_gaussiana(fun, 2000, a, b)  \n",
    "            resultado[4] = time.time() - tiempo_inicial\n",
    "        else:\n",
    "            print(\"El metodo ingresado no existe.\")\n",
    "    return(np.dot(resultado,0.2))"
   ]
  },
  {
   "cell_type": "markdown",
   "metadata": {},
   "source": [
    "Luego de eso, guardamos los resultados de los 4 metodos para cada integral, teniendo una matriz de tiempo de 6x4, donde 6 filas con las 6 integrales, y 4 columnas son los 4 metodos."
   ]
  },
  {
   "cell_type": "code",
   "execution_count": null,
   "metadata": {
    "collapsed": false
   },
   "outputs": [],
   "source": [
    "#Calculamos los tiempos de cada integral con los distintos metodos para cada m:\n",
    "\n",
    "#Integral 1:\n",
    "I1_PM = tiempo_promedio(1,fun1,int1_fun1,int2_fun1,0)\n",
    "I1_T = tiempo_promedio(2,fun1,int1_fun1,int2_fun1,0)\n",
    "I1_S = tiempo_promedio(3,fun1,int1_fun1,int2_fun1,0)\n",
    "I1_CG = tiempo_promedio(4,fun1,int1_fun1,int2_fun1,0)\n",
    "\n",
    "#Integral 2:\n",
    "I2_PM = tiempo_promedio(1,fun2,int1_fun2,int2_fun2,int3_fun2)\n",
    "I2_T = tiempo_promedio(2,fun2,int1_fun2,int2_fun2,int3_fun2)\n",
    "I2_S = tiempo_promedio(3,fun2,int1_fun2,int2_fun2,int3_fun2)\n",
    "I2_CG = tiempo_promedio(4,fun2,int1_fun2,int2_fun2,int3_fun2)\n",
    "\n",
    "#Integral 3:\n",
    "I3_PM = tiempo_promedio(1,fun3,int1_fun3,int2_fun3,int3_fun3)\n",
    "I3_T = tiempo_promedio(2,fun3,int1_fun3,int2_fun3,int3_fun3)\n",
    "I3_S = tiempo_promedio(3,fun3,int1_fun3,int2_fun3,int3_fun3)\n",
    "I3_CG = tiempo_promedio(4,fun3,int1_fun3,int2_fun3,int3_fun3)\n",
    "\n",
    "#Intevgral 4:\n",
    "I4_PM = tiempo_promedio(1,fun4,int1_fun4,int2_fun4,int3_fun4)\n",
    "I4_T = tiempo_promedio(2,fun4,int1_fun4,int2_fun4,int3_fun4)\n",
    "I4_S = tiempo_promedio(3,fun4,int1_fun4,int2_fun4,int3_fun4)\n",
    "I4_CG = tiempo_promedio(4,fun4,int1_fun4,int2_fun4,int3_fun4)\n",
    "\n",
    "#Integral 5:\n",
    "I5_PM = tiempo_promedio(1,fun5,int1_fun5,int2_fun5,0)\n",
    "I5_T = tiempo_promedio(2,fun5,int1_fun5,int2_fun5,0)\n",
    "I5_S = tiempo_promedio(3,fun5,int1_fun5,int2_fun5,0)\n",
    "I5_CG = tiempo_promedio(4,fun5,int1_fun5,int2_fun5,0)\n",
    "\n",
    "#Integral 6:\n",
    "I6_PM = tiempo_promedio(1,fun6,int1_fun6,int2_fun6,0)\n",
    "I6_T = tiempo_promedio(2,fun6,int1_fun6,int2_fun6,0)\n",
    "I6_S = tiempo_promedio(3,fun6,int1_fun6,int2_fun6,0)\n",
    "I6_CG = tiempo_promedio(4,fun6,int1_fun6,int2_fun6,0)\n",
    "\n",
    "tiempo = [[I1_PM,I1_T,I1_S,I1_CG],\n",
    "          [I2_PM,I2_T,I2_S,I2_CG],\n",
    "          [I3_PM,I3_T,I3_S,I3_CG],\n",
    "          [I4_PM,I4_T,I4_S,I4_CG],\n",
    "          [I5_PM,I5_T,I5_S,I5_CG],\n",
    "          [I6_PM,I6_T,I6_S,I6_CG]]\n"
   ]
  },
  {
   "cell_type": "markdown",
   "metadata": {},
   "source": [
    "Guardamos estos valores para mostrarlos junto con los otros 2 graficos mas adelante."
   ]
  },
  {
   "cell_type": "markdown",
   "metadata": {},
   "source": [
    "<div id='pregunta2' />\n",
    "### Pregunta 2"
   ]
  },
  {
   "cell_type": "markdown",
   "metadata": {},
   "source": [
    "Aqui calculamos el valor experimental de cada metodo, y luego guardamos en un arreglo el valor absoluto entre el valor teorico de la integral, y el valor experimental calculado con nuestros métodos. "
   ]
  },
  {
   "cell_type": "code",
   "execution_count": null,
   "metadata": {
    "collapsed": false
   },
   "outputs": [],
   "source": [
    "def calculo_error(valor_teorico, metodo, fun, a,b,c=0):    \n",
    "    error = []\n",
    "    #Se agregan 12 puntos en vez de 10 para poder dividir por 2 la integral, y asi nos queden numeros pares para poder usar sin problemas el metodo de simpson.\n",
    "    puntos = [12,100,500,1000,2000]\n",
    "\n",
    "    for i in range(len(puntos)):\n",
    "        if(c != 0):\n",
    "            if(metodo == 1):\n",
    "                valor_experimental = punto_medio(fun, puntos[i]/2, a,c) + punto_medio(fun, puntos[i]/2, c,b)\n",
    "            elif(metodo == 2):\n",
    "                valor_experimental = trapecio(fun, puntos[i]/2, a,c) + trapecio(fun, puntos[i]/2, c,b)\n",
    "            elif(metodo == 3):\n",
    "                valor_experimental = simpson(fun, puntos[i]/2, a,c) + simpson(fun, puntos[i]/2, c,b)\n",
    "            elif(metodo == 4):\n",
    "                valor_experimental = cuadratura_gaussiana(fun, puntos[i]/2, a,c) + cuadratura_gaussiana(fun, puntos[i]/2, c,b)\n",
    "            else:\n",
    "                print(\"El metodo ingresado no existe.\")\n",
    "        else:\n",
    "            if(metodo == 1):\n",
    "                valor_experimental = punto_medio(fun, puntos[i], a,b)\n",
    "            elif(metodo == 2):\n",
    "                valor_experimental = trapecio(fun, puntos[i], a,b)\n",
    "            elif(metodo == 3):\n",
    "                valor_experimental = simpson(fun, puntos[i], a,b)\n",
    "            elif(metodo == 4):\n",
    "                valor_experimental = cuadratura_gaussiana(fun, puntos[i], a,b)\n",
    "            else:\n",
    "                print(\"El metodo ingresado no existe.\")\n",
    "        error.append(abs(valor_teorico - valor_experimental))\n",
    "    return error"
   ]
  },
  {
   "cell_type": "markdown",
   "metadata": {},
   "source": [
    "Luego de eso, guardamos los resultados de los 4 metodos para cada integral, teniendo una matriz de tiempo de 6x4, donde 6 filas con las 6 integrales, y 4 columnas son los 4 metodos."
   ]
  },
  {
   "cell_type": "code",
   "execution_count": null,
   "metadata": {
    "collapsed": false,
    "scrolled": false
   },
   "outputs": [],
   "source": [
    "#Integral 1:\n",
    "errorI1_PM = calculo_error( teo1, 1, fun1, int1_fun1,int2_fun1)\n",
    "errorI1_T = calculo_error(teo1, 2, fun1, int1_fun1,int2_fun1)\n",
    "errorI1_S = calculo_error( teo1, 3, fun1, int1_fun1,int2_fun1)\n",
    "errorI1_CG = calculo_error(teo1, 4, fun1, int1_fun1,int2_fun1)\n",
    "\n",
    "#Integral 2:\n",
    "errorI2_PM = calculo_error(teo2, 1, fun2, int1_fun2,int2_fun2,int3_fun2)\n",
    "errorI2_T = calculo_error(teo2, 2, fun2, int1_fun2,int2_fun2,int3_fun2)\n",
    "errorI2_S = calculo_error(teo2, 3, fun2, int1_fun2,int2_fun2,int3_fun2)\n",
    "errorI2_CG = calculo_error(teo2, 4, fun2, int1_fun2,int2_fun2,int3_fun2)\n",
    "\n",
    "#Integral 3:\n",
    "errorI3_PM = calculo_error(teo3, 1, fun3, int1_fun3,int2_fun3,int3_fun3)\n",
    "errorI3_T = calculo_error(teo3, 2, fun3, int1_fun3,int2_fun3,int3_fun3)\n",
    "errorI3_S = calculo_error(teo3, 3, fun3, int1_fun3,int2_fun3,int3_fun3)\n",
    "errorI3_CG = calculo_error(teo3, 4, fun3, int1_fun3,int2_fun3,int3_fun3)\n",
    "\n",
    "#Integral 4:\n",
    "errorI4_PM = calculo_error( teo4, 1, fun4, int1_fun4,int2_fun4,int3_fun4)\n",
    "errorI4_T = calculo_error(teo4, 2, fun4, int1_fun4,int2_fun4,int3_fun4)\n",
    "errorI4_S = calculo_error( teo4, 3, fun4, int1_fun4,int2_fun4,int3_fun4)\n",
    "errorI4_CG = calculo_error(teo4, 4, fun4, int1_fun4,int2_fun4,int3_fun4)\n",
    "\n",
    "#Integral 5:\n",
    "errorI5_PM = calculo_error( teo5, 1, fun5, int1_fun5,int2_fun5)\n",
    "errorI5_T = calculo_error(teo5, 2, fun5, int1_fun5,int2_fun5)\n",
    "errorI5_S = calculo_error( teo5, 3, fun5, int1_fun5,int2_fun5)\n",
    "errorI5_CG = calculo_error(teo5, 4, fun5, int1_fun5,int2_fun5)\n",
    "\n",
    "#Integral 6:\n",
    "errorI6_PM = calculo_error( teo6, 1, fun6, int1_fun6,int2_fun6)\n",
    "errorI6_T = calculo_error(teo6, 2, fun6, int1_fun6,int2_fun6)\n",
    "errorI6_S = calculo_error( teo6, 3, fun6, int1_fun6,int2_fun6)\n",
    "errorI6_CG = calculo_error(teo6, 4, fun6, int1_fun6,int2_fun6)\n",
    "\n",
    "error = [[errorI1_PM, errorI1_T , errorI1_T, errorI1_CG],\n",
    "         [errorI2_PM, errorI2_T , errorI2_S, errorI2_CG],\n",
    "         [errorI3_PM, errorI3_T , errorI3_S, errorI3_CG],\n",
    "         [errorI4_PM, errorI4_T , errorI4_S, errorI4_CG],\n",
    "         [errorI5_PM, errorI5_T , errorI5_S, errorI5_CG],\n",
    "         [errorI6_PM, errorI6_T , errorI6_S, errorI6_CG]]\n"
   ]
  },
  {
   "cell_type": "markdown",
   "metadata": {},
   "source": [
    "Guardamos estos valores para mostrarlos junto con los otros 2 graficos mas adelante."
   ]
  },
  {
   "cell_type": "markdown",
   "metadata": {},
   "source": [
    "##### <div id='pregunta3' />\n",
    "### Pregunta 3"
   ]
  },
  {
   "cell_type": "markdown",
   "metadata": {},
   "source": [
    "Ya que tenemos los valores de los tiempos y los errores de cada integral con $m$ definidos, realizamos los 3 graficos pedidos para cada integral, es decir, para la primera integral mostramos el tiempo que demora por la numero de puntos, el error por el numero de puntos, y finalmente usamos las 2 matrices guardadas anteriormente para graficar el error y el tiempo, haciendo tablas como se sugeria en el laboratorio. Cabe destacar que en la pregunta 1.3, se graficaran el rror y el tiempo en ejes cambiados, ya que se aprecia mejor la relación entre las 2 al mirarlo de derecha a izquierda como en la tarea 1, es decir, a medida que el tiempo baja el error aumenta, y si el tiempo es alto el error baja mas. "
   ]
  },
  {
   "cell_type": "code",
   "execution_count": null,
   "metadata": {
    "collapsed": false
   },
   "outputs": [],
   "source": [
    "def imprimir_3_graficos(tiempo,error):    \n",
    "    size = [10,100,500,1000,2000]\n",
    "    plt.figure(figsize=(12,7))\n",
    "    plt.plot(size, np.log10(tiempo[0]), '--ko', linewidth = 2, label = 'Punto Medio')\n",
    "    plt.hold(True)\n",
    "    plt.plot(size, np.log10(tiempo[1]),'--bo', linewidth = 2, label = 'Trapecio')\n",
    "    plt.hold(True)\n",
    "    plt.plot(size, np.log10(tiempo[2]),'--go', linewidth = 2, label = 'Simpson')\n",
    "    plt.hold(True)\n",
    "    plt.plot(size, np.log10(tiempo[3]),'--ro', linewidth = 2, label = 'Cuadratura Gaussiana')\n",
    "    plt.legend(loc = 4,prop={'size':15})\n",
    "    plt.xlabel(\"Número puntos\", fontsize = 15)\n",
    "    plt.ylabel(\"Tiempo\", fontsize = 15)\n",
    "    plt.grid(True)\n",
    "    plt.grid(color = '0.5', linestyle = '-', linewidth = 1)\n",
    "    plt.axis('tight')\n",
    "    plt.title(\"Número de puntos vs tiempo \",fontsize = 28, verticalalignment = 'baseline', horizontalalignment = 'center')\n",
    "    \n",
    "     \n",
    "    plt.figure(figsize=(12,7))\n",
    "    plt.plot(size, np.log10(error[0]), '--ko', linewidth = 2, label = 'Punto Medio ' )\n",
    "    plt.hold(True)\n",
    "    plt.plot(size, np.log10(error[1]),'--bo', linewidth = 2, label = 'Trapecio')\n",
    "    plt.hold(True)\n",
    "    plt.plot(size, np.log10(error[2]),'--go', linewidth = 2, label = 'Simpson')\n",
    "    plt.hold(True)\n",
    "    plt.plot(size, np.log10(error[3]),'--ro', linewidth = 2, label = 'Cuadratura Gausianna')\n",
    "    plt.legend(loc = 1,prop={'size':15})\n",
    "    plt.xlabel(\"Cantidad de puntos\", fontsize = 15)\n",
    "    plt.ylabel(\"Error\", fontsize = 15)\n",
    "    plt.grid(True)\n",
    "    plt.grid(color = '0.5', linestyle = '--', linewidth = 1)\n",
    "    plt.axis('tight')\n",
    "    plt.title(\"Numero de puntos vs error\",fontsize = 28, verticalalignment = 'baseline', horizontalalignment = 'center')\n",
    "    plt.show()\n",
    "    \n",
    "    plt.figure(figsize=(12,7))\n",
    "    plt.loglog(tiempo[0], error[0], '--ko', linewidth = 2, label = 'Punto medio')\n",
    "    plt.hold(True)\n",
    "    plt.loglog(tiempo[1], error[1],'--bo', linewidth = 2, label = 'Trapecio')\n",
    "    plt.hold(True)\n",
    "    plt.loglog(tiempo[2], error[2],'--go', linewidth = 2, label = 'Simpsons')\n",
    "    plt.hold(True)\n",
    "    plt.loglog(tiempo[3], error[3] ,'--ro', linewidth = 2, label = 'Cuadratura Gaussiana')\n",
    "    plt.legend(loc = 1,prop={'size':15})\n",
    "    plt.xlabel(\"Tiempo\", fontsize = 15)\n",
    "    plt.ylabel(\"Error\", fontsize = 15)\n",
    "    plt.grid(True)\n",
    "    plt.grid(color = '0.5', linestyle = '--', linewidth = 1)\n",
    "    plt.axis('tight')\n",
    "    plt.title(\"Error vs tiempo\",fontsize = 28, verticalalignment = 'baseline', horizontalalignment = 'center')\n",
    "    plt.show()"
   ]
  },
  {
   "cell_type": "markdown",
   "metadata": {},
   "source": [
    "Finalmente teniendo las 3 funciones y los arreglos que nos interesan, procedemos a mostrar los 3 graficos nombrados anteriormente para cada integral, y asi ver su comportamiento:"
   ]
  },
  {
   "cell_type": "markdown",
   "metadata": {},
   "source": [
    "### Integral 1:\n",
    "\\begin{align*}\n",
    "\\Large \\int_{- \\pi}^{\\pi} \\frac{2\\text{tan($x$)}}{1+\\text{tan($x$)}^2} dx\n",
    "\\end{align*}"
   ]
  },
  {
   "cell_type": "code",
   "execution_count": null,
   "metadata": {
    "collapsed": false,
    "scrolled": false
   },
   "outputs": [],
   "source": [
    "imprimir_3_graficos(tiempo[0],error[0])"
   ]
  },
  {
   "cell_type": "markdown",
   "metadata": {},
   "source": [
    "Vemos que en los tiempos esta integral nos dice que los 3 metodos se comportan casi del mismo modo. Sin embargo, es cuadratura gaussiana quien se demora mas a medida que se aumentan la cantidad m de puntos. Sin embargo, del error no se puede obtener mucha información, puesto que converge muy rápido con muy pocos puntos."
   ]
  },
  {
   "cell_type": "markdown",
   "metadata": {},
   "source": [
    "### Integral 2:\n",
    "\\begin{align*}\n",
    "\\Large \\int_{2}^{4} \\text{log} \\frac{(x-3)^2}{(2+x)^2} dx\n",
    "\\end{align*}"
   ]
  },
  {
   "cell_type": "code",
   "execution_count": null,
   "metadata": {
    "collapsed": false
   },
   "outputs": [],
   "source": [
    "imprimir_3_graficos(tiempo[1],error[1])"
   ]
  },
  {
   "cell_type": "markdown",
   "metadata": {},
   "source": [
    "Al igual que en el gráfico anterior, cuadratura se demora mas que el resto en tiempo, mientras que los otros 3 metodos se comportan muy similar. Aqui vemos que cuadratura cuadratura se comporta muy bien a medida que el tiempo aumenta, puesto que en el tercer grafico vemos que el error disminuye mucho en comparacion a los otros graficos."
   ]
  },
  {
   "cell_type": "markdown",
   "metadata": {},
   "source": [
    "### Integral 3:\n",
    "\\begin{align*}\n",
    "\\Large \\int_{-5}^{5} e^{-\\frac{1}{x^2}} dx \n",
    "\\end{align*}"
   ]
  },
  {
   "cell_type": "code",
   "execution_count": null,
   "metadata": {
    "collapsed": false
   },
   "outputs": [],
   "source": [
    "imprimir_3_graficos(tiempo[2],error[2])"
   ]
  },
  {
   "cell_type": "markdown",
   "metadata": {},
   "source": [
    "Al igual que en el gráfico anterior, cuadratura se demora mas que el resto en tiempo, mientras que los otros 3 metodos se comportan muy similar. Aqui vemos que cuadratura cuadratura se comporta muy bien a medida que el tiempo aumenta, puesto que en el tercer grafico vemos que el error disminuye mucho en comparacion a los otros graficos."
   ]
  },
  {
   "cell_type": "markdown",
   "metadata": {},
   "source": [
    "### Integral 4:\n",
    "\n",
    "\\begin{align*}\n",
    "\\Large \\int_{0}^{\\frac{3\\pi}{4}} \\frac{\\sqrt{1 - \\sin(x)^2}}{\\sqrt{1 + \\cot(x)^2}} dx\n",
    "\\end{align*}"
   ]
  },
  {
   "cell_type": "code",
   "execution_count": null,
   "metadata": {
    "collapsed": false
   },
   "outputs": [],
   "source": [
    "imprimir_3_graficos(tiempo[3],error[3])"
   ]
  },
  {
   "cell_type": "markdown",
   "metadata": {},
   "source": [
    "Al igual que en el gráfico anterior, cuadratura se demora mas que el resto en tiempo, mientras que los otros 3 metodos se comportan muy similar. Aqui vemos que simpson se comporta muy bien a medida que el tiempo aumenta en comparacion a otros metodos, sobretodo a cuadratura gaussiana, puesto que en el tercer grafico vemos que el error disminuye mucho en comparacion a los otros graficos. Podemos deducir que se debe debido a la forma que tiene la función dentro de la integral."
   ]
  },
  {
   "cell_type": "markdown",
   "metadata": {},
   "source": [
    "### Integral 5:\n",
    "\\begin{align*}\n",
    "\\Large \\int_{e}^{2e} \\text{log log } x \\text{ } dx\n",
    "\\end{align*}"
   ]
  },
  {
   "cell_type": "code",
   "execution_count": null,
   "metadata": {
    "collapsed": false
   },
   "outputs": [],
   "source": [
    "imprimir_3_graficos(tiempo[4],error[4])"
   ]
  },
  {
   "cell_type": "markdown",
   "metadata": {},
   "source": [
    "Al igual que en el gráfico anterior, cuadratura se demora mas que el resto en tiempo, mientras que los otros 3 métodos se comportan muy similar. Vemos que en comparación a los otros métodos, cuadratura ya parte con un error muy pequeño con muy pocos puntos, manteniendose estable a medida que aumento los puntos."
   ]
  },
  {
   "cell_type": "markdown",
   "metadata": {},
   "source": [
    "### Integral 6:\n",
    "\n",
    "\\begin{align*}\n",
    "\\Large \\int_{\\pi}^{2\\pi} \\frac{\\sin(x)}{x} dx\n",
    "\\end{align*}"
   ]
  },
  {
   "cell_type": "code",
   "execution_count": null,
   "metadata": {
    "collapsed": false,
    "scrolled": false
   },
   "outputs": [],
   "source": [
    "imprimir_3_graficos(tiempo[5],error[5])"
   ]
  },
  {
   "cell_type": "markdown",
   "metadata": {},
   "source": [
    "Al igual que en el gráfico anterior, cuadratura se demora mas que el resto en tiempo, mientras que los otros 3 métodos se comportan muy similar. Vemos que en comparación a los otros métodos, cuadratura ya parte con un error muy pequeño con muy pocos puntos, manteniendose estable a medida que aumento los puntos."
   ]
  },
  {
   "cell_type": "markdown",
   "metadata": {},
   "source": [
    "<div id='app' />\n",
    "# Aplicación"
   ]
  },
  {
   "cell_type": "markdown",
   "metadata": {},
   "source": [
    "<div id='depo' />\n",
    "## De-polarización"
   ]
  },
  {
   "cell_type": "markdown",
   "metadata": {},
   "source": [
    "Primero creamos una funcion para graficar la función pedida dentro de los intervalos que se encuentran en la integral:"
   ]
  },
  {
   "cell_type": "code",
   "execution_count": null,
   "metadata": {
    "collapsed": true
   },
   "outputs": [],
   "source": [
    "def grafica_funcion(Nrange, myfun, a, b, true_value):\n",
    "    ms = 10\n",
    "    f = np.vectorize(myfun) # So we can apply it to arrays without trouble\n",
    "    plt.figure(figsize=(12,16))\n",
    "    # First plot\n",
    "    ax = plt.subplot(4,1,1)\n",
    "    dd = 0.1*(b-a)\n",
    "    x = np.linspace(a-dd, b+dd, 1000)\n",
    "    plt.plot(x, f(x), 'k', label=\"f(x)\", lw=2.0)\n",
    "    x = np.linspace(a, b, 1000)\n",
    "    plt.fill_between(x, f(x), 0, alpha=0.5, label=r\"$\\int_a^b f(x) dx$\")\n",
    "    plt.xlabel(\"x\")\n",
    "    plt.ylabel(\"f(x)\")\n",
    "    ymax = 1.05*plt.ylim()[1]\n",
    "    plt.ylim([-ymax, ymax])\n",
    "    plt.grid('on')\n",
    "    plt.legend(loc=\"lower left\")"
   ]
  },
  {
   "cell_type": "markdown",
   "metadata": {},
   "source": [
    "<div id='pregunta21' />\n",
    "### Pregunta 1"
   ]
  },
  {
   "cell_type": "markdown",
   "metadata": {},
   "source": [
    "Para calcular la integral del enunciado, nos basaremos en el análisis descrito en la pregunta 3. Como nos dimos cuenta, hay un método que nos calcula de una forma muy precisa y en poco tiempo una integral siempre y cuando esta no se indefina,el cual es cuadratura gaussiana (a pesar de que es un algoritmo costoso, y que por ende es el que se demora más en integrales indefinidas). Definiremos la función y calculamos la integral:"
   ]
  },
  {
   "cell_type": "code",
   "execution_count": null,
   "metadata": {
    "collapsed": false
   },
   "outputs": [],
   "source": [
    "#Función a definir\n",
    "funPregunta21 = lambda x : (6.73*x + 4.3025*10**-7)/(x*2.316*10**-11)\n",
    "\n",
    "#Intervalos de la integral\n",
    "int1_funPregunta21 = 0.61*10**-6; int2_funPregunta21 = 1.22*10**-6\n",
    "\n",
    "#Numero de puntos\n",
    "m = 1000\n",
    "\n",
    "#Valor teorico\n",
    "v_teorico = 190140\n",
    "\n",
    "#Resolvemos la función:\n",
    "print(\"valor experimental T: \" + str(cuadratura_gaussiana(funPregunta21, m, int1_funPregunta21, int2_funPregunta21)))"
   ]
  },
  {
   "cell_type": "markdown",
   "metadata": {},
   "source": [
    "Luego, graficamos la integral con la función creada anteriormente:"
   ]
  },
  {
   "cell_type": "code",
   "execution_count": null,
   "metadata": {
    "collapsed": false,
    "scrolled": false
   },
   "outputs": [],
   "source": [
    "Ns = range(4, 20)\n",
    "exp1 = (Ns, funPregunta21, int1_funPregunta21, int2_funPregunta21, v_teorico)\n",
    "grafica_funcion(*exp1)"
   ]
  },
  {
   "cell_type": "markdown",
   "metadata": {},
   "source": [
    "<div id='pregunta22' />\n",
    "### Pregunta 2"
   ]
  },
  {
   "cell_type": "markdown",
   "metadata": {},
   "source": [
    "Calculamos el error absoluto relativo mediante la formula:"
   ]
  },
  {
   "cell_type": "code",
   "execution_count": null,
   "metadata": {
    "collapsed": false
   },
   "outputs": [],
   "source": [
    "v_experimental = cuadratura_gaussiana(funPregunta21, m, int1_funPregunta21, int2_funPregunta21)\n",
    "error_absoluto_relativo = abs(v_teorico - v_experimental)/v_teorico\n",
    "print(\"Error relativo absoluto = \" + str(error_absoluto_relativo)  + \"%.\")"
   ]
  },
  {
   "cell_type": "markdown",
   "metadata": {},
   "source": [
    "El cual nos da un error bastante aceptable, por lo cual podemos decir que el metodo usado es bastante eficiente para calcular el valor de esta integral."
   ]
  },
  {
   "cell_type": "markdown",
   "metadata": {},
   "source": [
    "<div id='ten' />\n",
    "## Tensión eficaz"
   ]
  },
  {
   "cell_type": "markdown",
   "metadata": {},
   "source": [
    "<div id='pregunta31' />\n",
    "### Pregunta 1"
   ]
  },
  {
   "cell_type": "markdown",
   "metadata": {},
   "source": [
    "Al igual que en la pregunta 2.1, para calcular la integral del enunciado, nos basaremos en el análisis descrito en la pregunta 3, por lo que usaremos cuadratura gaussiana para el calculo de la integral. Definiremos la función y calculamos la integral:"
   ]
  },
  {
   "cell_type": "code",
   "execution_count": null,
   "metadata": {
    "collapsed": false
   },
   "outputs": [],
   "source": [
    "#Función a definir\n",
    "w = 7\n",
    "v_0 = 5\n",
    "funPregunta22 = lambda x : ((v_0)**2)*(np.sin(x*w)**2)\n",
    "\n",
    "#Intervalos de la integral\n",
    "int1_funPregunta22 = 0; int2_funPregunta22 = (2*np.pi)/w\n",
    "\n",
    "#Numero de puntos\n",
    "m = 1000\n",
    "\n",
    "#Valor Teorico\n",
    "v_teorico = v_0/(np.sqrt(2))\n",
    "\n",
    "#Resolvemos la función:\n",
    "print(\"Valor experimental: \" + str(np.sqrt((w/(2*np.pi))*cuadratura_gaussiana(funPregunta22, m, int1_funPregunta22, int2_funPregunta22))))"
   ]
  },
  {
   "cell_type": "markdown",
   "metadata": {},
   "source": [
    "Luego graficamos la integral:"
   ]
  },
  {
   "cell_type": "code",
   "execution_count": null,
   "metadata": {
    "collapsed": false
   },
   "outputs": [],
   "source": [
    "Ns = range(4, 20)\n",
    "exp2 = (Ns, funPregunta22, int1_funPregunta22, int2_funPregunta22, v_teorico)\n",
    "grafica_funcion(*exp2)"
   ]
  },
  {
   "cell_type": "markdown",
   "metadata": {},
   "source": [
    "<div id='pregunta32' />\n",
    "### Pregunta 2"
   ]
  },
  {
   "cell_type": "markdown",
   "metadata": {},
   "source": [
    "Calculamos el error absoluto relativo para verificar si nuetro metodo calcula un valor cercano a real:"
   ]
  },
  {
   "cell_type": "code",
   "execution_count": null,
   "metadata": {
    "collapsed": false
   },
   "outputs": [],
   "source": [
    "v_experimental = np.sqrt((w/(2*np.pi))*cuadratura_gaussiana(funPregunta22, m, int1_funPregunta22, int2_funPregunta22))\n",
    "error_absoluto_relativo = abs(v_teorico - v_experimental)/v_teorico\n",
    "print(\"Error relativo absoluto = \" + str(error_absoluto_relativo)  + \"%.\")"
   ]
  },
  {
   "cell_type": "markdown",
   "metadata": {},
   "source": [
    "Vemos que el error es un número bastante mas pequeño que el cálculo de la primera integral, lo cual nos dice que acertamos en nuestra predicción."
   ]
  },
  {
   "cell_type": "markdown",
   "metadata": {},
   "source": [
    "<div id='alg' />\n",
    "# Conclusiones"
   ]
  },
  {
   "cell_type": "markdown",
   "metadata": {},
   "source": [
    "Luego de realizar el laboratorio, nos damos cuenta de que dependiendo de lo que buscamos podemos usar distintos metodos que nos ayudaran a realizar un calculo de integración. Si queremos un cálculo en menos tiempo, punto medio es la mejor opcion, puesto que hace un calculo facil en poco tiempo. Sin embargo, el error que nos entrega este metodo es un poco más alto en comparación a otros métodos, como cuadratura gaussiana. Esta elección también depende de como se comporte la integral en su intervalo, como tambien de la forma de la integral (si es lineal, cudratica, etc). En conclusión, la elección dependerá de lo que se ande buscando (precision, tiempo, etc). "
   ]
  },
  {
   "cell_type": "markdown",
   "metadata": {},
   "source": [
    "<div id='ref' />\n",
    "# Referencias"
   ]
  },
  {
   "cell_type": "markdown",
   "metadata": {
    "collapsed": true
   },
   "source": [
    "- Capitulo 5 \"Diferenciacion e integracion numerica\" del libro \"Análisis Numérico - Segunda Edición\" del autor Tymothy Sauer."
   ]
  },
  {
   "cell_type": "markdown",
   "metadata": {},
   "source": [
    "- http://www.epsem.upc.edu/~fpq/numerico/resum/integra-resum.pdf"
   ]
  }
 ],
 "metadata": {
  "kernelspec": {
   "display_name": "Python 3",
   "language": "python",
   "name": "python3"
  },
  "language_info": {
   "codemirror_mode": {
    "name": "ipython",
    "version": 3
   },
   "file_extension": ".py",
   "mimetype": "text/x-python",
   "name": "python",
   "nbconvert_exporter": "python",
   "pygments_lexer": "ipython3",
   "version": "3.5.1"
  }
 },
 "nbformat": 4,
 "nbformat_minor": 0
}
