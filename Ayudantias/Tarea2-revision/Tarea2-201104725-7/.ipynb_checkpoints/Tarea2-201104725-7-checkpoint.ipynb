{
 "cells": [
  {
   "cell_type": "markdown",
   "metadata": {
    "deletable": true,
    "editable": true
   },
   "source": [
    "<center>\n",
    "    <h1> ILI286 - Computación Científica II </h1>\n",
    "    <h2> Tarea 1 </h2>\n",
    "    <h2> [S]cientific [C]omputing [T]eam </h2>\n",
    "    <br>\n",
    "    <b> Ignacio Sfeir </b><br>\n",
    "    <b> ignacio.sfeir.alumnos.usm.cl </b><br>\n",
    "    <b> 201104725-7 </b>\n",
    "</center>\n",
    "\n",
    "_Marzo 2017_"
   ]
  },
  {
   "cell_type": "markdown",
   "metadata": {
    "deletable": true,
    "editable": true
   },
   "source": [
    "# Introducción\n",
    "\n",
    "Existen muchos problemas de la informática donde los _valores y vectores propios_ juegan un papel importante al momento de obtener información valiosa. Uno de los elementos de mayor relevancia es el **valor propio dominante** de una matriz, y en este laboratorio mediante un análisis de tiempo y precisión veremos distintas técnicas para poder obtenerlo de forma rápida y concisa. "
   ]
  },
  {
   "cell_type": "markdown",
   "metadata": {
    "deletable": true,
    "editable": true
   },
   "source": [
    "# Desarrollo y análisis de resultados"
   ]
  },
  {
   "cell_type": "code",
   "execution_count": 4,
   "metadata": {
    "collapsed": true,
    "deletable": true,
    "editable": true
   },
   "outputs": [],
   "source": [
    "import matplotlib.pyplot as plt\n",
    "%matplotlib inline\n",
    "import numpy as np\n",
    "import sympy as sym\n",
    "import scipy as sp\n",
    "from ipywidgets import interact\n",
    "\n",
    "import timeit"
   ]
  },
  {
   "cell_type": "markdown",
   "metadata": {
    "deletable": true,
    "editable": true
   },
   "source": [
    "# Pregunta 3.1\n",
    "\n",
    "## 1)\n",
    "\n",
    "Implementando los métodos:"
   ]
  },
  {
   "cell_type": "code",
   "execution_count": 176,
   "metadata": {
    "collapsed": true,
    "deletable": true,
    "editable": true
   },
   "outputs": [],
   "source": [
    "def power_iteration(A, x, k, verbose=False):\n",
    "    \"\"\"\n",
    "    Program 12.1 Power iteration\n",
    "    Computes dominant eigenvector of square matrix\n",
    "    Input: matrix A, initial (nonzero) vector x, number of steps k\n",
    "    Output: dominant eigenvalue lam, eigenvector u\n",
    "    \"\"\"\n",
    "    if verbose: print(\"Power Iteration Method\\n%s\"%('='*80))\n",
    "    for j in range(k):\n",
    "        u = x/np.linalg.norm(x)\n",
    "        x = np.dot(A, u)\n",
    "        if verbose:\n",
    "            lam = np.dot(u, x)\n",
    "            print(\"k=%d, lambda=%+.10f, u=%s\"%(j,lam,str(u.T)))\n",
    "    u = x/np.linalg.norm(x)\n",
    "    lam = np.dot(u, x)\n",
    "    if verbose: print(\"k=%d, lambda=%+.10f, u=%s\\n\"%(j+1,lam,str(u.T)))\n",
    "    return (lam, u)\n",
    "\n",
    "##################################################################################\n",
    "\n",
    "def rqi(A, x, k, verbose=False):\n",
    "    \"\"\"\n",
    "    Program 12.3 Rayleigh Quotient Iteration\n",
    "    Input: matrix A, initial (nonzero) vector x, number of steps k\n",
    "    Output: eigenvalue lam, eigenvector of inv(A-sI)\n",
    "    \"\"\"\n",
    "    if verbose: print(\"Rayleigh Quotient Iteration\\n%s\"%('='*80))\n",
    "    for j in range(k):\n",
    "        u = x/np.linalg.norm(x)\n",
    "        lam = np.dot(u.T, np.dot(A, u))\n",
    "        try:\n",
    "            x = np.linalg.solve(A -lam*np.eye(*A.shape), u)\n",
    "        except np.linalg.LinAlgError:\n",
    "            break\n",
    "        if verbose: print(\"k=%d, lambda=%+.10f, u=%s\"%(j,lam,str(u.T)))\n",
    "    u = x/np.linalg.norm(x)\n",
    "    lam = float(np.dot(u.T, np.dot(A, u)))\n",
    "    if verbose: print(\"k=%d, lambda=%+.10f, u=%s\\n\"%(j+1,lam,str(u.T)))\n",
    "    return (lam, u)\n",
    "\n",
    "##################################################################################\n",
    "\n",
    "def unshifted_qr(A, k, verbose=False):\n",
    "    m,n = A.shape\n",
    "    Q = np.identity(m)\n",
    "    Qbar = Q\n",
    "    R = A\n",
    "    for j in range(k):\n",
    "        Q, R = np.linalg.qr(np.dot(R,Q))\n",
    "        Qbar = np.dot(Qbar, Q)\n",
    "        \n",
    "        if verbose:\n",
    "            lam = np.diag(np.dot(R, Q))\n",
    "            print(\"k=%d, lambda=%s\"%(j,str(lam)))\n",
    "    lam = np.diag(np.dot(R, Q))\n",
    "    return (lam, Qbar)"
   ]
  },
  {
   "cell_type": "markdown",
   "metadata": {
    "deletable": true,
    "editable": true
   },
   "source": [
    "Ahora para probarlos se construye una matriz simétrica definida positiva como sigue:"
   ]
  },
  {
   "cell_type": "code",
   "execution_count": 177,
   "metadata": {
    "collapsed": false,
    "deletable": true,
    "editable": true
   },
   "outputs": [
    {
     "name": "stdout",
     "output_type": "stream",
     "text": [
      "A=\n",
      " [[ 0.19151945  0.62210877]\n",
      " [ 0.43772774  0.78535858]]\n"
     ]
    }
   ],
   "source": [
    "r = np.random.RandomState(1234)\n",
    "A=r.rand(2,2)\n",
    "print(\"A=\\n\", A)"
   ]
  },
  {
   "cell_type": "code",
   "execution_count": 178,
   "metadata": {
    "collapsed": false,
    "deletable": true,
    "editable": true
   },
   "outputs": [
    {
     "name": "stdout",
     "output_type": "stream",
     "text": [
      "D=\n",
      " [[ 0.25        0.        ]\n",
      " [ 0.          0.16666667]]\n"
     ]
    }
   ],
   "source": [
    "Q,R = np.linalg.qr(A)\n",
    "D = np.array([[1.0/(2*1+2),0],[0,1.0/(2*2+2)]])\n",
    "print(\"D=\\n\", D)"
   ]
  },
  {
   "cell_type": "code",
   "execution_count": 179,
   "metadata": {
    "collapsed": false,
    "deletable": true,
    "editable": true
   },
   "outputs": [
    {
     "name": "stdout",
     "output_type": "stream",
     "text": [
      "B=\n",
      " [[ 0.18005624  0.03060256]\n",
      " [ 0.03060256  0.23661043]]\n"
     ]
    }
   ],
   "source": [
    "B = np.dot(np.dot(Q,D),Q.T)\n",
    "print(\"B=\\n\", B) "
   ]
  },
  {
   "cell_type": "markdown",
   "metadata": {
    "deletable": true,
    "editable": true
   },
   "source": [
    "Teniendo la matriz B con valores propios la diagonal de D, se procede a probar los algoritmos implementados:\n",
    "\n",
    "#### Power Iteration"
   ]
  },
  {
   "cell_type": "code",
   "execution_count": 181,
   "metadata": {
    "collapsed": false,
    "deletable": true,
    "editable": true
   },
   "outputs": [
    {
     "name": "stdout",
     "output_type": "stream",
     "text": [
      "Power Iteration Method\n",
      "================================================================================\n",
      "k=0, lambda=+0.2389358972, u=[ 0.70710678  0.70710678]\n",
      "k=1, lambda=+0.2446910275, u=[ 0.61910312  0.7853097 ]\n",
      "k=2, lambda=+0.2475538808, u=[ 0.5518778   0.83392499]\n",
      "k=3, lambda=+0.2488948131, u=[ 0.50368089  0.86388978]\n",
      "k=4, lambda=+0.2495051599, u=[ 0.47024809  0.88253427]\n",
      "k=5, lambda=+0.2497793431, u=[ 0.44745432  0.89430679]\n",
      "k=6, lambda=+0.2499017858, u=[ 0.43205799  0.90184582]\n",
      "k=7, lambda=+0.2499563206, u=[ 0.42171221  0.90672974]\n",
      "k=8, lambda=+0.2499805813, u=[ 0.41478107  0.90992124]\n",
      "k=9, lambda=+0.2499913683, u=[ 0.41014591  0.91201992]\n",
      "k=10, lambda=+0.2499961635, u=[ 0.40704962  0.91340605]\n",
      "k=11, lambda=+0.2499982948, u=[ 0.40498274  0.91432433]\n",
      "k=12, lambda=+0.2499992421, u=[ 0.40360364  0.91493393]\n",
      "k=13, lambda=+0.2499996632, u=[ 0.40268372  0.91533918]\n",
      "k=14, lambda=+0.2499998503, u=[ 0.40207022  0.91560884]\n",
      "k=15, lambda=+0.2499999335, u=[ 0.40166111  0.91578838]\n",
      "k=16, lambda=+0.2499999704, u=[ 0.40138833  0.91590797]\n",
      "k=17, lambda=+0.2499999869, u=[ 0.40120646  0.91598765]\n",
      "k=18, lambda=+0.2499999942, u=[ 0.4010852   0.91604075]\n",
      "k=19, lambda=+0.2499999974, u=[ 0.40100436  0.91607615]\n",
      "k=20, lambda=+0.2499999978, u=[ 0.40095046  0.91609974]\n",
      "\n",
      "Valor propio dominante: 0.2499999978\n"
     ]
    }
   ],
   "source": [
    "x = np.array([1,1])\n",
    "lam, v = power_iteration(B, x, 20, verbose=True)\n",
    "print(\"Valor propio dominante: %.10f\"%lam)"
   ]
  },
  {
   "cell_type": "markdown",
   "metadata": {
    "deletable": true,
    "editable": true
   },
   "source": [
    "Luego de 20 iteraciones encuentra un valor de $0.2499999978$, aproximadamente el valor real $0.25$.\n",
    "\n",
    "#### Rayleigh Quotient Iteration"
   ]
  },
  {
   "cell_type": "code",
   "execution_count": 182,
   "metadata": {
    "collapsed": false,
    "deletable": true,
    "editable": true
   },
   "outputs": [
    {
     "name": "stdout",
     "output_type": "stream",
     "text": [
      "Rayleigh Quotient Iteration\n",
      "================================================================================\n",
      "k=0, lambda=+0.2389358972, u=[ 0.70710678  0.70710678]\n",
      "k=1, lambda=+0.2497020445, u=[ 0.34534423  0.93847609]\n",
      "k=2, lambda=+0.2499999961, u=[ 0.40103958  0.91606073]\n",
      "k=3, lambda=+0.2500000000, u=[ 0.40084266  0.91614691]\n",
      "\n",
      "Valor propio dominante: 0.2500000000\n"
     ]
    }
   ],
   "source": [
    "x = np.array([1,1])\n",
    "lam, v = rqi(B, x, k=3, verbose=True)\n",
    "print(\"Valor propio dominante: %.10f\"%lam)"
   ]
  },
  {
   "cell_type": "markdown",
   "metadata": {
    "deletable": true,
    "editable": true
   },
   "source": [
    "Luego de 3 iteraciones ya se ha encontrado el valor propio dominante $0.2500000000$ con una precisión de al menos 10 decimales.\n",
    "\n",
    "#### Unshifted QR"
   ]
  },
  {
   "cell_type": "code",
   "execution_count": 183,
   "metadata": {
    "collapsed": false,
    "deletable": true,
    "editable": true
   },
   "outputs": [
    {
     "name": "stdout",
     "output_type": "stream",
     "text": [
      "k=0, lambda=[ 0.19175447  0.22491219]\n",
      "k=1, lambda=[ 0.20768016  0.20898651]\n",
      "k=2, lambda=[ 0.22379905  0.19286762]\n",
      "k=3, lambda=[ 0.2358906   0.18077607]\n",
      "k=4, lambda=[ 0.24307806  0.17358861]\n",
      "k=5, lambda=[ 0.24677475  0.16989192]\n",
      "k=6, lambda=[ 0.24853506  0.16813161]\n",
      "k=7, lambda=[ 0.24934249  0.16732417]\n",
      "k=8, lambda=[ 0.24970649  0.16696018]\n",
      "k=9, lambda=[ 0.24986929  0.16679737]\n",
      "k=10, lambda=[ 0.24994186  0.16672481]\n",
      "k=11, lambda=[ 0.24997415  0.16669252]\n",
      "k=12, lambda=[ 0.24998851  0.16667816]\n",
      "k=13, lambda=[ 0.24999489  0.16667177]\n",
      "k=14, lambda=[ 0.24999773  0.16666894]\n",
      "k=15, lambda=[ 0.24999899  0.16666768]\n",
      "k=16, lambda=[ 0.24999955  0.16666712]\n",
      "k=17, lambda=[ 0.2499998   0.16666687]\n",
      "k=18, lambda=[ 0.24999991  0.16666676]\n",
      "k=19, lambda=[ 0.24999996  0.16666671]\n",
      "\n",
      "Valores propios = [ 0.24999996  0.16666671]\n",
      "\n",
      " Valor propio dominante: 0.249999960631\n"
     ]
    }
   ],
   "source": [
    "lam, v = unshifted_qr(B,20, verbose=True)\n",
    "print(\"\\nValores propios =\", lam)\n",
    "print(\"\\n Valor propio dominante:\", max(lam))"
   ]
  },
  {
   "cell_type": "markdown",
   "metadata": {
    "deletable": true,
    "editable": true
   },
   "source": [
    "Luego de 20 iteraciones se encuentra un valor de $0.249999960631$, aproximadamente $0.25$.\n",
    "\n",
    "## 2)\n",
    "\n",
    "Para mantener relativamente bajo el tiempo de ejecución del código de prueba, la cantidad de veces que se repitió el algoritmo para buscar un promedio varía según el tamaño de la matriz (y por tanto del tiempo asociado a la ejecución de una sola repetición). Esta cantidad puede aumentarse para mejorar la precisión, a costo de mayor tiempo de computo del ejercicio."
   ]
  },
  {
   "cell_type": "code",
   "execution_count": 184,
   "metadata": {
    "collapsed": false,
    "deletable": true,
    "editable": true
   },
   "outputs": [],
   "source": [
    "r = np.random.RandomState(1234)\n",
    "A10 = r.rand(10,10)\n",
    "#x10 = r.rand(10)\n",
    "x10 = np.ones(10)\n",
    "A100 = r.rand(100,100)\n",
    "#x100 = r.rand(100)\n",
    "x100 = np.ones(100)\n",
    "A500 = r.rand(500,500)\n",
    "#x500 = r.rand(500)\n",
    "x500 = np.ones(500)\n",
    "A1000 = r.rand(1000,1000)\n",
    "#x1000 = r.rand(1000)\n",
    "x1000 = np.ones(1000)\n",
    "\n",
    "def wrapper(func, *args, **kwargs):\n",
    "    def wrapped():\n",
    "        return func(*args, **kwargs)\n",
    "    return wrapped"
   ]
  },
  {
   "cell_type": "markdown",
   "metadata": {
    "deletable": true,
    "editable": true
   },
   "source": [
    "#### Power Iteration\n",
    "$A_{10x10}$"
   ]
  },
  {
   "cell_type": "code",
   "execution_count": 192,
   "metadata": {
    "collapsed": false,
    "deletable": true,
    "editable": true
   },
   "outputs": [
    {
     "name": "stdout",
     "output_type": "stream",
     "text": [
      "1.38500577817e-05 [s]\n"
     ]
    }
   ],
   "source": [
    "wrapped = wrapper(power_iteration, A10, x10, 1, verbose=False)\n",
    "t10PI = timeit.repeat(wrapped, repeat=100000, number=1)\n",
    "t10PI = np.mean(t10PI)\n",
    "print(t10PI, \"[s]\")\n",
    "\n",
    "# Otra forma:\n",
    "#t10 = timeit.timeit(wrapped, number=10000)\n",
    "#t10 = t10/10000.0\n",
    "#print(t10, \"[s]\")"
   ]
  },
  {
   "cell_type": "markdown",
   "metadata": {
    "deletable": true,
    "editable": true
   },
   "source": [
    "$A_{100x100}$"
   ]
  },
  {
   "cell_type": "code",
   "execution_count": 193,
   "metadata": {
    "collapsed": false,
    "deletable": true,
    "editable": true
   },
   "outputs": [
    {
     "name": "stdout",
     "output_type": "stream",
     "text": [
      "1.49678379386e-05 [s]\n"
     ]
    }
   ],
   "source": [
    "wrapped = wrapper(power_iteration, A100, x100, 1, verbose=False)\n",
    "t100PI = timeit.repeat(wrapped, repeat=100000, number=1)\n",
    "t100PI = np.mean(t100PI)\n",
    "print(t100PI, \"[s]\")"
   ]
  },
  {
   "cell_type": "markdown",
   "metadata": {
    "deletable": true,
    "editable": true
   },
   "source": [
    "$A_{500x500}$"
   ]
  },
  {
   "cell_type": "code",
   "execution_count": 194,
   "metadata": {
    "collapsed": false,
    "deletable": true,
    "editable": true
   },
   "outputs": [
    {
     "name": "stdout",
     "output_type": "stream",
     "text": [
      "4.55642621939e-05 [s]\n"
     ]
    }
   ],
   "source": [
    "wrapped = wrapper(power_iteration, A500, x500, 1, verbose=False)\n",
    "t500PI = timeit.repeat(wrapped, repeat=10000, number=1)\n",
    "t500PI = np.mean(t500PI)\n",
    "print(t500PI, \"[s]\")"
   ]
  },
  {
   "cell_type": "markdown",
   "metadata": {
    "deletable": true,
    "editable": true
   },
   "source": [
    "$A_{1000x1000}$"
   ]
  },
  {
   "cell_type": "code",
   "execution_count": 195,
   "metadata": {
    "collapsed": false,
    "deletable": true,
    "editable": true
   },
   "outputs": [
    {
     "name": "stdout",
     "output_type": "stream",
     "text": [
      "0.000496563839136 [s]\n"
     ]
    }
   ],
   "source": [
    "wrapped = wrapper(power_iteration, A1000, x1000, 1, verbose=False)\n",
    "t1000PI = timeit.repeat(wrapped, repeat=10000, number=1)\n",
    "t1000PI = np.mean(t1000PI)\n",
    "print(t1000PI, \"[s]\")"
   ]
  },
  {
   "cell_type": "markdown",
   "metadata": {
    "deletable": true,
    "editable": true
   },
   "source": [
    "#### Rayleigh Quotient Iteration\n",
    "$A_{10x10}$"
   ]
  },
  {
   "cell_type": "code",
   "execution_count": 196,
   "metadata": {
    "collapsed": false,
    "deletable": true,
    "editable": true
   },
   "outputs": [
    {
     "name": "stdout",
     "output_type": "stream",
     "text": [
      "3.34106689263e-05 [s]\n"
     ]
    }
   ],
   "source": [
    "wrapped = wrapper(rqi, A10, x10, 1, verbose=False)\n",
    "t10RQI = timeit.repeat(wrapped, repeat=10000, number=1)\n",
    "t10RQI = np.mean(t10RQI)\n",
    "print(t10RQI, \"[s]\")"
   ]
  },
  {
   "cell_type": "markdown",
   "metadata": {
    "deletable": true,
    "editable": true
   },
   "source": [
    "$A_{100x100}$"
   ]
  },
  {
   "cell_type": "code",
   "execution_count": 197,
   "metadata": {
    "collapsed": false,
    "deletable": true,
    "editable": true
   },
   "outputs": [
    {
     "name": "stdout",
     "output_type": "stream",
     "text": [
      "0.00029568900672 [s]\n"
     ]
    }
   ],
   "source": [
    "wrapped = wrapper(rqi, A100, x100, 1, verbose=False)\n",
    "t100RQI = timeit.repeat(wrapped, repeat=10000, number=1)\n",
    "t100RQI = np.mean(t100RQI)\n",
    "print(t100RQI, \"[s]\")"
   ]
  },
  {
   "cell_type": "markdown",
   "metadata": {
    "deletable": true,
    "editable": true
   },
   "source": [
    "$A_{500x500}$"
   ]
  },
  {
   "cell_type": "code",
   "execution_count": 198,
   "metadata": {
    "collapsed": false,
    "deletable": true,
    "editable": true
   },
   "outputs": [
    {
     "name": "stdout",
     "output_type": "stream",
     "text": [
      "0.00577201162419 [s]\n"
     ]
    }
   ],
   "source": [
    "wrapped = wrapper(rqi, A500, x500, 1, verbose=False)\n",
    "t500RQI = timeit.repeat(wrapped, repeat=500, number=1)\n",
    "t500RQI = np.mean(t500RQI)\n",
    "print(t500RQI, \"[s]\")"
   ]
  },
  {
   "cell_type": "markdown",
   "metadata": {
    "deletable": true,
    "editable": true
   },
   "source": [
    "$A_{1000x1000}$"
   ]
  },
  {
   "cell_type": "code",
   "execution_count": 199,
   "metadata": {
    "collapsed": false,
    "deletable": true,
    "editable": true
   },
   "outputs": [
    {
     "name": "stdout",
     "output_type": "stream",
     "text": [
      "0.0358927454794 [s]\n"
     ]
    }
   ],
   "source": [
    "wrapped = wrapper(rqi, A1000, x1000, 1, verbose=False)\n",
    "t1000RQI = timeit.repeat(wrapped, repeat=100, number=1)\n",
    "t1000RQI = np.mean(t1000RQI)\n",
    "print(t1000RQI, \"[s]\")"
   ]
  },
  {
   "cell_type": "markdown",
   "metadata": {
    "deletable": true,
    "editable": true
   },
   "source": [
    "#### Unshifted QR\n",
    "\n",
    "$A_{10x10}$"
   ]
  },
  {
   "cell_type": "code",
   "execution_count": 200,
   "metadata": {
    "collapsed": false,
    "deletable": true,
    "editable": true
   },
   "outputs": [
    {
     "name": "stdout",
     "output_type": "stream",
     "text": [
      "5.41381518135e-05 [s]\n"
     ]
    }
   ],
   "source": [
    "wrapped = wrapper(unshifted_qr, A10, 1, verbose=False)\n",
    "t10QR = timeit.repeat(wrapped, repeat=10000, number=1)\n",
    "t10QR = np.mean(t10QR)\n",
    "print(t10QR, \"[s]\")\n",
    "\n",
    "# Otra forma:\n",
    "#t10 = timeit.timeit(wrapped, number=10000)\n",
    "#t10 = t10/10000.0\n",
    "#print(t10, \"[s]\")"
   ]
  },
  {
   "cell_type": "markdown",
   "metadata": {
    "deletable": true,
    "editable": true
   },
   "source": [
    "$A_{100x100}$"
   ]
  },
  {
   "cell_type": "code",
   "execution_count": 201,
   "metadata": {
    "collapsed": false,
    "deletable": true,
    "editable": true
   },
   "outputs": [
    {
     "name": "stdout",
     "output_type": "stream",
     "text": [
      "0.000641442775313 [s]\n"
     ]
    }
   ],
   "source": [
    "wrapped = wrapper(unshifted_qr, A100, 1, verbose=False)\n",
    "t100QR = timeit.repeat(wrapped, repeat=5000, number=1)\n",
    "t100QR = np.mean(t100QR)\n",
    "print(t100QR, \"[s]\")"
   ]
  },
  {
   "cell_type": "markdown",
   "metadata": {
    "deletable": true,
    "editable": true
   },
   "source": [
    "$A_{500x500}$"
   ]
  },
  {
   "cell_type": "code",
   "execution_count": 202,
   "metadata": {
    "collapsed": false,
    "deletable": true,
    "editable": true
   },
   "outputs": [
    {
     "name": "stdout",
     "output_type": "stream",
     "text": [
      "0.0342600675961 [s]\n"
     ]
    }
   ],
   "source": [
    "wrapped = wrapper(unshifted_qr, A500, 1, verbose=False)\n",
    "t500QR = timeit.repeat(wrapped, repeat=100, number=1)\n",
    "t500QR = np.mean(t500QR)\n",
    "print(t500QR, \"[s]\")"
   ]
  },
  {
   "cell_type": "markdown",
   "metadata": {
    "deletable": true,
    "editable": true
   },
   "source": [
    "$A_{1000x1000}$"
   ]
  },
  {
   "cell_type": "code",
   "execution_count": 203,
   "metadata": {
    "collapsed": false,
    "deletable": true,
    "editable": true
   },
   "outputs": [
    {
     "name": "stdout",
     "output_type": "stream",
     "text": [
      "0.206406230216 [s]\n"
     ]
    }
   ],
   "source": [
    "wrapped = wrapper(unshifted_qr, A1000, 1, verbose=False)\n",
    "t1000QR = timeit.repeat(wrapped, repeat=10, number=1)\n",
    "t1000QR = np.mean(t1000QR)\n",
    "print(t1000QR, \"[s]\")"
   ]
  },
  {
   "cell_type": "markdown",
   "metadata": {
    "deletable": true,
    "editable": true
   },
   "source": [
    "#### Graficando:"
   ]
  },
  {
   "cell_type": "code",
   "execution_count": 220,
   "metadata": {
    "collapsed": false,
    "deletable": true,
    "editable": true
   },
   "outputs": [
    {
     "data": {
      "image/png": "[encoded data removed]",
      "text/plain": [
       "<matplotlib.figure.Figure at 0x7715430>"
      ]
     },
     "metadata": {},
     "output_type": "display_data"
    }
   ],
   "source": [
    "x = [10,100,500,1000]\n",
    "yPI = [t10PI, t100PI, t500PI, t1000PI]\n",
    "yRQI = [t10RQI, t100RQI, t500RQI, t1000RQI]\n",
    "yQR = [t10QR, t100QR, t500QR, t1000QR]\n",
    "\n",
    "plt.semilogy(x,yPI, \"b-\", label=\"PI\")\n",
    "plt.semilogy(x,yRQI, \"r-\", label=\"RQI\")\n",
    "plt.semilogy(x,yQR, \"k-\", label=\"QR\")\n",
    "\n",
    "plt.xlabel(\"dimensión\")\n",
    "plt.ylabel(\"tiempo [s]\")\n",
    "plt.legend()\n",
    "plt.grid(True)\n",
    "plt.show()"
   ]
  },
  {
   "cell_type": "markdown",
   "metadata": {
    "deletable": true,
    "editable": true
   },
   "source": [
    "## 3)\n",
    "\n",
    "Se realizan pequeñas modificaciones a los algoritmos para que continuen iterando hasta llegar al error mínimo esperado.\n",
    "#### Power Iteration"
   ]
  },
  {
   "cell_type": "code",
   "execution_count": 205,
   "metadata": {
    "collapsed": false,
    "deletable": true,
    "editable": true
   },
   "outputs": [],
   "source": [
    "def power_iteration_convergencia(A, x, real, error, verbose=False):\n",
    "    \n",
    "    if verbose: print(\"Power Iteration Method\\n%s\"%('='*80))\n",
    "    j = 0\n",
    "    while True:\n",
    "    #for j in range(k):\n",
    "        u = x/np.linalg.norm(x)\n",
    "        x = np.dot(A, u)\n",
    "        lam = np.dot(u, x) # necesario computar en cada iteracion para comparar con el error\n",
    "        if verbose: print(\"k=%d, lambda=%+.10f, u=%s\"%(j,lam,str(u.T)))\n",
    "        j+=1\n",
    "        if abs(lam - real) <= error:\n",
    "            break\n",
    "    u = x/np.linalg.norm(x)\n",
    "    if verbose: print(\"k=%d, lambda=%+.10f, u=%s\\n\"%(j,lam,str(u.T)))\n",
    "    return (lam, u, j)"
   ]
  },
  {
   "cell_type": "markdown",
   "metadata": {
    "deletable": true,
    "editable": true
   },
   "source": [
    "$A_{10x10}$"
   ]
  },
  {
   "cell_type": "code",
   "execution_count": 73,
   "metadata": {
    "collapsed": false,
    "deletable": true,
    "editable": true
   },
   "outputs": [
    {
     "name": "stdout",
     "output_type": "stream",
     "text": [
      "Valor dominante buscado: 5.117613398513\n",
      "iteraciones = 12\n",
      "lambda = 5.117613398575\n",
      "t = 0.00007812874631963495 [s]\n"
     ]
    }
   ],
   "source": [
    "dominante = max(np.linalg.eigvals(abs(A10)).real)\n",
    "print(\"Valor dominante buscado: %.12f\"%dominante)\n",
    "\n",
    "lam, u, k = power_iteration_convergencia(A10, x10, dominante, 1e-10, verbose=False)\n",
    "print(\"iteraciones = %d\"%k)\n",
    "print(\"lambda = %.12f\"%lam)\n",
    "\n",
    "wrapped = wrapper(power_iteration_convergencia, A10, x10, dominante, 1e-10, verbose=False)\n",
    "t10PI2 = timeit.repeat(wrapped, repeat=10000, number=1)\n",
    "print(\"t = %.20f [s]\"%np.mean(t10PI2))"
   ]
  },
  {
   "cell_type": "markdown",
   "metadata": {
    "deletable": true,
    "editable": true
   },
   "source": [
    "$A_{100x100}$"
   ]
  },
  {
   "cell_type": "code",
   "execution_count": 74,
   "metadata": {
    "collapsed": false,
    "deletable": true,
    "editable": true
   },
   "outputs": [
    {
     "name": "stdout",
     "output_type": "stream",
     "text": [
      "Valor dominante buscado: 50.020401818324\n",
      "iteraciones = 9\n",
      "lambda = 50.020401818322\n",
      "t = 0.00008935303793414278 [s]\n"
     ]
    }
   ],
   "source": [
    "dominante = max(np.linalg.eigvals(abs(A100)).real)\n",
    "print(\"Valor dominante buscado: %.12f\"%dominante)\n",
    "\n",
    "lam, u, k = power_iteration_convergencia(A100, x100, dominante, 1e-10, verbose=False)\n",
    "print(\"iteraciones = %d\"%k)\n",
    "print(\"lambda = %.12f\"%lam)\n",
    "\n",
    "wrapped = wrapper(power_iteration_convergencia, A100, x100, dominante, 1e-10, verbose=False)\n",
    "t100PI2 = timeit.repeat(wrapped, repeat=10000, number=1)\n",
    "print(\"t = %.20f [s]\"%np.mean(t100PI2))"
   ]
  },
  {
   "cell_type": "markdown",
   "metadata": {
    "deletable": true,
    "editable": true
   },
   "source": [
    "$A_{500x500}$"
   ]
  },
  {
   "cell_type": "code",
   "execution_count": 75,
   "metadata": {
    "collapsed": false,
    "deletable": true,
    "editable": true
   },
   "outputs": [
    {
     "name": "stdout",
     "output_type": "stream",
     "text": [
      "Valor dominante buscado: 249.765919503668\n",
      "iteraciones = 6\n",
      "lambda = 249.765919503666\n",
      "t = 0.00022205660422894199 [s]\n"
     ]
    }
   ],
   "source": [
    "dominante = max(np.linalg.eigvals(abs(A500)).real)\n",
    "print(\"Valor dominante buscado: %.12f\"%dominante)\n",
    "\n",
    "lam, u, k = power_iteration_convergencia(A500, x500, dominante, 1e-10, verbose=False)\n",
    "print(\"iteraciones = %d\"%k)\n",
    "print(\"lambda = %.12f\"%lam)\n",
    "\n",
    "wrapped = wrapper(power_iteration_convergencia, A500, x500, dominante, 1e-10, verbose=False)\n",
    "t500PI2 = timeit.repeat(wrapped, repeat=10000, number=1)\n",
    "print(\"t = %.20f [s]\"%np.mean(t500PI2))"
   ]
  },
  {
   "cell_type": "markdown",
   "metadata": {
    "deletable": true,
    "editable": true
   },
   "source": [
    "$A_{1000x1000}$"
   ]
  },
  {
   "cell_type": "code",
   "execution_count": 76,
   "metadata": {
    "collapsed": false,
    "deletable": true,
    "editable": true
   },
   "outputs": [
    {
     "name": "stdout",
     "output_type": "stream",
     "text": [
      "Valor dominante buscado: 500.003576496575\n",
      "iteraciones = 6\n",
      "lambda = 500.003576496556\n",
      "t = 0.00264219559219941403 [s]\n"
     ]
    }
   ],
   "source": [
    "dominante = max(np.linalg.eigvals(abs(A1000)).real)\n",
    "print(\"Valor dominante buscado: %.12f\"%dominante)\n",
    "\n",
    "lam, u, k = power_iteration_convergencia(A1000, x1000, dominante, 1e-10, verbose=False)\n",
    "print(\"iteraciones = %d\"%k)\n",
    "print(\"lambda = %.12f\"%lam)\n",
    "\n",
    "wrapped = wrapper(power_iteration_convergencia, A1000, x1000, dominante, 1e-10, verbose=False)\n",
    "t1000PI2 = timeit.repeat(wrapped, repeat=1000, number=1)\n",
    "print(\"t = %.20f [s]\"%np.mean(t1000PI2))"
   ]
  },
  {
   "cell_type": "markdown",
   "metadata": {
    "deletable": true,
    "editable": true
   },
   "source": [
    "#### Rayleigh Quotient Iteration"
   ]
  },
  {
   "cell_type": "code",
   "execution_count": 77,
   "metadata": {
    "collapsed": false,
    "deletable": true,
    "editable": true
   },
   "outputs": [],
   "source": [
    "def rqi_convergencia(A, x, real, error, verbose=False):\n",
    "    \n",
    "    if verbose: print(\"Rayleigh Quotient Iteration\\n%s\"%('='*80))\n",
    "    j = 0\n",
    "    while True:\n",
    "    #for j in range(k):\n",
    "        u = x/np.linalg.norm(x)\n",
    "        lam = np.dot(u.T, np.dot(A, u))\n",
    "        try:\n",
    "            x = np.linalg.solve(A -lam*np.eye(*A.shape), u)\n",
    "        except np.linalg.LinAlgError:\n",
    "            break\n",
    "        if verbose: print(\"k=%d, lambda=%+.10f, u=%s\"%(j,lam,str(u.T)))\n",
    "        j+=1\n",
    "        if abs(lam - real) <= error:\n",
    "            break\n",
    "    u = x/np.linalg.norm(x)\n",
    "    lam = float(np.dot(u.T, np.dot(A, u)))\n",
    "    if verbose: print(\"k=%d, lambda=%+.10f, u=%s\\n\"%(j,lam,str(u.T)))\n",
    "    return (lam, u, j)"
   ]
  },
  {
   "cell_type": "markdown",
   "metadata": {
    "deletable": true,
    "editable": true
   },
   "source": [
    "$A_{10x10}$"
   ]
  },
  {
   "cell_type": "code",
   "execution_count": 78,
   "metadata": {
    "collapsed": false,
    "deletable": true,
    "editable": true
   },
   "outputs": [
    {
     "name": "stdout",
     "output_type": "stream",
     "text": [
      "Valor dominante buscado: 5.117613398513\n",
      "iteraciones = 4\n",
      "lambda = 5.117613398513\n",
      "t = 0.00010456416716740478 [s]\n"
     ]
    }
   ],
   "source": [
    "dominante = max(np.linalg.eigvals(abs(A10)).real)\n",
    "print(\"Valor dominante buscado: %.12f\"%dominante)\n",
    "\n",
    "lam, u, k = rqi_convergencia(A10, x10, dominante, 1e-10, verbose=False)\n",
    "print(\"iteraciones = %d\"%k)\n",
    "print(\"lambda = %.12f\"%lam)\n",
    "\n",
    "wrapped = wrapper(rqi_convergencia, A10, x10, dominante, 1e-10, verbose=False)\n",
    "t10RQI2 = timeit.repeat(wrapped, repeat=10000, number=1)\n",
    "print(\"t = %.20f [s]\"%np.mean(t10RQI2))"
   ]
  },
  {
   "cell_type": "markdown",
   "metadata": {
    "deletable": true,
    "editable": true
   },
   "source": [
    "$A_{100x100}$"
   ]
  },
  {
   "cell_type": "code",
   "execution_count": 79,
   "metadata": {
    "collapsed": false,
    "deletable": true,
    "editable": true
   },
   "outputs": [
    {
     "name": "stdout",
     "output_type": "stream",
     "text": [
      "Valor dominante buscado: 50.020401818324\n",
      "iteraciones = 4\n",
      "lambda = 50.020401818324\n",
      "t = 0.00104801501755002850 [s]\n"
     ]
    }
   ],
   "source": [
    "dominante = max(np.linalg.eigvals(abs(A100)).real)\n",
    "print(\"Valor dominante buscado: %.12f\"%dominante)\n",
    "\n",
    "lam, u, k = rqi_convergencia(A100, x100, dominante, 1e-10, verbose=False)\n",
    "print(\"iteraciones = %d\"%k)\n",
    "print(\"lambda = %.12f\"%lam)\n",
    "\n",
    "wrapped = wrapper(rqi_convergencia, A100, x100, dominante, 1e-10, verbose=False)\n",
    "t100RQI2 = timeit.repeat(wrapped, repeat=10000, number=1)\n",
    "print(\"t = %.20f [s]\"%np.mean(t100RQI2))"
   ]
  },
  {
   "cell_type": "markdown",
   "metadata": {
    "deletable": true,
    "editable": true
   },
   "source": [
    "$A_{500x500}$"
   ]
  },
  {
   "cell_type": "code",
   "execution_count": 80,
   "metadata": {
    "collapsed": false,
    "deletable": true,
    "editable": true
   },
   "outputs": [
    {
     "name": "stdout",
     "output_type": "stream",
     "text": [
      "Valor dominante buscado: 249.765919503668\n",
      "iteraciones = 3\n",
      "lambda = 249.765919503668\n",
      "t = 0.01783616396957540817 [s]\n"
     ]
    }
   ],
   "source": [
    "dominante = max(np.linalg.eigvals(abs(A500)).real)\n",
    "print(\"Valor dominante buscado: %.12f\"%dominante)\n",
    "\n",
    "lam, u, k = rqi_convergencia(A500, x500, dominante, 1e-10, verbose=False)\n",
    "print(\"iteraciones = %d\"%k)\n",
    "print(\"lambda = %.12f\"%lam)\n",
    "\n",
    "wrapped = wrapper(rqi_convergencia, A500, x500, dominante, 1e-10, verbose=False)\n",
    "t500RQI2 = timeit.repeat(wrapped, repeat=100, number=1)\n",
    "print(\"t = %.20f [s]\"%np.mean(t500RQI2))"
   ]
  },
  {
   "cell_type": "markdown",
   "metadata": {
    "deletable": true,
    "editable": true
   },
   "source": [
    "$A_{1000x1000}$"
   ]
  },
  {
   "cell_type": "code",
   "execution_count": 81,
   "metadata": {
    "collapsed": false,
    "deletable": true,
    "editable": true
   },
   "outputs": [
    {
     "name": "stdout",
     "output_type": "stream",
     "text": [
      "Valor dominante buscado: 500.003576496575\n",
      "iteraciones = 3\n",
      "lambda = 500.003576496575\n",
      "t = 0.09472964724938720549 [s]\n"
     ]
    }
   ],
   "source": [
    "dominante = max(np.linalg.eigvals(abs(A1000)).real)\n",
    "print(\"Valor dominante buscado: %.12f\"%dominante)\n",
    "\n",
    "lam, u, k = rqi_convergencia(A1000, x1000, dominante, 1e-10, verbose=False)\n",
    "print(\"iteraciones = %d\"%k)\n",
    "print(\"lambda = %.12f\"%lam)\n",
    "\n",
    "wrapped = wrapper(rqi_convergencia, A1000, x1000, dominante, 1e-10, verbose=False)\n",
    "t1000RQI2 = timeit.repeat(wrapped, repeat=100, number=1)\n",
    "print(\"t = %.20f [s]\"%np.mean(t1000RQI2))"
   ]
  },
  {
   "cell_type": "markdown",
   "metadata": {
    "deletable": true,
    "editable": true
   },
   "source": [
    "#### Unshifted QR"
   ]
  },
  {
   "cell_type": "code",
   "execution_count": 207,
   "metadata": {
    "collapsed": true,
    "deletable": true,
    "editable": true
   },
   "outputs": [],
   "source": [
    "def unshifted_qr_convergencia(A, real, error, verbose=False):\n",
    "    m,n = A.shape\n",
    "    Q = np.identity(m)\n",
    "    Qbar = Q\n",
    "    R = A\n",
    "    j = 0\n",
    "    while True:\n",
    "    #for j in range(k):\n",
    "        Q, R = np.linalg.qr(np.dot(R,Q))\n",
    "        Qbar = np.dot(Qbar, Q)\n",
    "        lam = max(abs(np.diag(np.dot(R, Q))))\n",
    "        if verbose: print(\"k=%d, lambda=%s\"%(j,str(lam)))\n",
    "        j+=1\n",
    "        if abs(lam - real) <= error:\n",
    "            break\n",
    "    return (lam, Qbar, j)"
   ]
  },
  {
   "cell_type": "markdown",
   "metadata": {
    "deletable": true,
    "editable": true
   },
   "source": [
    "$A_{10x10}$"
   ]
  },
  {
   "cell_type": "code",
   "execution_count": 211,
   "metadata": {
    "collapsed": false,
    "deletable": true,
    "editable": true
   },
   "outputs": [
    {
     "name": "stdout",
     "output_type": "stream",
     "text": [
      "Valor dominante buscado: 5.117613398513\n",
      "iteraciones = 12\n",
      "lambda = 5.117613398459\n",
      "t = 0.00066641412079625293 [s]\n"
     ]
    }
   ],
   "source": [
    "dominante = max(np.linalg.eigvals(abs(A10)).real)\n",
    "print(\"Valor dominante buscado: %.12f\"%dominante)\n",
    "\n",
    "lam, u, k = unshifted_qr_convergencia(A10, dominante, 1e-10, verbose=False)\n",
    "print(\"iteraciones = %d\"%k)\n",
    "print(\"lambda = %.12f\"%lam)\n",
    "\n",
    "wrapped = wrapper(unshifted_qr_convergencia, A10, dominante, 1e-10, verbose=False)\n",
    "t10QR2 = timeit.repeat(wrapped, repeat=5000, number=1)\n",
    "print(\"t = %.20f [s]\"%np.mean(t10QR2))"
   ]
  },
  {
   "cell_type": "markdown",
   "metadata": {
    "deletable": true,
    "editable": true
   },
   "source": [
    "$A_{100x100}$"
   ]
  },
  {
   "cell_type": "code",
   "execution_count": 213,
   "metadata": {
    "collapsed": false,
    "deletable": true,
    "editable": true
   },
   "outputs": [
    {
     "name": "stdout",
     "output_type": "stream",
     "text": [
      "Valor dominante buscado: 50.020401818324\n",
      "iteraciones = 9\n",
      "lambda = 50.020401818305\n",
      "t = 0.00625224242299373106 [s]\n"
     ]
    }
   ],
   "source": [
    "dominante = max(np.linalg.eigvals(abs(A100)).real)\n",
    "print(\"Valor dominante buscado: %.12f\"%dominante)\n",
    "\n",
    "lam, u, k = unshifted_qr_convergencia(A100, dominante, 1e-10, verbose=False)\n",
    "print(\"iteraciones = %d\"%k)\n",
    "print(\"lambda = %.12f\"%lam)\n",
    "\n",
    "wrapped = wrapper(unshifted_qr_convergencia, A100, dominante, 1e-10, verbose=False)\n",
    "t100QR2 = timeit.repeat(wrapped, repeat=500, number=1)\n",
    "print(\"t = %.20f [s]\"%np.mean(t100QR2))"
   ]
  },
  {
   "cell_type": "markdown",
   "metadata": {
    "deletable": true,
    "editable": true
   },
   "source": [
    "$A_{500x500}$"
   ]
  },
  {
   "cell_type": "code",
   "execution_count": 217,
   "metadata": {
    "collapsed": false,
    "deletable": true,
    "editable": true
   },
   "outputs": [
    {
     "name": "stdout",
     "output_type": "stream",
     "text": [
      "Valor dominante buscado: 249.765919503668\n",
      "iteraciones = 6\n",
      "lambda = 249.765919503576\n",
      "t = 0.20155431255872827134 [s]\n"
     ]
    }
   ],
   "source": [
    "dominante = max(np.linalg.eigvals(abs(A500)).real)\n",
    "print(\"Valor dominante buscado: %.12f\"%dominante)\n",
    "\n",
    "lam, u, k = unshifted_qr_convergencia(A500, dominante, 1e-10, verbose=False)\n",
    "print(\"iteraciones = %d\"%k)\n",
    "print(\"lambda = %.12f\"%lam)\n",
    "\n",
    "wrapped = wrapper(unshifted_qr_convergencia, A500, dominante, 1e-10, verbose=False)\n",
    "t500QR2 = timeit.repeat(wrapped, repeat=50, number=1)\n",
    "print(\"t = %.20f [s]\"%np.mean(t500QR2))"
   ]
  },
  {
   "cell_type": "markdown",
   "metadata": {
    "deletable": true,
    "editable": true
   },
   "source": [
    "$A_{1000x1000}$"
   ]
  },
  {
   "cell_type": "code",
   "execution_count": 216,
   "metadata": {
    "collapsed": false,
    "deletable": true,
    "editable": true
   },
   "outputs": [
    {
     "name": "stdout",
     "output_type": "stream",
     "text": [
      "Valor dominante buscado: 500.003576496575\n",
      "iteraciones = 7\n",
      "lambda = 500.003576496569\n",
      "t = 1.53802728282444145513 [s]\n"
     ]
    }
   ],
   "source": [
    "dominante = max(np.linalg.eigvals(abs(A1000)).real)\n",
    "print(\"Valor dominante buscado: %.12f\"%dominante)\n",
    "\n",
    "lam, u, k = unshifted_qr_convergencia(A1000, dominante, 1e-10, verbose=False)\n",
    "print(\"iteraciones = %d\"%k)\n",
    "print(\"lambda = %.12f\"%lam)\n",
    "\n",
    "wrapped = wrapper(unshifted_qr_convergencia, A1000, dominante, 1e-10, verbose=False)\n",
    "t1000QR2 = timeit.repeat(wrapped, repeat=10, number=1)\n",
    "print(\"t = %.20f [s]\"%np.mean(t1000QR2))"
   ]
  },
  {
   "cell_type": "markdown",
   "metadata": {
    "deletable": true,
    "editable": true
   },
   "source": [
    "#### Graficando:"
   ]
  },
  {
   "cell_type": "code",
   "execution_count": 219,
   "metadata": {
    "collapsed": false,
    "deletable": true,
    "editable": true
   },
   "outputs": [
    {
     "data": {
      "image/png": "[encoded data removed]",
      "text/plain": [
       "<matplotlib.figure.Figure at 0x54f4190>"
      ]
     },
     "metadata": {},
     "output_type": "display_data"
    }
   ],
   "source": [
    "x = [10,100,500,1000]\n",
    "yPI2 = [np.mean(t10PI2), np.mean(t100PI2), np.mean(t500PI2), np.mean(t1000PI2)]\n",
    "yRQI2 = [np.mean(t10RQI2), np.mean(t100RQI2), np.mean(t500RQI2), np.mean(t1000RQI2)]\n",
    "yQR2 = [np.mean(t10QR2), np.mean(t100QR2), np.mean(t500QR2), np.mean(t1000QR2)]\n",
    "\n",
    "plt.semilogy(x,yPI2, \"b-\", label=\"PI\")\n",
    "plt.semilogy(x,yRQI2, \"r-\", label=\"RQI\")\n",
    "plt.semilogy(x,yQR2, \"k-\", label=\"QR\")\n",
    "\n",
    "plt.xlabel(\"dimesión\")\n",
    "plt.ylabel(\"tiempo [s]\")\n",
    "plt.legend()\n",
    "plt.grid(True)\n",
    "plt.show()"
   ]
  },
  {
   "cell_type": "markdown",
   "metadata": {
    "deletable": true,
    "editable": true
   },
   "source": [
    "## 4)"
   ]
  },
  {
   "cell_type": "markdown",
   "metadata": {
    "deletable": true,
    "editable": true
   },
   "source": [
    "Ambos gráficos tienen una estructura bastante similar, evidenciando por ejemplo, que cada iteración de PI demora considerablemente menos tiempo que RQI ($\\approx$ 1 orden de magnitud) y que unshifted QR ($\\approx$ 2 ordenes de magnitud) y sin embargo, viendo los resultados, los 3 algoritmos requieren de una similar cantidad de iteraciones para encontrar un resultado dentro del error esperado, por lo que finalmente encuentra el resultado de PI en un tiempo considerablemente menor a los otros 2 algoritmos, haciendolo el más rapido."
   ]
  },
  {
   "cell_type": "markdown",
   "metadata": {
    "deletable": true,
    "editable": true
   },
   "source": [
    "# Pregunta 3.2\n",
    "## Crecimiento exponencial\n",
    "\n",
    "## 1)"
   ]
  },
  {
   "cell_type": "markdown",
   "metadata": {
    "deletable": true,
    "editable": true
   },
   "source": [
    "Siguiendo la explicación entregada en el enunciado de la pregunta, $ P_{n+1} = K\\,P_n $ puede extenderse en términos de A y x como $ x_{n+1} = A\\,x_n $. Luego,\n",
    "\n",
    "$$ x_n = A^{n}x_0 , \\mbox{ }n=1,2,3, \\ldots$$"
   ]
  },
  {
   "cell_type": "code",
   "execution_count": 88,
   "metadata": {
    "collapsed": false,
    "deletable": true,
    "editable": true
   },
   "outputs": [],
   "source": [
    "def X(A, n, x0):\n",
    "    return np.dot(np.linalg.matrix_power(A,n), x0)"
   ]
  },
  {
   "cell_type": "code",
   "execution_count": 91,
   "metadata": {
    "collapsed": false,
    "deletable": true,
    "editable": true
   },
   "outputs": [
    {
     "name": "stdout",
     "output_type": "stream",
     "text": [
      "A =\n",
      " [[ 1.5   2.  ]\n",
      " [ 0.08  0.  ]]\n",
      "\n",
      "x0 = [ 100.  100.]\n",
      "x1 = [ 350.    8.]\n",
      "x2 = [ 541.   28.]\n",
      "x3 = [ 867.5    43.28]\n",
      "x4 = [ 1387.81    69.4 ]\n",
      "x5 = [ 2220.515    111.0248]\n",
      "x6 = [ 3552.8221   177.6412]\n",
      "x7 = [ 5684.51555    284.225768]\n",
      "x8 = [ 9095.224861   454.761244]\n",
      "x9 = [ 14552.3597795     727.61798888]\n",
      "x10 = [ 23283.77564701   1164.18878236]\n"
     ]
    }
   ],
   "source": [
    "A = np.array([[1.5,2.],[0.08,0.]])\n",
    "x0 = np.array([100.,100.])\n",
    "print(\"A =\\n\",A)\n",
    "print(\"\\nx0 =\",x0)\n",
    "\n",
    "for i in range(1,11):\n",
    "    print(\"x%d = %s\"%(i, str(X(A, i, x0))))"
   ]
  },
  {
   "cell_type": "markdown",
   "metadata": {
    "deletable": true,
    "editable": true
   },
   "source": [
    "Ahora, calculando el valor propio dominante con Power Iteration:"
   ]
  },
  {
   "cell_type": "code",
   "execution_count": 124,
   "metadata": {
    "collapsed": false,
    "deletable": true,
    "editable": true
   },
   "outputs": [
    {
     "name": "stdout",
     "output_type": "stream",
     "text": [
      "lambda = 1.5999999999999999\n",
      "v (vector propio dominante) = [ 0.99875234  0.04993762]\n"
     ]
    }
   ],
   "source": [
    "x = np.array([1.,1.])\n",
    "lam, v = power_iteration(A, x, 20, verbose=False)\n",
    "print(\"lambda = {0}\".format(lam))\n",
    "print(\"v (vector propio dominante) = {0}\".format(v))"
   ]
  },
  {
   "cell_type": "markdown",
   "metadata": {
    "deletable": true,
    "editable": true
   },
   "source": [
    "Entonces el valor propio dominante de la matriz de Leslie es aproximadamente $\\lambda = 1.6$.\n",
    "Analizando los resultados obtenidos, es posible darse cuenta de que la población en cada clase de edad aumenta linealmente, siendo este aumento el producto de la población con el valor propio dominante de la matriz de Leslie, es decir, \n",
    "\n",
    "$$ x_{n+1} \\approx \\lambda\\,x_n $$"
   ]
  },
  {
   "cell_type": "markdown",
   "metadata": {
    "deletable": true,
    "editable": true
   },
   "source": [
    "Esta relación es más precisa a medida que pasa el tiempo, por ejemplo para $x_4$ se tiene $1387.81 \\times 1.6 = 2220.496$ y $69.4 \\times 1.6 = 111.04$, aproximadamente $x_5$."
   ]
  },
  {
   "cell_type": "markdown",
   "metadata": {
    "deletable": true,
    "editable": true
   },
   "source": [
    "Además, la proporción en cada una de las clases es constante, y esta proporción viene dada por el vector propio dominante asociado, tal como sigue:\n",
    "Teniendo el vector propio dominante v:"
   ]
  },
  {
   "cell_type": "code",
   "execution_count": 125,
   "metadata": {
    "collapsed": false,
    "deletable": true,
    "editable": true
   },
   "outputs": [
    {
     "name": "stdout",
     "output_type": "stream",
     "text": [
      "v = [ 0.99875234  0.04993762]\n"
     ]
    }
   ],
   "source": [
    "print(\"v =\", v)"
   ]
  },
  {
   "cell_type": "markdown",
   "metadata": {
    "collapsed": false,
    "deletable": true,
    "editable": true
   },
   "source": [
    "Aproximando los valores para facilitar la explicación, (v = [1, 0.05]) este vector representa la relación 1:0.05 y equivale a la relación entre la población de la clase 1 y la 2 para cada instante de tiempo. Comprobando,"
   ]
  },
  {
   "cell_type": "code",
   "execution_count": 126,
   "metadata": {
    "collapsed": false,
    "deletable": true,
    "editable": true
   },
   "outputs": [
    {
     "name": "stdout",
     "output_type": "stream",
     "text": [
      "x3 = [ 867.5    43.28] --> 43.28 / 867.5 = 0.0498904899135\n",
      "\n",
      "x6 = [ 3552.8221   177.6412] --> 177.6412 / 3552.8221 = 0.0500000267393\n",
      "\n",
      "x10 = [ 23283.77564701   1164.18878236] --> 1164.18878236 / 23283.775647 = 0.0500000000004\n"
     ]
    }
   ],
   "source": [
    "x3 = X(A, 3, x0)\n",
    "print(\"x3 =\",x3, \"-->\", x3[1],\"/\",x3[0],\"=\",x3[1]/x3[0])\n",
    "\n",
    "x6 = X(A, 6, x0)\n",
    "print(\"\\nx6 =\",x6, \"-->\", x6[1],\"/\",x6[0],\"=\",x6[1]/x6[0])\n",
    "\n",
    "x10 = X(A, 10, x0)\n",
    "print(\"\\nx10 =\",x10, \"-->\", x10[1],\"/\",x10[0],\"=\",x10[1]/x10[0])"
   ]
  },
  {
   "cell_type": "markdown",
   "metadata": {
    "deletable": true,
    "editable": true
   },
   "source": [
    "Cumpliendo la relación determinada por el vector propio dominante de la matriz de Leslie."
   ]
  },
  {
   "cell_type": "markdown",
   "metadata": {
    "deletable": true,
    "editable": true
   },
   "source": [
    "## 2)"
   ]
  },
  {
   "cell_type": "code",
   "execution_count": 128,
   "metadata": {
    "collapsed": false,
    "deletable": true,
    "editable": true
   },
   "outputs": [
    {
     "data": {
      "image/png": "[encoded data removed]",
      "text/plain": [
       "<matplotlib.figure.Figure at 0x7bbc990>"
      ]
     },
     "metadata": {},
     "output_type": "display_data"
    }
   ],
   "source": [
    "it = list(range(1,8))\n",
    "dist = [np.linalg.norm(v - X(A, i, x0)/np.linalg.norm(X(A, i, x0))) for i in it]\n",
    "\n",
    "##from scipy.interpolate import CubicSpline\n",
    "##cs = CubicSpline(it, dist)\n",
    "##it2 = np.linspace(1,8,1000)\n",
    "##plt.plot(it2, cs(it2), \"r-\")\n",
    "\n",
    "plt.scatter(it,dist)\n",
    "plt.plot(it, dist)\n",
    "\n",
    "plt.grid(True)\n",
    "plt.xlabel(\"iteraciones (tiempo)\")\n",
    "plt.ylabel(\"distancia\")\n",
    "plt.show()"
   ]
  },
  {
   "cell_type": "markdown",
   "metadata": {
    "deletable": true,
    "editable": true
   },
   "source": [
    "El gráfico indica que la distancia disminuye rapidamente tendiendo a cero al pasar el tiempo, lo cual demuestra lo expuesto en la pregunta anterior, ya que la relación tanto del valor como del vector propio van siendo cada vez más precisas al pasar el tiempo o iteraciones en los problemas de Crecimiento exponencial."
   ]
  },
  {
   "cell_type": "markdown",
   "metadata": {
    "deletable": true,
    "editable": true
   },
   "source": [
    "# Conclusiones\n",
    "\n",
    "Los valores y vectores propios pueden ser herrramientas de gran utilidad en el estudio y resolución de problemas reales analizados a través de matrices, como lo fue el caso del problema de crecimiento exponencial, aportando importante información para predicciones sobre su comportamiento.<br>\n",
    "Además, si bien se encontró que PI es más rapido que los demás, unshifted QR tiene la ventaja de no necesitar un valor inicial."
   ]
  },
  {
   "cell_type": "markdown",
   "metadata": {
    "deletable": true,
    "editable": true
   },
   "source": [
    "# Referencias\n",
    "\n",
    "* timeit: http://pythoncentral.io/time-a-python-function/\n",
    "* Matriz de Leslie: http://www4.ujaen.es/~ajlopez/asignat/fm_ambientales/practi/leslie.pdf\n",
    "* PI y RQI: notebooks vistos en clase.\n",
    "* QR: Análisis Numérico - Timothy Sauer (2da Edición), Capítulo 12, página 540."
   ]
  }
 ],
 "metadata": {
  "kernelspec": {
   "display_name": "Python 3",
   "language": "python",
   "name": "python3"
  },
  "language_info": {
   "codemirror_mode": {
    "name": "ipython",
    "version": 3
   },
   "file_extension": ".py",
   "mimetype": "text/x-python",
   "name": "python",
   "nbconvert_exporter": "python",
   "pygments_lexer": "ipython3",
   "version": "3.5.1"
  }
 },
 "nbformat": 4,
 "nbformat_minor": 2
}
