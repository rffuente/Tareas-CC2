{
 "cells": [
  {
   "cell_type": "markdown",
   "metadata": {},
   "source": [
    "<center>\n",
    "    <h1> ILI286 - Computación Científica II </h1>\n",
    "    <h2> Tarea 2 </h2>\n",
    "    <h2> [S]cientific [C]omputing [T]eam </h2>\n",
    "    <h4>Diego Eduardo Escobar Boehmwald - 2973593-K</h4>\n",
    "    <h4>diego.escobarb@alumnos.usm.cl</h4>\n",
    "</center>\n",
    "\n",
    "_Marzo 2017_"
   ]
  },
  {
   "cell_type": "markdown",
   "metadata": {},
   "source": [
    "<h1>Introducción</h1>"
   ]
  },
  {
   "cell_type": "markdown",
   "metadata": {},
   "source": [
    "Durante este laboratorio se desarrollan varios codigos los cuales familiarizan al estudiante con las principales metodos para analizar un problema, estos ya sean para obtener tanto sus valores propios y vectores propios, y ademas como aplicarle a distintos tipos de problemas."
   ]
  },
  {
   "cell_type": "markdown",
   "metadata": {},
   "source": [
    "<h1>Codigo</h1>"
   ]
  },
  {
   "cell_type": "markdown",
   "metadata": {},
   "source": [
    "<h1>3.1 1) </h1>"
   ]
  },
  {
   "cell_type": "code",
   "execution_count": 1,
   "metadata": {
    "collapsed": false
   },
   "outputs": [],
   "source": [
    "import matplotlib.pyplot as plt\n",
    "%matplotlib inline\n",
    "import timeit\n",
    "import numpy as np\n",
    "from sympy import *\n",
    "import scipy as sp\n",
    "from numpy import linalg as LA\n",
    "from numpy.linalg import norm, solve"
   ]
  },
  {
   "cell_type": "markdown",
   "metadata": {},
   "source": [
    "Se realiza la creaciòn de una matriz con valores propios conocidos de nxn "
   ]
  },
  {
   "cell_type": "code",
   "execution_count": 100,
   "metadata": {
    "collapsed": true
   },
   "outputs": [],
   "source": [
    "n=3"
   ]
  },
  {
   "cell_type": "code",
   "execution_count": 101,
   "metadata": {
    "collapsed": false
   },
   "outputs": [
    {
     "data": {
      "text/plain": [
       "array([[ 0.5488135 ,  0.71518937,  0.60276338],\n",
       "       [ 0.54488318,  0.4236548 ,  0.64589411],\n",
       "       [ 0.43758721,  0.891773  ,  0.96366276]])"
      ]
     },
     "execution_count": 101,
     "metadata": {},
     "output_type": "execute_result"
    }
   ],
   "source": [
    "np.random.seed(0)\n",
    "M1=np.random.rand(n,n)\n",
    "M1"
   ]
  },
  {
   "cell_type": "code",
   "execution_count": 102,
   "metadata": {
    "collapsed": true
   },
   "outputs": [],
   "source": [
    "q, r = np.linalg.qr(M1)"
   ]
  },
  {
   "cell_type": "code",
   "execution_count": 103,
   "metadata": {
    "collapsed": false
   },
   "outputs": [
    {
     "data": {
      "text/plain": [
       "array([[ 0.25      ,  0.        ,  0.        ],\n",
       "       [ 0.        ,  0.16666667,  0.        ],\n",
       "       [ 0.        ,  0.        ,  0.125     ]])"
      ]
     },
     "execution_count": 103,
     "metadata": {},
     "output_type": "execute_result"
    }
   ],
   "source": [
    "D=np.zeros((n, n))\n",
    "for x in range (0, n):\n",
    "    D[x][x]=(1/(2*(x+1)+2))\n",
    "D"
   ]
  },
  {
   "cell_type": "code",
   "execution_count": 104,
   "metadata": {
    "collapsed": false
   },
   "outputs": [
    {
     "data": {
      "text/plain": [
       "array([[ 0.17270887,  0.04667872,  0.03881276],\n",
       "       [ 0.04667872,  0.18912523,  0.01725765],\n",
       "       [ 0.03881276,  0.01725765,  0.17983257]])"
      ]
     },
     "execution_count": 104,
     "metadata": {},
     "output_type": "execute_result"
    }
   ],
   "source": [
    "B= np.dot(np.dot(q, D),np.transpose(q))\n",
    "x = np.zeros(n)\n",
    "x[0] = 1\n",
    "B"
   ]
  },
  {
   "cell_type": "markdown",
   "metadata": {},
   "source": [
    "Se implementa los tres metodos vistos en clases para realizar el laboratorio"
   ]
  },
  {
   "cell_type": "markdown",
   "metadata": {},
   "source": [
    "<h1>POWER ITERATION</h1>"
   ]
  },
  {
   "cell_type": "code",
   "execution_count": 105,
   "metadata": {
    "collapsed": true
   },
   "outputs": [],
   "source": [
    "def power_iteration(A, x, k, verbose=False):\n",
    "    if verbose: print(\"Power Iteration Method\\n%s\"%('='*80))\n",
    "    for j in range(k):\n",
    "        u = x/norm(x)\n",
    "        x = np.dot(A, u)\n",
    "        lam = np.dot(u, x) #not really necessary to compute it at each iteration\n",
    "        if verbose: print(\"k=%d, lambda=%+.3f, u=%s\"%(j,lam,str(u.T)))\n",
    "    u = x/norm(x)\n",
    "    if verbose: print(\"k=%d, lambda=%+.3f, u=%s\\n\"%(j+1,lam,str(u.T)))\n",
    "    return (lam, u)   "
   ]
  },
  {
   "cell_type": "code",
   "execution_count": 106,
   "metadata": {
    "collapsed": false
   },
   "outputs": [
    {
     "name": "stdout",
     "output_type": "stream",
     "text": [
      "lambda = 0.2499991365279694\n",
      "v (dominant eigenvector) = [ 0.61862269  0.61218479  0.49247919]\n"
     ]
    }
   ],
   "source": [
    "lam, u = power_iteration(B, x, 10)\n",
    "print(\"lambda = {0}\".format(lam))\n",
    "print(\"v (dominant eigenvector) = {0}\".format(u))"
   ]
  },
  {
   "cell_type": "markdown",
   "metadata": {},
   "source": [
    "<h1>Rayleigh Quotient Iteration</h1>"
   ]
  },
  {
   "cell_type": "code",
   "execution_count": 107,
   "metadata": {
    "collapsed": true
   },
   "outputs": [],
   "source": [
    "def rqi(A, x, k, verbose=False):\n",
    "    if verbose: print(\"Rayleigh Quotient Iteration\\n%s\"%('='*80))\n",
    "    for j in range(k):\n",
    "        u = x/norm(x)\n",
    "        lam = np.dot(u.T, np.dot(A, u))\n",
    "        try:\n",
    "            x = solve(A -lam*np.eye(*A.shape), u)\n",
    "        except numpy.linalg.LinAlgError:\n",
    "            break\n",
    "        if verbose: print(\"k=%d, lambda=%+.3f, u=%s\"%(j,lam,str(u.T)))\n",
    "    u = x/norm(x)\n",
    "    lam = float(np.dot(u.T, np.dot(A, u)))\n",
    "    if verbose: print(\"k=%d, lambda=%+.3f, u=%s\\n\"%(j+1,lam,str(u.T)))\n",
    "    return (lam, u)"
   ]
  },
  {
   "cell_type": "code",
   "execution_count": 108,
   "metadata": {
    "collapsed": false
   },
   "outputs": [
    {
     "name": "stdout",
     "output_type": "stream",
     "text": [
      "Rayleigh Quotient Iteration\n",
      "================================================================================\n",
      "k=0, lambda=+0.173, u=[ 1.  0.  0.]\n",
      "k=1, lambda=+0.150, u=[-0.43258348  0.80664446  0.40273595]\n",
      "k=2, lambda=+0.131, u=[ 0.79507009 -0.14648844 -0.58856154]\n",
      "k=3, lambda=+0.125, u=[-0.78212713  0.50571453  0.36404666]\n",
      "k=4, lambda=+0.125, u=[ 0.78607648 -0.46137734 -0.41135716]\n",
      "k=5, lambda=+0.125, u=[-0.7860778   0.46155968  0.41115004]\n",
      "k=6, lambda=+0.125, u=[ 0.7860778  -0.46155968 -0.41115004]\n",
      "k=7, lambda=+0.125, u=[ 0.7860778  -0.46155968 -0.41115004]\n",
      "k=8, lambda=+0.125, u=[-0.7860778   0.46155968  0.41115004]\n",
      "k=9, lambda=+0.125, u=[-0.7860778   0.46155968  0.41115004]\n",
      "k=10, lambda=+0.125, u=[-0.7860778   0.46155968  0.41115004]\n",
      "\n",
      "lambda = 0.125\n",
      "v = [-0.7860778   0.46155968  0.41115004]\n"
     ]
    }
   ],
   "source": [
    "# Testing algorithm\n",
    "lam, v = rqi(B, x, k=10, verbose=True)\n",
    "print(\"lambda = {0}\".format(lam))\n",
    "print(\"v = {0}\".format(v))"
   ]
  },
  {
   "cell_type": "markdown",
   "metadata": {},
   "source": [
    "<h1>Inverse Power Iteration</h1>"
   ]
  },
  {
   "cell_type": "code",
   "execution_count": 110,
   "metadata": {
    "collapsed": true
   },
   "outputs": [],
   "source": [
    "def inverse_power_iteration(A, x, s, k, verbose=False):\n",
    "    if verbose: print(\"Inverse Power Iteration Method\\n%s\"%('='*80))\n",
    "    As = A - s*np.eye(*A.shape)\n",
    "    for j in range(k):\n",
    "        u = x/norm(x)\n",
    "        x = solve(As, u)\n",
    "        lam = np.dot(u.T, x)\n",
    "        if verbose: print(\"k=%d, lambda=%+.3f, u=%s\"%(j,1./lam+s,str(u.T)))\n",
    "    u = x/norm(x)\n",
    "    if verbose: print(\"k=%d, lambda=%+.3f, u=%s\\n\"%(j+1,1./lam+s,str(u.T)))\n",
    "    return (1./lam+s, u)"
   ]
  },
  {
   "cell_type": "code",
   "execution_count": 111,
   "metadata": {
    "collapsed": false
   },
   "outputs": [
    {
     "name": "stdout",
     "output_type": "stream",
     "text": [
      "lambda = 0.2500000000000001\n",
      "v = [ 0.617629    0.61320586  0.49245609]\n"
     ]
    }
   ],
   "source": [
    "lam, u = inverse_power_iteration(B, x, s=1./4, k=10)\n",
    "print(\"lambda = {0}\".format(lam))\n",
    "print(\"v = {0}\".format(u))"
   ]
  },
  {
   "cell_type": "markdown",
   "metadata": {},
   "source": [
    "<h1>3.1 2) </h1>"
   ]
  },
  {
   "cell_type": "markdown",
   "metadata": {},
   "source": [
    "A continuación se implementan matrices aleatorias con semillas de n=10,100,500 y 1000"
   ]
  },
  {
   "cell_type": "markdown",
   "metadata": {},
   "source": [
    "Declaracion matriz 10x10"
   ]
  },
  {
   "cell_type": "code",
   "execution_count": 112,
   "metadata": {
    "collapsed": false
   },
   "outputs": [],
   "source": [
    "n=10\n",
    "np.random.seed(0)\n",
    "M_10=np.random.rand(n,n)\n",
    "q, r = np.linalg.qr(M_10)\n",
    "D_10=np.zeros((n, n))\n",
    "for x in range (0, n):\n",
    "    D_10[x][x]=(1/(2*(x+1)+2))\n",
    "B_10= np.dot(np.dot(q, D_10),np.transpose(q))\n",
    "x_10 = np.zeros(n)\n",
    "for j in range (0,n):\n",
    "    x_10[j] = 10\n"
   ]
  },
  {
   "cell_type": "markdown",
   "metadata": {},
   "source": [
    "Declaracion matriz 100x100"
   ]
  },
  {
   "cell_type": "code",
   "execution_count": 113,
   "metadata": {
    "collapsed": true
   },
   "outputs": [],
   "source": [
    "n=100\n",
    "np.random.seed(0)\n",
    "M_100=np.random.rand(n,n)\n",
    "q, r = np.linalg.qr(M_100)\n",
    "D_100=np.zeros((n, n))\n",
    "for x in range (0, n):\n",
    "    D_100[x][x]=(1/(2*(x+1)+2))\n",
    "B_100= np.dot(np.dot(q, D_100),np.transpose(q))\n",
    "x_100 = np.zeros(n)\n",
    "for j in range (0,n):\n",
    "    x_100[j] = 10\n"
   ]
  },
  {
   "cell_type": "markdown",
   "metadata": {},
   "source": [
    "Declaracion matriz 500x500"
   ]
  },
  {
   "cell_type": "code",
   "execution_count": 114,
   "metadata": {
    "collapsed": true
   },
   "outputs": [],
   "source": [
    "n=500\n",
    "np.random.seed(0)\n",
    "M_500=np.random.rand(n,n)\n",
    "q, r = np.linalg.qr(M_500)\n",
    "D_500=np.zeros((n, n))\n",
    "for x in range (0, n):\n",
    "    D_500[x][x]=(1/(2*(x+1)+2))\n",
    "B_500= np.dot(np.dot(q, D_500),np.transpose(q))\n",
    "x_500 = np.zeros(n)\n",
    "for j in range (0,n):\n",
    "    x_500[j] = 10\n"
   ]
  },
  {
   "cell_type": "markdown",
   "metadata": {},
   "source": [
    "Declaracion matriz 1000x1000"
   ]
  },
  {
   "cell_type": "code",
   "execution_count": 115,
   "metadata": {
    "collapsed": true
   },
   "outputs": [],
   "source": [
    "n=1000\n",
    "np.random.seed(0)\n",
    "M_1000=np.random.rand(n,n)\n",
    "q, r = np.linalg.qr(M_1000)\n",
    "D_1000=np.zeros((n, n))\n",
    "for x in range (0, n):\n",
    "    D_1000[x][x]=(1/(2*(x+1)+2))\n",
    "B_1000= np.dot(np.dot(q, D_1000),np.transpose(q))\n",
    "x_1000 = np.zeros(n)\n",
    "for j in range (0,n):\n",
    "    x_1000[j] = 10\n"
   ]
  },
  {
   "cell_type": "markdown",
   "metadata": {},
   "source": [
    "----------------------------------------------------------"
   ]
  },
  {
   "cell_type": "code",
   "execution_count": 116,
   "metadata": {
    "collapsed": true
   },
   "outputs": [],
   "source": [
    "R1= np.zeros(4)\n",
    "R2= np.zeros(4)\n",
    "R3= np.zeros(4)"
   ]
  },
  {
   "cell_type": "markdown",
   "metadata": {},
   "source": [
    "Luego se realiza el calculo de tiempos para cada matriz, cada resultado se guarda en un arreglo para luego graficar cada resultado de manera comoda."
   ]
  },
  {
   "cell_type": "markdown",
   "metadata": {},
   "source": [
    "Calculo de tiempos para 10x10"
   ]
  },
  {
   "cell_type": "code",
   "execution_count": 117,
   "metadata": {
    "collapsed": false
   },
   "outputs": [
    {
     "name": "stdout",
     "output_type": "stream",
     "text": [
      "The slowest run took 6.23 times longer than the fastest. This could mean that an intermediate result is being cached.\n",
      "10000 loops, best of 3: 20 µs per loop\n"
     ]
    }
   ],
   "source": [
    "%timeit power_iteration(B_10, x_10, 1)"
   ]
  },
  {
   "cell_type": "code",
   "execution_count": 183,
   "metadata": {
    "collapsed": true
   },
   "outputs": [],
   "source": [
    "R1[0]=20 * 10**(-6)"
   ]
  },
  {
   "cell_type": "code",
   "execution_count": 119,
   "metadata": {
    "collapsed": false
   },
   "outputs": [
    {
     "name": "stdout",
     "output_type": "stream",
     "text": [
      "The slowest run took 40.74 times longer than the fastest. This could mean that an intermediate result is being cached.\n",
      "10000 loops, best of 3: 43 µs per loop\n"
     ]
    }
   ],
   "source": [
    "%timeit inverse_power_iteration(B_10, x_10, s=1./4, k=1)"
   ]
  },
  {
   "cell_type": "code",
   "execution_count": 184,
   "metadata": {
    "collapsed": true
   },
   "outputs": [],
   "source": [
    "R2[0]=43 * 10**(-6)"
   ]
  },
  {
   "cell_type": "code",
   "execution_count": 121,
   "metadata": {
    "collapsed": false
   },
   "outputs": [
    {
     "name": "stdout",
     "output_type": "stream",
     "text": [
      "10000 loops, best of 3: 46.7 µs per loop\n"
     ]
    }
   ],
   "source": [
    "%timeit rqi(B_10, x_10, k=1)"
   ]
  },
  {
   "cell_type": "code",
   "execution_count": 185,
   "metadata": {
    "collapsed": true
   },
   "outputs": [],
   "source": [
    "R3[0]=46.7 * 10**(-6)"
   ]
  },
  {
   "cell_type": "markdown",
   "metadata": {},
   "source": [
    "Calculo de tiempos para 100x100"
   ]
  },
  {
   "cell_type": "code",
   "execution_count": 123,
   "metadata": {
    "collapsed": false
   },
   "outputs": [
    {
     "name": "stdout",
     "output_type": "stream",
     "text": [
      "The slowest run took 5.07 times longer than the fastest. This could mean that an intermediate result is being cached.\n",
      "10000 loops, best of 3: 25.3 µs per loop\n"
     ]
    }
   ],
   "source": [
    "%timeit power_iteration(B_100, x_100, 1)"
   ]
  },
  {
   "cell_type": "code",
   "execution_count": 186,
   "metadata": {
    "collapsed": true
   },
   "outputs": [],
   "source": [
    "R1[1]=25.3* 10**(-6)"
   ]
  },
  {
   "cell_type": "code",
   "execution_count": 125,
   "metadata": {
    "collapsed": false
   },
   "outputs": [
    {
     "name": "stdout",
     "output_type": "stream",
     "text": [
      "The slowest run took 294.24 times longer than the fastest. This could mean that an intermediate result is being cached.\n",
      "1000 loops, best of 3: 224 µs per loop\n"
     ]
    }
   ],
   "source": [
    "%timeit inverse_power_iteration(B_100, x_100, s=1./4, k=1)"
   ]
  },
  {
   "cell_type": "code",
   "execution_count": 187,
   "metadata": {
    "collapsed": true
   },
   "outputs": [],
   "source": [
    "R2[1]=224 * 10**(-6)"
   ]
  },
  {
   "cell_type": "code",
   "execution_count": 127,
   "metadata": {
    "collapsed": false
   },
   "outputs": [
    {
     "name": "stdout",
     "output_type": "stream",
     "text": [
      "The slowest run took 5.77 times longer than the fastest. This could mean that an intermediate result is being cached.\n",
      "1000 loops, best of 3: 236 µs per loop\n"
     ]
    }
   ],
   "source": [
    "%timeit rqi(B_100, x_100, k=1)"
   ]
  },
  {
   "cell_type": "code",
   "execution_count": 188,
   "metadata": {
    "collapsed": true
   },
   "outputs": [],
   "source": [
    "R3[1]=236* 10**(-6)"
   ]
  },
  {
   "cell_type": "markdown",
   "metadata": {},
   "source": [
    "Calculo de tiempos para 500x500"
   ]
  },
  {
   "cell_type": "code",
   "execution_count": 129,
   "metadata": {
    "collapsed": false
   },
   "outputs": [
    {
     "name": "stdout",
     "output_type": "stream",
     "text": [
      "The slowest run took 5.55 times longer than the fastest. This could mean that an intermediate result is being cached.\n",
      "10000 loops, best of 3: 62.1 µs per loop\n"
     ]
    }
   ],
   "source": [
    "%timeit power_iteration(B_500, x_500, 1)"
   ]
  },
  {
   "cell_type": "code",
   "execution_count": 189,
   "metadata": {
    "collapsed": true
   },
   "outputs": [],
   "source": [
    "R1[2]=62.1* 10**(-6)"
   ]
  },
  {
   "cell_type": "code",
   "execution_count": 131,
   "metadata": {
    "collapsed": false
   },
   "outputs": [
    {
     "name": "stdout",
     "output_type": "stream",
     "text": [
      "100 loops, best of 3: 5.8 ms per loop\n"
     ]
    }
   ],
   "source": [
    "%timeit inverse_power_iteration(B_500, x_500, s=1./4, k=1)"
   ]
  },
  {
   "cell_type": "code",
   "execution_count": 190,
   "metadata": {
    "collapsed": true
   },
   "outputs": [],
   "source": [
    "R2[2]=5.8 * 10**(-3)"
   ]
  },
  {
   "cell_type": "code",
   "execution_count": 133,
   "metadata": {
    "collapsed": false
   },
   "outputs": [
    {
     "name": "stdout",
     "output_type": "stream",
     "text": [
      "100 loops, best of 3: 9.28 ms per loop\n"
     ]
    }
   ],
   "source": [
    "%timeit rqi(B_500, x_500, k=1)"
   ]
  },
  {
   "cell_type": "code",
   "execution_count": 191,
   "metadata": {
    "collapsed": true
   },
   "outputs": [],
   "source": [
    "R3[2]=9.28* 10**(-3)"
   ]
  },
  {
   "cell_type": "markdown",
   "metadata": {},
   "source": [
    "Calculo de tiempos para 1000x1000"
   ]
  },
  {
   "cell_type": "code",
   "execution_count": 135,
   "metadata": {
    "collapsed": false
   },
   "outputs": [
    {
     "name": "stdout",
     "output_type": "stream",
     "text": [
      "1000 loops, best of 3: 333 µs per loop\n"
     ]
    }
   ],
   "source": [
    "%timeit power_iteration(B_1000, x_1000, 1)"
   ]
  },
  {
   "cell_type": "code",
   "execution_count": 192,
   "metadata": {
    "collapsed": true
   },
   "outputs": [],
   "source": [
    "R1[3]=333* 10**(-6)"
   ]
  },
  {
   "cell_type": "code",
   "execution_count": 137,
   "metadata": {
    "collapsed": false
   },
   "outputs": [
    {
     "name": "stdout",
     "output_type": "stream",
     "text": [
      "10 loops, best of 3: 30.3 ms per loop\n"
     ]
    }
   ],
   "source": [
    "%timeit inverse_power_iteration(B_1000, x_1000, s=1./4, k=1)"
   ]
  },
  {
   "cell_type": "code",
   "execution_count": 193,
   "metadata": {
    "collapsed": true
   },
   "outputs": [],
   "source": [
    "R2[3]=30.3 * 10**(-3)"
   ]
  },
  {
   "cell_type": "code",
   "execution_count": 139,
   "metadata": {
    "collapsed": false
   },
   "outputs": [
    {
     "name": "stdout",
     "output_type": "stream",
     "text": [
      "10 loops, best of 3: 30.5 ms per loop\n"
     ]
    }
   ],
   "source": [
    "%timeit rqi(B_1000, x_1000, k=1)"
   ]
  },
  {
   "cell_type": "code",
   "execution_count": 194,
   "metadata": {
    "collapsed": true
   },
   "outputs": [],
   "source": [
    "R3[3]=30.5* 10**(-3)"
   ]
  },
  {
   "cell_type": "markdown",
   "metadata": {},
   "source": [
    "<h1>Grafico</h1>"
   ]
  },
  {
   "cell_type": "code",
   "execution_count": 141,
   "metadata": {
    "collapsed": true
   },
   "outputs": [],
   "source": [
    "dimensiones=np.array([10,100,500,1000])"
   ]
  },
  {
   "cell_type": "code",
   "execution_count": 195,
   "metadata": {
    "collapsed": false
   },
   "outputs": [
    {
     "data": {
      "image/png": "[encoded data removed]",
      "text/plain": [
       "<matplotlib.figure.Figure at 0x1d89f77d5c0>"
      ]
     },
     "metadata": {},
     "output_type": "display_data"
    }
   ],
   "source": [
    "plt.figure(figsize=(15,6))\n",
    "plt.title('Power Iteration')\n",
    "# plt.semilogy(R1, dimensiones)\n",
    "plt.semilogy(dimensiones, R1)\n",
    "plt.grid(True)\n",
    "plt.show()"
   ]
  },
  {
   "cell_type": "code",
   "execution_count": 196,
   "metadata": {
    "collapsed": false
   },
   "outputs": [
    {
     "data": {
      "image/png": "[encoded data removed]",
      "text/plain": [
       "<matplotlib.figure.Figure at 0x1d89e268470>"
      ]
     },
     "metadata": {},
     "output_type": "display_data"
    }
   ],
   "source": [
    "plt.figure(figsize=(15,6))\n",
    "plt.title('Inverse Power Iteration')\n",
    "# plt.semilogy(R2, dimensiones)\n",
    "plt.semilogy(dimensiones, R2)\n",
    "plt.grid(True)\n",
    "plt.show()"
   ]
  },
  {
   "cell_type": "code",
   "execution_count": 197,
   "metadata": {
    "collapsed": false
   },
   "outputs": [
    {
     "data": {
      "image/png": "[encoded data removed]",
      "text/plain": [
       "<matplotlib.figure.Figure at 0x1d89fc694a8>"
      ]
     },
     "metadata": {},
     "output_type": "display_data"
    }
   ],
   "source": [
    "plt.figure(figsize=(15,6))\n",
    "plt.title('Rayleigh Quotient Iteration')\n",
    "# plt.semilogy(R3, dimensiones)\n",
    "plt.semilogy(dimensiones, R3)\n",
    "plt.grid(True)\n",
    "plt.show()"
   ]
  },
  {
   "cell_type": "markdown",
   "metadata": {},
   "source": [
    "<h1>3.1 3) </h1>"
   ]
  },
  {
   "cell_type": "markdown",
   "metadata": {},
   "source": [
    "A continuación se crean funciones modificadas de los metodos anteriormente implementados, esto con el fin de que cada funcion devuelva el error esperado solicitado para esta pregunta"
   ]
  },
  {
   "cell_type": "code",
   "execution_count": 145,
   "metadata": {
    "collapsed": true
   },
   "outputs": [],
   "source": [
    "def power_iteration_S(A, x, k, verbose=False):\n",
    "    w, v = LA.eig(A)\n",
    "    if verbose: print(\"Power Iteration Method\\n%s\"%('='*80))\n",
    "    for j in range(k):\n",
    "        u = x/norm(x)\n",
    "        x = np.dot(A, u)\n",
    "        lam = np.dot(u, x) #not really necessary to compute it at each iteration\n",
    "        if verbose: print(\"k=%d, lambda=%+.3f, u=%s\"%(j,lam,str(u.T)))\n",
    "        error=np.absolute(w[0]-lam)\n",
    "        if (error<10**(-10)):\n",
    "            break\n",
    "    u = x/norm(x)\n",
    "    if verbose: print(\"k=%d, lambda=%+.3f, u=%s\\n\"%(j+1,lam,str(u.T)))\n",
    "    return (lam, error, j)   "
   ]
  },
  {
   "cell_type": "code",
   "execution_count": 146,
   "metadata": {
    "collapsed": true
   },
   "outputs": [],
   "source": [
    "power_lam= np.zeros(4)\n",
    "power_it= np.zeros(4)\n",
    "power_error= np.zeros(4)"
   ]
  },
  {
   "cell_type": "code",
   "execution_count": 147,
   "metadata": {
    "collapsed": false
   },
   "outputs": [],
   "source": [
    "power_lam[0], power_error[0], power_it[0] = power_iteration_S(B_10, x_10, 100000)\n",
    "power_lam[1], power_error[1], power_it[1] = power_iteration_S(B_100, x_100, 100000)\n",
    "power_lam[2], power_error[2], power_it[2] = power_iteration_S(B_500, x_500, 100000)\n",
    "power_lam[3], power_error[3], power_it[3] = power_iteration_S(B_1000, x_1000, 100000)"
   ]
  },
  {
   "cell_type": "code",
   "execution_count": 148,
   "metadata": {
    "collapsed": false
   },
   "outputs": [
    {
     "data": {
      "text/plain": [
       "array([ 0.25,  0.25,  0.25,  0.25])"
      ]
     },
     "execution_count": 148,
     "metadata": {},
     "output_type": "execute_result"
    }
   ],
   "source": [
    "power_lam"
   ]
  },
  {
   "cell_type": "code",
   "execution_count": 149,
   "metadata": {
    "collapsed": false
   },
   "outputs": [
    {
     "data": {
      "text/plain": [
       "array([ 23.,  23.,  23.,  23.])"
      ]
     },
     "execution_count": 149,
     "metadata": {},
     "output_type": "execute_result"
    }
   ],
   "source": [
    "power_it"
   ]
  },
  {
   "cell_type": "code",
   "execution_count": 150,
   "metadata": {
    "collapsed": false
   },
   "outputs": [
    {
     "data": {
      "text/plain": [
       "array([  9.69886949e-11,   9.69174740e-11,   8.61213045e-11,\n",
       "         8.69661565e-11])"
      ]
     },
     "execution_count": 150,
     "metadata": {},
     "output_type": "execute_result"
    }
   ],
   "source": [
    "power_error"
   ]
  },
  {
   "cell_type": "code",
   "execution_count": 151,
   "metadata": {
    "collapsed": false
   },
   "outputs": [],
   "source": [
    "def inverse_power_iteration_S(A, x, s, k, verbose=False):\n",
    "    w, v = LA.eig(A)\n",
    "    if verbose: print(\"Inverse Power Iteration Method\\n%s\"%('='*80))\n",
    "    As = A - s*np.eye(*A.shape)\n",
    "    for j in range(k):\n",
    "        u = x/norm(x)\n",
    "        x = solve(As, u)\n",
    "        lam = np.dot(u.T, x)\n",
    "        if verbose: print(\"k=%d, lambda=%+.3f, u=%s\"%(j,1./lam+s,str(u.T)))\n",
    "        error=np.absolute(w[0]-(1./lam+s))\n",
    "        if (error<10**(-10)):\n",
    "            break\n",
    "    u = x/norm(x)\n",
    "    if verbose: print(\"k=%d, lambda=%+.3f, u=%s\\n\"%(j+1,1./lam+s,str(u.T)))\n",
    "    return (1./lam+s, error, j)"
   ]
  },
  {
   "cell_type": "code",
   "execution_count": 152,
   "metadata": {
    "collapsed": true
   },
   "outputs": [],
   "source": [
    "ipower_lam= np.zeros(4)\n",
    "ipower_it= np.zeros(4)\n",
    "ipower_error= np.zeros(4)"
   ]
  },
  {
   "cell_type": "code",
   "execution_count": 153,
   "metadata": {
    "collapsed": false
   },
   "outputs": [],
   "source": [
    "ipower_lam[0], ipower_error[0], ipower_it[0] = inverse_power_iteration_S(B_10, x_10, s=1, k=10000)\n",
    "ipower_lam[1], ipower_error[1], ipower_it[1] = inverse_power_iteration_S(B_100, x_100, s=1, k=10000)\n",
    "ipower_lam[2], ipower_error[2], ipower_it[2] = inverse_power_iteration_S(B_500, x_500, s=1, k=10000)\n",
    "ipower_lam[3], ipower_error[3], ipower_it[3] = inverse_power_iteration_S(B_1000, x_1000, s=1, k=10000)"
   ]
  },
  {
   "cell_type": "code",
   "execution_count": 154,
   "metadata": {
    "collapsed": false
   },
   "outputs": [
    {
     "data": {
      "text/plain": [
       "array([ 88.,  88.,  88.,  88.])"
      ]
     },
     "execution_count": 154,
     "metadata": {},
     "output_type": "execute_result"
    }
   ],
   "source": [
    "ipower_it"
   ]
  },
  {
   "cell_type": "code",
   "execution_count": 155,
   "metadata": {
    "collapsed": false
   },
   "outputs": [
    {
     "data": {
      "text/plain": [
       "array([ 0.25,  0.25,  0.25,  0.25])"
      ]
     },
     "execution_count": 155,
     "metadata": {},
     "output_type": "execute_result"
    }
   ],
   "source": [
    "ipower_lam"
   ]
  },
  {
   "cell_type": "code",
   "execution_count": 156,
   "metadata": {
    "collapsed": false
   },
   "outputs": [
    {
     "data": {
      "text/plain": [
       "array([  9.72503189e-11,   9.71745462e-11,   8.63540350e-11,\n",
       "         8.72040218e-11])"
      ]
     },
     "execution_count": 156,
     "metadata": {},
     "output_type": "execute_result"
    }
   ],
   "source": [
    "ipower_error"
   ]
  },
  {
   "cell_type": "code",
   "execution_count": 157,
   "metadata": {
    "collapsed": true
   },
   "outputs": [],
   "source": [
    "def rqi_S(A, x, k, verbose=False):\n",
    "    w, v = LA.eig(A)\n",
    "    if verbose: print(\"Rayleigh Quotient Iteration\\n%s\"%('='*80))\n",
    "    for j in range(k):\n",
    "        u = x/norm(x)\n",
    "        lam = np.dot(u.T, np.dot(A, u))\n",
    "        try:\n",
    "            x = solve(A -lam*np.eye(*A.shape), u)\n",
    "        except numpy.linalg.LinAlgError:\n",
    "            break\n",
    "        if verbose: print(\"k=%d, lambda=%+.3f, u=%s\"%(j,lam,str(u.T)))\n",
    "        error=np.absolute(w[0]-lam)\n",
    "        if (error<10**(-10)):\n",
    "            break\n",
    "    u = x/norm(x)\n",
    "    lam = float(np.dot(u.T, np.dot(A, u)))\n",
    "    if verbose: print(\"k=%d, lambda=%+.3f, u=%s\\n\"%(j+1,lam,str(u.T)))\n",
    "    return (lam, error, j)"
   ]
  },
  {
   "cell_type": "code",
   "execution_count": 158,
   "metadata": {
    "collapsed": true
   },
   "outputs": [],
   "source": [
    "rqi_lam= np.zeros(4)\n",
    "rqi_it= np.zeros(4)\n",
    "rqi_error= np.zeros(4)"
   ]
  },
  {
   "cell_type": "code",
   "execution_count": 159,
   "metadata": {
    "collapsed": false
   },
   "outputs": [],
   "source": [
    "rqi_lam[0], rqi_error[0], rqi_it[0] = rqi_S(B_10, x_10, 10000)\n",
    "rqi_lam[1], rqi_error[1], rqi_it[1] = rqi_S(B_100, x_100, 10000)\n",
    "rqi_lam[2], rqi_error[2], rqi_it[2] = rqi_S(B_500, x_500, 10000)\n",
    "rqi_lam[3], rqi_error[3], rqi_it[3] = rqi_S(B_1000, x_1000, 10000)"
   ]
  },
  {
   "cell_type": "code",
   "execution_count": 160,
   "metadata": {
    "collapsed": false
   },
   "outputs": [
    {
     "data": {
      "text/plain": [
       "array([ 0.25,  0.25,  0.25,  0.25])"
      ]
     },
     "execution_count": 160,
     "metadata": {},
     "output_type": "execute_result"
    }
   ],
   "source": [
    "rqi_lam"
   ]
  },
  {
   "cell_type": "code",
   "execution_count": 161,
   "metadata": {
    "collapsed": false
   },
   "outputs": [
    {
     "data": {
      "text/plain": [
       "array([  1.23789867e-14,   9.75997061e-13,   5.25546273e-12,\n",
       "         1.22215571e-11])"
      ]
     },
     "execution_count": 161,
     "metadata": {},
     "output_type": "execute_result"
    }
   ],
   "source": [
    "rqi_error"
   ]
  },
  {
   "cell_type": "code",
   "execution_count": 162,
   "metadata": {
    "collapsed": false
   },
   "outputs": [
    {
     "data": {
      "text/plain": [
       "array([ 3.,  3.,  3.,  3.])"
      ]
     },
     "execution_count": 162,
     "metadata": {},
     "output_type": "execute_result"
    }
   ],
   "source": [
    "rqi_it"
   ]
  },
  {
   "cell_type": "markdown",
   "metadata": {},
   "source": [
    "<h1>3.1 4) </h1>"
   ]
  },
  {
   "cell_type": "markdown",
   "metadata": {
    "collapsed": true
   },
   "source": [
    "Se realizaran tres análisis, uno para cada tiempo y al final uno concluyente utilizando ambos criterios."
   ]
  },
  {
   "cell_type": "markdown",
   "metadata": {},
   "source": [
    "Primer análisis:  Analisando los graficos presentados se puede estimar de manera inmediata que el que obtiene peores resultados es sin duda el \"Power iteration\", los otros dos metodos se comportan de manera similar, tambien es necesario mencionar que el resultado de \"Inverse Power Iteration\" depende mucho del \"Shift\" seleccionado, debido a que un shift demasiado lejano puede alentar el algoritmo o bien enfocarse a encontrar otro valor, en este caso no tuvimos problemas debido a que conociamos los valores propios de antemano. En una primera conclusión se estima que tanto \"Inverse Power Iteration\" como \"Rayleigh Quotient Iteration\" poseen comportamientos similares solo viendo los resultados obtenidos."
   ]
  },
  {
   "cell_type": "markdown",
   "metadata": {},
   "source": [
    "Segundo análisis: Se puede apreciar que todos llegan  a salirse de la iteraciòn obteniendo tempranamente el valor propio dominante, sin cambiar la cantidad de iteraciones necesarias lo unico que cambie es el error adjunto a cada metodo, mas notar que existe un metodo que funciona de manera mucho más eficiente y este es  \"Rayleigh Quotient Iteration\", el cual llega al resultado correcto con solo tres iteraciones, de esta manera se considera como el metodo  más apropiado en esta sección del análisis."
   ]
  },
  {
   "cell_type": "markdown",
   "metadata": {},
   "source": [
    "Tomando ambos análisis en cuenta es facil determinar que el metodo eficiente en este problema es \"RQI\", el cual puede encontrar un resultado optimo en muy pocas iteraciones y, a medida que se realizan más iteraciones se demora menos en realizar una gran cantidad de ciclos."
   ]
  },
  {
   "cell_type": "markdown",
   "metadata": {},
   "source": [
    "<h1>3.2 </h1>"
   ]
  },
  {
   "cell_type": "markdown",
   "metadata": {},
   "source": [
    "Se declara la matriz \"A\" indicada en la tarea (Matriz de Leslie para este problema en particular)"
   ]
  },
  {
   "cell_type": "code",
   "execution_count": 163,
   "metadata": {
    "collapsed": false
   },
   "outputs": [],
   "source": [
    "val1= np.zeros((2, 2))\n",
    "val1[0][0]=1.5\n",
    "val1[0][1]=2\n",
    "val1[1][0]=0.08"
   ]
  },
  {
   "cell_type": "code",
   "execution_count": 164,
   "metadata": {
    "collapsed": false
   },
   "outputs": [
    {
     "data": {
      "text/plain": [
       "array([[ 1.5 ,  2.  ],\n",
       "       [ 0.08,  0.  ]])"
      ]
     },
     "execution_count": 164,
     "metadata": {},
     "output_type": "execute_result"
    }
   ],
   "source": [
    "val1"
   ]
  },
  {
   "cell_type": "markdown",
   "metadata": {},
   "source": [
    "Se declara la matriz \"X\" indicada en la tarea "
   ]
  },
  {
   "cell_type": "code",
   "execution_count": 165,
   "metadata": {
    "collapsed": false
   },
   "outputs": [
    {
     "data": {
      "text/plain": [
       "array([[ 100.],\n",
       "       [ 100.]])"
      ]
     },
     "execution_count": 165,
     "metadata": {},
     "output_type": "execute_result"
    }
   ],
   "source": [
    "val2=np.zeros((2, 1))\n",
    "val2[0][0]=100\n",
    "val2[1][0]=100\n",
    "val2"
   ]
  },
  {
   "cell_type": "markdown",
   "metadata": {},
   "source": [
    "Se crea una función con la cual se obtiene  los valores de las siguentes generaciones, esto se obtiene en una función para poder confirmar los valores obtenidos por las expresiones siguentes."
   ]
  },
  {
   "cell_type": "code",
   "execution_count": 166,
   "metadata": {
    "collapsed": true
   },
   "outputs": [],
   "source": [
    "def problema3_2(A, X, n):\n",
    "    resultados_3_1=np.zeros((2, n))\n",
    "    for it in range (n):\n",
    "        X=np.dot(A, X)\n",
    "        resultados_3_1[0][it]=X[0]\n",
    "        resultados_3_1[1][it]=X[1]\n",
    "    return (resultados_3_1)   "
   ]
  },
  {
   "cell_type": "code",
   "execution_count": 167,
   "metadata": {
    "collapsed": false
   },
   "outputs": [
    {
     "data": {
      "text/plain": [
       "array([[  3.50000000e+02,   5.41000000e+02,   8.67500000e+02,\n",
       "          1.38781000e+03,   2.22051500e+03,   3.55282210e+03,\n",
       "          5.68451555e+03,   9.09522486e+03,   1.45523598e+04,\n",
       "          2.32837756e+04],\n",
       "       [  8.00000000e+00,   2.80000000e+01,   4.32800000e+01,\n",
       "          6.94000000e+01,   1.11024800e+02,   1.77641200e+02,\n",
       "          2.84225768e+02,   4.54761244e+02,   7.27617989e+02,\n",
       "          1.16418878e+03]])"
      ]
     },
     "execution_count": 167,
     "metadata": {},
     "output_type": "execute_result"
    }
   ],
   "source": [
    "test = problema3_2(val1, val2, 10)\n",
    "test"
   ]
  },
  {
   "cell_type": "code",
   "execution_count": 168,
   "metadata": {
    "collapsed": false
   },
   "outputs": [
    {
     "data": {
      "text/plain": [
       "array([[ 350.],\n",
       "       [   8.]])"
      ]
     },
     "execution_count": 168,
     "metadata": {},
     "output_type": "execute_result"
    }
   ],
   "source": [
    "np.dot(val1, val2)"
   ]
  },
  {
   "cell_type": "markdown",
   "metadata": {},
   "source": [
    "Las siguentes funciones buscan encontrar lo mismo que la anterior pero de una manera mucho más simplificada."
   ]
  },
  {
   "cell_type": "code",
   "execution_count": 169,
   "metadata": {
    "collapsed": true
   },
   "outputs": [],
   "source": [
    "def problema3_2_2(A, X, n):\n",
    "    B=A\n",
    "    for it in range (n):\n",
    "        A=np.dot(A, B)\n",
    "    C=np.dot(A, X)\n",
    "    return (C)   "
   ]
  },
  {
   "cell_type": "code",
   "execution_count": 170,
   "metadata": {
    "collapsed": false
   },
   "outputs": [
    {
     "data": {
      "text/plain": [
       "array([[ 3552.8221],\n",
       "       [  177.6412]])"
      ]
     },
     "execution_count": 170,
     "metadata": {},
     "output_type": "execute_result"
    }
   ],
   "source": [
    "test2= problema3_2_2(val1,val2,5)\n",
    "test2"
   ]
  },
  {
   "cell_type": "code",
   "execution_count": 171,
   "metadata": {
    "collapsed": true
   },
   "outputs": [],
   "source": [
    "def problema3_2_3(A, X, n):\n",
    "    B=A\n",
    "    resultados_3_1=np.zeros((2, n))\n",
    "    for it in range (n):\n",
    "        A=np.dot(A, B)\n",
    "        D=np.dot(A, X)\n",
    "        resultados_3_1[0][it]=D[0]\n",
    "        resultados_3_1[1][it]=D[1]\n",
    "    return (resultados_3_1, D)   "
   ]
  },
  {
   "cell_type": "code",
   "execution_count": 172,
   "metadata": {
    "collapsed": false
   },
   "outputs": [
    {
     "data": {
      "text/plain": [
       "array([[  5.41000000e+02,   8.67500000e+02,   1.38781000e+03,\n",
       "          2.22051500e+03,   3.55282210e+03,   5.68451555e+03,\n",
       "          9.09522486e+03,   1.45523598e+04,   2.32837756e+04,\n",
       "          3.72540410e+04],\n",
       "       [  2.80000000e+01,   4.32800000e+01,   6.94000000e+01,\n",
       "          1.11024800e+02,   1.77641200e+02,   2.84225768e+02,\n",
       "          4.54761244e+02,   7.27617989e+02,   1.16418878e+03,\n",
       "          1.86270205e+03]])"
      ]
     },
     "execution_count": 172,
     "metadata": {},
     "output_type": "execute_result"
    }
   ],
   "source": [
    "test3, t3= problema3_2_3(val1,val2,10)\n",
    "test3"
   ]
  },
  {
   "cell_type": "markdown",
   "metadata": {},
   "source": [
    "Se obtiene la expresión más sencilla para realizar el problema, este se basa en la sección de crecimiento exponencial y la matriz de Leslie explicado en el enunciado de la tarea"
   ]
  },
  {
   "cell_type": "code",
   "execution_count": 173,
   "metadata": {
    "collapsed": false
   },
   "outputs": [
    {
     "data": {
      "text/plain": [
       "array([[ 23283.77564701],\n",
       "       [  1164.18878236]])"
      ]
     },
     "execution_count": 173,
     "metadata": {},
     "output_type": "execute_result"
    }
   ],
   "source": [
    "np.dot(LA.matrix_power(val1, 10),val2)"
   ]
  },
  {
   "cell_type": "markdown",
   "metadata": {},
   "source": [
    "<h2>Aclarar que luego de los experimentos realizado queda otalmente claro que la población de dos grupos etarios solo aumenta con el tiempo, sin excepciones.</h2>"
   ]
  },
  {
   "cell_type": "markdown",
   "metadata": {},
   "source": [
    "--------------------------------------------------------------------------------------------------------"
   ]
  },
  {
   "cell_type": "markdown",
   "metadata": {},
   "source": [
    "Se realiza \"Power iteration\" en la matriz de Leslie utilizada con anterioridad para encontrar valor propio dominante y vector popio correspondiente al dominante"
   ]
  },
  {
   "cell_type": "code",
   "execution_count": 174,
   "metadata": {
    "collapsed": false
   },
   "outputs": [],
   "source": [
    "random1 = np.zeros(2)\n",
    "random1[0] = 1"
   ]
  },
  {
   "cell_type": "code",
   "execution_count": 175,
   "metadata": {
    "collapsed": false
   },
   "outputs": [
    {
     "name": "stdout",
     "output_type": "stream",
     "text": [
      "lambda = 1.5999999999999999\n",
      "v (dominant eigenvector) = [ 0.99875234  0.04993762]\n"
     ]
    }
   ],
   "source": [
    "lam, u = power_iteration(val1, random1, 100)\n",
    "print(\"lambda = {0}\".format(lam))\n",
    "print(\"v (dominant eigenvector) = {0}\".format(u))"
   ]
  },
  {
   "cell_type": "markdown",
   "metadata": {},
   "source": [
    "Se crea una función que arroja el resultado de la distancia obtenida al comprara los valores normalizados"
   ]
  },
  {
   "cell_type": "code",
   "execution_count": 179,
   "metadata": {
    "collapsed": false
   },
   "outputs": [],
   "source": [
    "def problema3_2_5(val1, val2, u, n):\n",
    "    resultados_3_2=np.zeros(n)\n",
    "    V1=LA.norm(u)\n",
    "    for it in range (n):\n",
    "        V2=LA.norm(np.dot(LA.matrix_power(val1, it),val2))\n",
    "        resultados_3_2[it]=np.absolute(V1-V2)\n",
    "    return resultados_3_2"
   ]
  },
  {
   "cell_type": "code",
   "execution_count": 180,
   "metadata": {
    "collapsed": false
   },
   "outputs": [],
   "source": [
    "test4 = problema3_2_5(val1, val2, u, 10)"
   ]
  },
  {
   "cell_type": "code",
   "execution_count": 181,
   "metadata": {
    "collapsed": false
   },
   "outputs": [
    {
     "data": {
      "text/plain": [
       "array([   140.42135624,    349.09141663,    540.72409952,    867.57895922,\n",
       "         1388.54415407,   2222.2888637 ,   3556.26036019,   5690.61675848,\n",
       "         9105.58679535,  14569.53887438])"
      ]
     },
     "execution_count": 181,
     "metadata": {},
     "output_type": "execute_result"
    }
   ],
   "source": [
    "test4"
   ]
  },
  {
   "cell_type": "code",
   "execution_count": 182,
   "metadata": {
    "collapsed": false
   },
   "outputs": [
    {
     "data": {
      "image/png": "[encoded data removed]",
      "text/plain": [
       "<matplotlib.figure.Figure at 0x1d89dc8ccf8>"
      ]
     },
     "metadata": {},
     "output_type": "display_data"
    }
   ],
   "source": [
    "iteraciones = [1,2,3,4,5,6,7,8,9,10]\n",
    "plt.figure(figsize=(15,6))\n",
    "plt.title('Grafico 3.2')\n",
    "plt.semilogy(iteraciones, test4)\n",
    "plt.grid(True)\n",
    "plt.show()"
   ]
  },
  {
   "cell_type": "markdown",
   "metadata": {},
   "source": [
    "Al graficar el resultado obtenido se puede ver que la distancia solo se incrementa, esto puede debrse a varios motivos, el primero, pensar es que la poblaciòn crece de manera exponencial e indefinida lo cual lleva a que para iteraciones mucho mas grandes del problema a que la poblaciòn tienda al infinito, si bien es correcto que la población siga creciendo a medida que pasa el tiempo, esto debido a que solo con analizar la matriz de Leslie propuesta se puede deducir que con la primera multiplicación \"(1.5 * 100 + 2 * 100)\" se obtiene una población más grande que la inicial. Por lo cual se deduce que en algun momento ocurrio un error de implementación, por la naturaleza del problema se teoriza que la población se estanque en algun momento, o bien que la velocidad de crecimiento disminuya luego de algunas iteraciones."
   ]
  },
  {
   "cell_type": "markdown",
   "metadata": {},
   "source": [
    "<h1>Conclusiones</h1>"
   ]
  },
  {
   "cell_type": "markdown",
   "metadata": {},
   "source": [
    "Dentro de las concluiones más importantes se estima que RQI es el algoritmo más eficiente para este problema en este estudio, notar que cada problema es distito y el metodo más adecuado para analizar cada problema depende en cada caso particular, tambien notar que los resultados obtenidos en este informe no pueden ser confiables totalmente debido al curioso comportamiento del grafico en la ultima seccion. Se puede notar que las dimensiones de matrices no afectan mucho para la obtención de un valor propio en especifico debido a que los metodos analizados convergen rapidamente a un valor, esto claro, asumiendo que no se pida una gran presición al evaluar dicho valor."
   ]
  },
  {
   "cell_type": "markdown",
   "metadata": {},
   "source": [
    "<h1>Referencias</h1>"
   ]
  },
  {
   "cell_type": "markdown",
   "metadata": {},
   "source": [
    "https://docs.scipy.org/doc/scipy-0.17.0/reference/index.html <br>\n",
    "https://docs.scipy.org/doc/numpy/reference/<br>\n",
    "http://matplotlib.org/<br>\n",
    "http://stackoverflow.com/<br>"
   ]
  },
  {
   "cell_type": "code",
   "execution_count": null,
   "metadata": {
    "collapsed": true
   },
   "outputs": [],
   "source": []
  }
 ],
 "metadata": {
  "kernelspec": {
   "display_name": "Python 3",
   "language": "python",
   "name": "python3"
  },
  "language_info": {
   "codemirror_mode": {
    "name": "ipython",
    "version": 3
   },
   "file_extension": ".py",
   "mimetype": "text/x-python",
   "name": "python",
   "nbconvert_exporter": "python",
   "pygments_lexer": "ipython3",
   "version": "3.5.1"
  }
 },
 "nbformat": 4,
 "nbformat_minor": 2
}
