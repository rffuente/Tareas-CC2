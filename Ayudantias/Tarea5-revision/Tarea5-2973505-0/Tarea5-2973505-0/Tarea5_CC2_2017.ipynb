{
 "cells": [
  {
   "cell_type": "markdown",
   "metadata": {},
   "source": [
    "<img src=\"escudo_utfsm.gif\" style=\"float:right;height:100px\">\n",
    "<img src=\"IsotipoDIisocolor.png\" style=\"float:left;height:100px\">\n",
    "<p style=\"font-size:x-large;text-align:center;margin-left:200px;margin-right:200px;\"><b>Tarea 5</b></p>\n",
    "<p style=\"font-size:x-large;text-align:center;margin-left:200px;margin-right:200px;\">ILI286 - Computación Científica II</p>\n",
    "<p style=\"text-align:center;margin-left:200px;margin-right:200px;\">\n",
    "    <b>Alex Arenas Fuentes</b><br>\n",
    "    Rol USM 2973505-0<br>\n",
    "    <a href=\"mailto:alex.arenasf@alumnos.usm.cl\">alex.arenasf@alumnos.usm.cl</a>\n",
    "</p>\n",
    "\n",
    "_Junio 2017_"
   ]
  },
  {
   "cell_type": "markdown",
   "metadata": {},
   "source": [
    "# Tabla de Contenidos\n",
    "* [1.- Objetivos](#obj)\n",
    "* [2.- Introducción](#i)\n",
    "* [3.- Desarrollo y análisis de resultados](#d)\n",
    "* [3.1.- Ecuación de calor en 2D](#heateq)\n",
    "* [3.2.- Aplicación de la ecuación de calor en imágenes](#heateq-image)\n",
    "* [3.3.- Otra aplicación de la ecuación de calor](#revheateq-image)\n",
    "* [4.- Conclusiones](#c)\n",
    "* [4.- Referencias](#r)"
   ]
  },
  {
   "cell_type": "markdown",
   "metadata": {},
   "source": [
    "<div id='obj' />\n",
    "# 1. Objetivos\n",
    "\n",
    "Los objetivos de esta tarea son:\n",
    "\n",
    "* Estudio de las técnicas basadas en diferencias finitas.\n",
    "* Aplicación de diferencias finitas en un problema con 3 dimensiones (2 espaciales y 1 temporal).\n",
    "* Resolución de la ecuación de calor y aplicación en el procesamiento de imágenes."
   ]
  },
  {
   "cell_type": "markdown",
   "metadata": {},
   "source": [
    "<div id='i' />\n",
    "# 2. Introducción\n",
    "\n",
    "Las ecuaciones diferenciales parciales (EDP) permiten modelar diversos problemas del mundo real. \n",
    "\n",
    "La ecuación de calor corresponde a una EDP del tipo parabólico, donde se tiene una componente temporal y una espacial. Estos problemas cuentan con una condición inicial además se sabe lo que sucede en las fronteras de los dominios del espacio.\n",
    "\n",
    "Para conocer el comportamiento del espacio en un instante de tiempo, es necesario conocer lo que sucede en un instante de tiempo anterior en la zona cercana del espacio."
   ]
  },
  {
   "cell_type": "markdown",
   "metadata": {},
   "source": [
    "<div id='d' />\n",
    "# 3. Desarrollo y análisis de resultados"
   ]
  },
  {
   "cell_type": "markdown",
   "metadata": {},
   "source": [
    "Librerías usadas en la tarea"
   ]
  },
  {
   "cell_type": "code",
   "execution_count": 1,
   "metadata": {},
   "outputs": [],
   "source": [
    "# Libraries\n",
    "from __future__ import print_function\n",
    "from ipywidgets import interact, interactive, fixed, interact_manual\n",
    "import ipywidgets as widgets\n",
    "import numpy as np\n",
    "from scipy.misc import factorial\n",
    "import matplotlib.pyplot as plt\n",
    "import matplotlib.patches as patches\n",
    "from matplotlib.patches import Rectangle\n",
    "from IPython.display import display, Latex, Math\n",
    "from mpl_toolkits.mplot3d import Axes3D\n",
    "from PIL import Image\n",
    "import gc"
   ]
  },
  {
   "cell_type": "markdown",
   "metadata": {},
   "source": [
    "<div id='heateq' />\n",
    "# 3.1. Ecuación de calor en 2D (30 pts)\n",
    "\n",
    "Considere la siguiente ecuación diferencial parcial, correspondiente a la ecuación de calor definida en un dominio $(x,y) \\in [0,10]^2$ y $0 < t < T_{\\max}$:\n",
    "\n",
    "\\begin{align}\n",
    "u_t &= \\alpha\\, \\Delta u \\\\\n",
    "c\\cdot u(\\Gamma, t) + (1-c)\\cdot\\dfrac{\\partial u}{\\partial \\mathbf{n}}(\\Gamma,t) &= 0, \\quad t > 0, c \\in (0,1) \\\\\n",
    "u(x,y,0) = f(x,y) &= \\dfrac{x\\,y\\,(x-10)\\,(y-10)}{x+3}, \\quad (x,y) \\in [0,10]^2\n",
    "\\end{align}\n",
    "\n",
    "donde $u(\\Gamma, t)$ es la función $u$ evaluada en la frontera $\\Gamma$ del dominio y $\\dfrac{\\partial u}{\\partial \\mathbf{n}}$ es el gradiente de $u$ producto punto el vector normal $\\mathbf{n}$ apuntando hacia fuera del dominio."
   ]
  },
  {
   "cell_type": "markdown",
   "metadata": {},
   "source": [
    "<b>1) Aplique diferencias finitas en la <i>PDE</i> y expréselo en términos de los índices $i,j,k$ al aplicar un esquema explícito, donde $i$ está relacionado con la discretización de la variable $x$, $j$ está relacionado con la variable $y$ y $k$ está relacionado con el tiempo $t$.</b>"
   ]
  },
  {
   "cell_type": "markdown",
   "metadata": {},
   "source": [
    "\\begin{align}\n",
    "u_t &= \\alpha\\, \\Delta u \\\\\n",
    "\\frac{\\partial u}{\\partial t}(x,y,t) &= \\alpha \\left( \\frac{\\partial^2 u}{\\partial x^2}(x,y,t) + \\frac{\\partial^2 u}{\\partial y^2}(x,y,t) \\right) \\\\\n",
    "\\end{align}\n",
    "\n",
    "Sea \n",
    "\\begin{equation}\n",
    "u(x_i,y_j,t_k)=w_{i,j,k} \\hspace{2cm} t>0, (x,y)\\in[0,10]^2\n",
    "\\end{equation}\n",
    "\n",
    "con\n",
    "\\begin{align}\n",
    "x_i &= i\\Delta x & i=0,1,2,...,N_x \\\\ \n",
    "y_j &= j\\Delta y & j=0,1,2,...,N_y  \\\\\n",
    "t_k &= k\\Delta t & k=0,1,2,...,N_t  \\\\\n",
    "\\end{align}\n",
    "\n",
    "Y $\\Delta x$, $\\Delta y$, $\\Delta t$ parámetros.\n",
    "\n",
    "\n",
    "Además, usando el esquema explícito\n",
    "\\begin{align}\n",
    "\\frac{\\partial u}{\\partial t} (x_i,y_j,t_k) &= \\frac{w_{i,j,k+1}-w_{i,j,k}}{\\Delta t} + O(\\Delta t) \\\\\n",
    "\\frac{\\partial^2 u}{\\partial x^2} (x_i,y_j,t_k) &= \\frac{w_{i+1,j,k}-2w_{i,j,k}+w_{i-1,j,k}}{\\Delta x^2} + O(\\Delta x^2) \\\\\n",
    "\\frac{\\partial^2 u}{\\partial y^2} (x_i,y_j,t_k) &= \\frac{w_{i,j+1,k}-2w_{i,j,k}+w_{i,j-1,k}}{\\Delta y^2} + O(\\Delta y^2) \\\\\n",
    "\\end{align}\n",
    "\n",
    "Por lo tanto, la discretización queda\n",
    "\n",
    "\\begin{align}\n",
    "\\frac{\\partial u}{\\partial t}(x,y,t) &= \\alpha \\left( \\frac{\\partial^2 u}{\\partial x^2}(x,y,t) + \\frac{\\partial^2 u}{\\partial y^2}(x,y,t) \\right) \\\\\n",
    "\\frac{w_{i,j,k+1}-w_{i,j,k}}{\\Delta t} &= \\alpha \\left( \\frac{w_{i+1,j,k}-2w_{i,j,k}+w_{i-1,j,k}}{\\Delta x^2} + \\frac{w_{i,j+1,k}-2w_{i,j,k}+w_{i,j-1,k}}{\\Delta y^2} \\right) \\\\\n",
    "w_{i,j,k+1}-w_{i,j,k} &= \\frac{\\alpha\\Delta t}{\\Delta x^2} \\left( w_{i+1,j,k}-2w_{i,j,k}+w_{i-1,j,k} \\right) + \\frac{\\alpha\\Delta t}{\\Delta y^2} \\left(  w_{i,j+1,k}-2w_{i,j,k}+w_{i,j-1,k} \\right) \\\\\n",
    "\\end{align}\n",
    "\n",
    "Sea\n",
    "\\begin{align}\n",
    "\\tau &= \\frac{\\alpha\\Delta t}{\\Delta x^2}  & \\phi &= \\frac{\\alpha\\Delta t}{\\Delta y^2}  \\\\\n",
    "\\end{align}\n",
    "\n",
    "Finalmente, el tiempo $k+1$ queda\n",
    "\\begin{align}\n",
    "w_{i,j,k+1} &= \\tau \\, w_{i-1,j,k} + \\phi\\, w_{i,j-1,k} + (1-2\\tau -2\\phi) \\, w_{i,j,k} + \\phi \\, w_{i,j+1,k} + \\tau \\, w_{i+1,j,k}  \\\\\n",
    "\\end{align}\n",
    "\n",
    "Además, la condición inicial queda definida por\n",
    "\n",
    "\\begin{align}\n",
    "u(x,y,0) &= \\dfrac{x\\,y\\,(x-10)\\,(y-10)}{x+3}, \\quad (x,y) \\in [0,10]^2 \\\\\n",
    "w_{i,j,0} &= \\dfrac{x_i\\,y_j\\,(x_i-10)\\,(y_j-10)}{x_i+3} \\\\\n",
    "w_{i,j,0} &= \\dfrac{(i\\Delta x)\\,(j\\Delta y)\\,(i\\Delta x-10)\\,(j\\Delta y-10)}{i\\Delta x+3} \n",
    "\\end{align}\n",
    "\n"
   ]
  },
  {
   "cell_type": "markdown",
   "metadata": {},
   "source": [
    "<b>2) Determine el tipo de condición de frontera del problema. Explique como utilizar esta condición y la condición inicial para resolver numéricamente el problema. Además indique qué significa que $c = 0$ y $c = 1$.</b>"
   ]
  },
  {
   "cell_type": "markdown",
   "metadata": {},
   "source": [
    "Las condiciones de frontera se describen en la siguiente ecuación\n",
    "\n",
    "\\begin{align}\n",
    "c\\cdot u(\\Gamma, t) + (1-c)\\cdot\\dfrac{\\partial u}{\\partial \\mathbf{n}}(\\Gamma,t) &= 0, \\quad t > 0, c \\in (0,1) \\\\\n",
    "\\end{align}\n",
    "\n",
    "Y pueden verse en el siguiente gráfico.\n"
   ]
  },
  {
   "cell_type": "code",
   "execution_count": 2,
   "metadata": {},
   "outputs": [
    {
     "data": {
      "image/png": "[encoded data removed]",
      "text/plain": [
       "<matplotlib.figure.Figure at 0x112027a20>"
      ]
     },
     "metadata": {},
     "output_type": "display_data"
    }
   ],
   "source": [
    "fig = plt.figure(figsize=(8,8))\n",
    "\n",
    "# Dibujar dominio\n",
    "currentAxis = plt.gca()\n",
    "currentAxis.add_patch(Rectangle((0, 0), 10, 10, edgecolor='black', fill=False))\n",
    "\n",
    "# Dibujar normales a la frontera\n",
    "soa = np.array([[5, 0, 0, -1],[10,5,1,0],[5, 10, 0, 1],[0, 5, -1, 0]])\n",
    "X, Y, U, V = zip(*soa)\n",
    "currentAxis.quiver(X, Y, U, V, angles='xy', scale_units='xy', scale=1, color=['green','blue','orange','red'])\n",
    "\n",
    "# Dibujar discretización\n",
    "ax = fig.add_subplot(111)\n",
    "for i in range(0,11):\n",
    "    for j in range(0,11):\n",
    "        color = 'black'\n",
    "        if i not in [0,10] and j not in [0,10]:\n",
    "            color = 'white'\n",
    "        ax.scatter(i,j,c=color,edgecolor='black', linewidth='1',s=80)\n",
    "\n",
    "ax.set_xlabel('X')\n",
    "ax.set_ylabel('Y')\n",
    "\n",
    "ax.set_xlim([-2, 12])\n",
    "ax.set_ylim([-2, 12])\n",
    "\n",
    "\n",
    "plt.show()"
   ]
  },
  {
   "cell_type": "markdown",
   "metadata": {},
   "source": [
    "El espació formado por (x,y) es un cuadrado. Se muestra una discretización de puntos para un tiempo $k$ distinto del inicial, donde los puntos negros corresponden a las 4 fronteras con condiciones conocidas. Los puntos blancos no son conocidos y deben calcularse a partir de algunos puntos del tiempo $k-1$.\n",
    "\n",
    "Las 4 flechas corresponden a 4 vectores normales a las fronteras: derecha <span style=\"color:blue\">azul</span> $(1,0)$, arriba <span style=\"color:orange\">naranjo</span> $(0,1)$, izquierda <span style=\"color:red\">rojo</span> $(-1,0)$, abajo <span style=\"color:green\">verde</span> $(0,-1)$.\n",
    "\n",
    "\n"
   ]
  },
  {
   "cell_type": "markdown",
   "metadata": {},
   "source": [
    "Cuando $c=0$, las condiciones de borde son del tipo Neumann, pues quedan en función de la dereivada de $u$\n",
    "\n",
    "\\begin{align}\n",
    "\\dfrac{\\partial u}{\\partial \\mathbf{n}}(\\Gamma,t) &= 0, \\quad t > 0 \\\\\n",
    "\\end{align}"
   ]
  },
  {
   "cell_type": "markdown",
   "metadata": {},
   "source": [
    "<b>Frontera Derecha: $x=10,\\quad y\\in[0,10], \\quad t > 0$</b>\n",
    "\n",
    "\\begin{align}\n",
    "\\left(\\dfrac{\\partial u}{\\partial x}(10,y,t),\\dfrac{\\partial u}{\\partial y}(10,y,t) \\right) \\cdot(1,0) &= 0 \\\\\n",
    "\\dfrac{\\partial u}{\\partial x}(10,y,t) &= 0\\\\\n",
    "\\end{align}\n",
    "\n",
    "Usando Backward Difference\n",
    "\n",
    "\\begin{align}\n",
    "\\dfrac{w_{N_x,j,k}-w_{N_x-1,j,k}}{\\Delta x} &= 0 \\\\\n",
    "\\\\\n",
    "-w_{N_x-1,j,k}+w_{N_x,j,k} &=0 \\\\\n",
    "\\end{align}\n"
   ]
  },
  {
   "cell_type": "markdown",
   "metadata": {},
   "source": [
    "<b>Frontera Arriba: $y=10,\\quad  x\\in[0,10], \\quad t > 0$</b>\n",
    "\n",
    "\\begin{align}\n",
    "\\left(\\dfrac{\\partial u}{\\partial x}(x,10,t),\\dfrac{\\partial u}{\\partial y}(x,10,t) \\right) \\cdot(0,1) &= 0 \\\\\n",
    "\\dfrac{\\partial u}{\\partial y}(x,10, t) &= 0\\\\\n",
    "\\end{align}\n",
    "\n",
    "Usando Backward Difference\n",
    "\n",
    "\\begin{align}\n",
    "\\dfrac{w_{i,N_y,k}-w_{i,N_y-1,k}}{\\Delta y} &= 0 \\\\\n",
    "\\\\\n",
    "-w_{i,N_y-1,k}+w_{i,N_y,k} &=0 \\\\\n",
    "\\end{align}\n"
   ]
  },
  {
   "cell_type": "markdown",
   "metadata": {},
   "source": [
    "<b>Frontera Izquierda:</b> $x=0,\\quad y\\in[0,10], \\quad t > 0$\n",
    "\n",
    "\\begin{align}\n",
    "\\left(\\dfrac{\\partial u}{\\partial x}(0,y,t),\\dfrac{\\partial u}{\\partial y}(0,y,t) \\right) \\cdot(-1,0) &= 0 \\\\\n",
    "-\\dfrac{\\partial u}{\\partial x}(0,y,t) &= 0\\\\\n",
    "\\end{align}\n",
    "\n",
    "Usando Forward Difference\n",
    "\n",
    "\\begin{align}\n",
    "-\\dfrac{w_{1,j,k}-w_{0,j,k}}{\\Delta x} &= 0  \\\\\n",
    "\\\\\n",
    "w_{0,j,k}-w_{1,j,k} &= 0  \\\\\n",
    "\\end{align}"
   ]
  },
  {
   "cell_type": "markdown",
   "metadata": {},
   "source": [
    "<b>Frontera Abajo: $y=0,\\quad  x\\in[0,10], \\quad t > 0$</b>\n",
    "\n",
    "\\begin{align}\n",
    "\\left(\\dfrac{\\partial u}{\\partial x}(x,0,t),\\dfrac{\\partial u}{\\partial y}(x,0,t) \\right) \\cdot(0,-1) &= 0 \\\\\n",
    "-\\dfrac{\\partial u}{\\partial y}(x,0, t) &= 0\\\\\n",
    "\\end{align}\n",
    "\n",
    "Usando Forward Difference\n",
    "\n",
    "\\begin{align}\n",
    "-\\dfrac{w_{i,1,k}-w_{i,0,k}}{\\Delta y}  &= 0 \\\\\n",
    "\\\\\n",
    "w_{i,0,k}-w_{i,1,k} &= 0 \\\\\n",
    "\\end{align}"
   ]
  },
  {
   "cell_type": "markdown",
   "metadata": {},
   "source": [
    "Cuando $c=1$, las condiciones de borde son del tipo Dirichlet, pues quedan en función de $u$\n",
    "\n",
    "\\begin{align}\n",
    "u(\\Gamma, t) &= 0, \\quad t > 0 \\\\\n",
    "\\end{align}"
   ]
  },
  {
   "cell_type": "markdown",
   "metadata": {},
   "source": [
    "<b>Frontera Derecha: $x=10,\\quad y\\in[0,10], \\quad t > 0$</b>\n",
    "\n",
    "\\begin{align}\n",
    "u(10,y, t)  &= 0 \\\\\n",
    "\\end{align}\n",
    "\n",
    "Discretizada como\n",
    "\n",
    "\\begin{align}\n",
    "w_{N_x,j,k} &= 0 \\\\\n",
    "\\end{align}\n",
    "\n",
    "<b>Frontera Arriba: $y=10,\\quad  x\\in[0,10], \\quad t > 0$</b>\n",
    "\n",
    "\\begin{align}\n",
    "u(x,10, t)  &= 0 \\\\\n",
    "\\end{align}\n",
    "\n",
    "Discretizada como\n",
    "\n",
    "\\begin{align}\n",
    "w_{i,N_y,k} &= 0 \\\\\n",
    "\\end{align}\n",
    "\n",
    "<b>Frontera Izquierda:</b> $x=0,\\quad y\\in[0,10], \\quad t > 0$\n",
    "\n",
    "\\begin{align}\n",
    "u(0,y, t)  &= 0 \\\\\n",
    "\\end{align}\n",
    "\n",
    "Discretizada como\n",
    "\n",
    "\\begin{align}\n",
    "w_{0,j,k} &= 0 \\\\\n",
    "\\end{align}\n",
    "\n",
    "<b>Frontera Abajo: $y=0,\\quad  x\\in[0,10], \\quad t > 0$</b>\n",
    "\n",
    "\\begin{align}\n",
    "u(x,0, t)  &= 0 \\\\\n",
    "\\end{align}\n",
    "\n",
    "Discretizada como\n",
    "\n",
    "\\begin{align}\n",
    "w_{i,0,k} &= 0 \\\\\n",
    "\\end{align}"
   ]
  },
  {
   "cell_type": "markdown",
   "metadata": {},
   "source": [
    "Cuando $0<c<1$, las condiciones son de Robin, ya que serán una combinación de Neumann y Dirichlet"
   ]
  },
  {
   "cell_type": "markdown",
   "metadata": {},
   "source": [
    "<b>Frontera Derecha: $x=10,\\quad y\\in[0,10], \\quad t > 0, \\quad c \\in (0,1)$</b>\n",
    "\n",
    "\\begin{align}\n",
    "c\\cdot u(10,y, t) + (1-c) \\left(\\dfrac{\\partial u}{\\partial x}(10,y,t),\\dfrac{\\partial u}{\\partial y}(10,y,t) \\right) \\cdot(1,0) &= 0 \\\\\n",
    "c\\cdot u(10,y, t) + (1-c)\\cdot \\dfrac{\\partial u}{\\partial x}(10,y,t) &= 0\\\\\n",
    "c\\cdot u(10,y, t) &= - (1-c)\\cdot \\dfrac{\\partial u}{\\partial x}(10,y,t) \\\\\n",
    "-\\frac{c}{1-c}\\cdot u(10,y, t) &= \\dfrac{\\partial u}{\\partial x}(10,y,t)\n",
    "\\end{align}\n",
    "\n",
    "Usando Backward Difference y considerando $\\sigma=\\dfrac{c}{1-c}$, con $0<c<1$\n",
    "\n",
    "\\begin{align}\n",
    "-\\sigma\\cdot w_{N_x,j,k} &= \\dfrac{w_{N_x,j,k}-w_{N_x-1,j,k}}{\\Delta x} \\\\\n",
    "-\\sigma \\Delta x \\cdot w_{N_x,j,k} &= w_{N_x,j,k}-w_{N_x-1,j,k} \\\\\n",
    "\\\\\n",
    "0 &= (1+\\sigma \\Delta x) \\, w_{N_x,j,k} - w_{N_x-1,j,k}\n",
    "\\end{align}\n",
    "\n",
    "\n"
   ]
  },
  {
   "cell_type": "markdown",
   "metadata": {},
   "source": [
    "<b>Frontera Arriba: $y=10,\\quad  x\\in[0,10], \\quad t > 0, \\quad c \\in (0,1)$</b>\n",
    "\n",
    "\\begin{align}\n",
    "c\\cdot u(x,10, t) + (1-c) \\left(\\dfrac{\\partial u}{\\partial x}(x,10,t),\\dfrac{\\partial u}{\\partial y}(x,10,t) \\right) \\cdot(0,1) &= 0 \\\\\n",
    "c\\cdot u(x,10, t) + (1-c)\\cdot \\dfrac{\\partial u}{\\partial y}(x,10, t) &= 0\\\\\n",
    "c\\cdot u(x,10, t) &= - (1-c)\\cdot \\dfrac{\\partial u}{\\partial y}(x,10, t) \\\\\n",
    "-\\frac{c}{1-c}\\cdot u(x,10, t) &= \\dfrac{\\partial u}{\\partial y}(x,10, t)\n",
    "\\end{align}\n",
    "\n",
    "Usando Backward Difference y considerando $\\sigma=\\dfrac{c}{1-c}$, con $0<c<1$\n",
    "\n",
    "\\begin{align}\n",
    "-\\sigma\\cdot w_{i,N_y,k} &= \\dfrac{w_{i,N_y,k}-w_{i,N_y-1,k}}{\\Delta y} \\\\\n",
    "-\\sigma \\Delta y \\cdot w_{i,N_y,k} &= w_{i,N_y,k}-w_{i,N_y-1,k} \\\\\n",
    "\\\\\n",
    "0 &= (1+\\sigma \\Delta y) \\, w_{i,N_y,k} - w_{i,N_y-1,k}\n",
    "\\end{align}\n",
    "\n"
   ]
  },
  {
   "cell_type": "markdown",
   "metadata": {},
   "source": [
    "<b>Frontera Izquierda: $x=0,\\quad y\\in[0,10], \\quad t > 0, \\quad c \\in (0,1)$</b>\n",
    "\n",
    "\\begin{align}\n",
    "c\\cdot u(0,y, t) + (1-c) \\left(\\dfrac{\\partial u}{\\partial x}(0,y,t),\\dfrac{\\partial u}{\\partial y}(0,y,t) \\right) \\cdot(-1,0) &= 0 \\\\\n",
    "c\\cdot u(0,y, t) - (1-c)\\cdot \\dfrac{\\partial u}{\\partial x}(0,y,t) &= 0\\\\\n",
    "c\\cdot u(0,y, t) &= (1-c)\\cdot \\dfrac{\\partial u}{\\partial x}(0,y,t) \\\\\n",
    "\\frac{c}{1-c}\\cdot u(0,y, t) &= \\dfrac{\\partial u}{\\partial x}(0,y,t)\n",
    "\\end{align}\n",
    "\n",
    "Usando Forward Difference y considerando $\\sigma=\\dfrac{c}{1-c}$, con $0<c<1$\n",
    "\n",
    "\\begin{align}\n",
    "\\sigma\\cdot w_{0,j,k} &= \\dfrac{w_{1,j,k}-w_{0,j,k}}{\\Delta x} \\\\\n",
    "\\sigma \\Delta x \\cdot w_{0,j,k} &= w_{1,j,k}-w_{0,j,k} \\\\\n",
    "\\\\\n",
    "0 &= w_{1,j,k} - (1+\\sigma \\Delta x) \\, w_{0,j,k}\n",
    "\\end{align}\n",
    "\n"
   ]
  },
  {
   "cell_type": "markdown",
   "metadata": {},
   "source": [
    "<b>Frontera Abajo: $y=0,\\quad  x\\in[0,10], \\quad t > 0, \\quad c \\in (0,1)$</b>\n",
    "\n",
    "\\begin{align}\n",
    "c\\cdot u(x,0, t) + (1-c) \\left(\\dfrac{\\partial u}{\\partial x}(x,0,t),\\dfrac{\\partial u}{\\partial y}(x,0,t) \\right) \\cdot(0,-1) &= 0 \\\\\n",
    "c\\cdot u(x,0, t) - (1-c)\\cdot \\dfrac{\\partial u}{\\partial y}(x,0, t) &= 0\\\\\n",
    "c\\cdot u(x,10, t) &= (1-c)\\cdot \\dfrac{\\partial u}{\\partial y}(x,0, t) \\\\\n",
    "\\frac{c}{1-c}\\cdot u(x,0, t) &= \\dfrac{\\partial u}{\\partial y}(x,0, t)\n",
    "\\end{align}\n",
    "\n",
    "Usando Forward Difference y considerando $\\sigma=\\dfrac{c}{1-c}$, con $0<c<1$\n",
    "\n",
    "\\begin{align}\n",
    "\\sigma\\cdot w_{i,0,k} &= \\dfrac{w_{i,1,k}-w_{i,0,k}}{\\Delta y} \\\\\n",
    "\\sigma \\Delta y \\cdot w_{i,0,k} &= w_{i,1,k}-w_{i,0,k} \\\\\n",
    "\\\\\n",
    "0 &= w_{i,1,k} - (1+\\sigma \\Delta y) \\, w_{i,0,k}\n",
    "\\end{align}"
   ]
  },
  {
   "cell_type": "markdown",
   "metadata": {},
   "source": [
    "3) Construya el código para resolver el problema. Aplique operaciones vectorizadas. Tenga en consideración los problemas de estabilidad que podrían surgir de los valores de $\\Delta x, \\Delta y, \\Delta t$. Considere $\\alpha = 1$ y un $T_\\max = 5$."
   ]
  },
  {
   "cell_type": "code",
   "execution_count": 39,
   "metadata": {},
   "outputs": [],
   "source": [
    "# Calcula deltas x, y, t\n",
    "def alex_calcularDeltas(Nx,Ny,Nt,DomX,DomY,DomT,alpha=1):\n",
    "    dx = (DomX[1]-DomX[0])/(Nx)\n",
    "    dy = (DomY[1]-DomY[0])/(Ny)\n",
    "    dt = (DomT[1]-DomT[0])/(Nt)\n",
    "    \n",
    "    # Verificar estabilidad\n",
    "    sx = (alpha*dt)/(dx**2)\n",
    "    sy = (alpha*dt)/(dy**2)\n",
    "    \n",
    "    if sx >= 0.5:\n",
    "        raise Exception('Los parámetros dx y dt no son estables segun alpha, Nx y Nt elegidos.' \n",
    "                        +' Se debe cumplir que '+str(sx)+' < 0.5')\n",
    "    if sy >= 0.5:\n",
    "        raise Exception('Los parámetros dy y dt no son estables segun alpha, Ny y Nt elegidos.'\n",
    "                        +' Se debe cumplir que '+str(sy)+' < 0.5')\n",
    "    \n",
    "    return (dx,dy,dt)\n",
    "\n",
    "# Cambio de coordenadas (i,j)->(n)\n",
    "def alex_vectorize(i_max,j_max):\n",
    "    n = 0\n",
    "    \n",
    "    ij_to_n = np.empty([i_max+1,j_max+1],dtype='uint')\n",
    "    n_to_ij = np.empty([(i_max+1)*(j_max+1),2],dtype='uint')\n",
    "    \n",
    "    for j in range(0,j_max+1):\n",
    "        for i in range(0,i_max+1):\n",
    "            #print(\"(\",i,\",\",j,\")=\",n)\n",
    "            ij_to_n[i][j] = int(n)\n",
    "            n_to_ij[n][0] = int(i)\n",
    "            n_to_ij[n][1] = int(j)\n",
    "            n+=1\n",
    "\n",
    "    return (ij_to_n,n_to_ij)\n",
    "\n",
    "# Calcula condición inicial con una función f y la vectoriza\n",
    "def alex_condicionInicial(f,Nx,Ny,dx,dy,ij_to_n):\n",
    "    # Calcular t=0\n",
    "    # (i,j,k) -> (k,n)\n",
    "    V = np.zeros([(Ny+1)*(Nx+1)])\n",
    "\n",
    "    for i in range(0,Nx+1):\n",
    "        for j in range(0,Ny+1):\n",
    "            V[ij_to_n[i][j]] = f(i*dx,j*dy)\n",
    "    \n",
    "    return V\n",
    "\n",
    "# Calcula condición inicial a partir de un espacio (x,y)\n",
    "def alex_condicionInicial_Im(Im_0,Nx,Ny,dx,dy,ij_to_n):\n",
    "    # Calcular t=0\n",
    "    # (i,j,k) -> (k,n)\n",
    "    V = np.zeros([(Ny+1)*(Nx+1)])\n",
    "\n",
    "    for i in range(0,Nx+1):\n",
    "        for j in range(0,Ny+1):\n",
    "            V[ij_to_n[i][j]] = Im_0[i][j]\n",
    "    \n",
    "    return V\n",
    "\n",
    "# Funciones que calculan las matrices A y M para resolver el siguiente sistema\n",
    "# A v = b\n",
    "# Donde b es la discretización en el tiempo anterior: b = M v_anterior\n",
    "\n",
    "# Calcular M matriz de coeficientes de la discretización\n",
    "def alex_matrizM(Nx,Ny,dx,dy,dt,ij_to_n,alpha):\n",
    "    M = np.zeros([(Nx+1)*(Ny+1),(Nx+1)*(Ny+1)])\n",
    "    \n",
    "    tau = (alpha*dt)/dx**2\n",
    "    phi = (alpha*dt)/dy**2\n",
    "\n",
    "    for i in range(1,Nx):\n",
    "        for j in range(1,Ny):\n",
    "            n = ij_to_n[i][j]\n",
    "            M[n][n-4] = tau\n",
    "            M[n][n-1] = phi\n",
    "            M[n][n] = (1-2*tau-2*phi)\n",
    "            M[n][n+1] = phi\n",
    "            M[n][n+4] = tau\n",
    "    \n",
    "    return M\n",
    "\n",
    "# Calcular Matriz A de condiciones de frontera\n",
    "def alex_matrizA(Nx,Ny,dx,dy,ij_to_n,c):\n",
    "    A = np.identity((Nx+1)*(Ny+1))\n",
    "    # Frontera abajo\n",
    "    j = 0\n",
    "    for i in range(0,Nx+1):    \n",
    "        #(i,j)->(n)\n",
    "        n = ij_to_n[i][j]\n",
    "        m = ij_to_n[i][j+1]    \n",
    "\n",
    "        if c == 0:\n",
    "            A[n][n] = 1\n",
    "            A[n][m] = -1\n",
    "        elif c == 1:\n",
    "            A[n][n] = 1\n",
    "        else:\n",
    "            sigma = c/(1.0-c)\n",
    "\n",
    "            A[n][n] = -(1+sigma*dy)\n",
    "            A[n][m] = 1\n",
    "\n",
    "    # Frontera arriba\n",
    "    j = Ny\n",
    "    for i in range(0,Nx+1):    \n",
    "        #(i,j)->(n)\n",
    "        n = ij_to_n[i][j]\n",
    "        m = ij_to_n[i][j-1]    \n",
    "\n",
    "        if c == 0:\n",
    "            A[n][n] = 1\n",
    "            A[n][m] = -1\n",
    "        elif c == 1:\n",
    "            A[n][n] = 1\n",
    "        else:\n",
    "            sigma = c/(1.0-c)\n",
    "\n",
    "            A[n][n] = (1+sigma*dy)\n",
    "            A[n][m] = -1\n",
    "\n",
    "\n",
    "    # Frontera izquierda    \n",
    "    i = 0\n",
    "    for j in range(1,Ny):\n",
    "        #(i,j)->(n)\n",
    "        n = ij_to_n[i][j]\n",
    "        m = ij_to_n[i+1][j]    \n",
    "\n",
    "        if c == 0:\n",
    "            A[n][n] = 1\n",
    "            A[n][m] = -1\n",
    "        elif c == 1:\n",
    "            A[n][n] = 1\n",
    "        else:\n",
    "            sigma = c/(1.0-c)\n",
    "\n",
    "            A[n][n] = -(1+sigma*dx)\n",
    "            A[n][m] = 1\n",
    "\n",
    "\n",
    "    # Frontera derecha    \n",
    "    i = Nx\n",
    "    for j in range(1,Ny):\n",
    "        #(i,j)->(n)\n",
    "        n = ij_to_n[i][j]\n",
    "        m = ij_to_n[i-1][j]    \n",
    "\n",
    "        if c == 0:\n",
    "            A[n][n] = 1\n",
    "            A[n][m] = -1\n",
    "        elif c == 1:\n",
    "            A[n][n] = 1\n",
    "        else:\n",
    "            sigma = c/(1.0-c)\n",
    "\n",
    "            A[n][n] = (1+sigma*dx)\n",
    "            A[n][m] = -1\n",
    "    \n",
    "    return A\n",
    "            \n",
    "def alex_resolverEDPParabolica(Nx,Ny,Nt,DomX,DomY,Tmax,u_t0,alpha,c):\n",
    "    ij_to_n, n_to_ij = alex_vectorize(Nx,Ny)\n",
    "    DomT = (0,Tmax)\n",
    "    dx,dy,dt = alex_calcularDeltas(Nx,Ny,Nt,DomX,DomY,DomT,alpha)\n",
    "\n",
    "    W_0 = alex_condicionInicial(u_t0,Nx,Ny,dx,dy,ij_to_n)\n",
    "    W = np.zeros((Nx+1)*(Ny+1))\n",
    "    \n",
    "    M = alex_matrizM(Nx,Ny,dx,dy,dt,ij_to_n,alpha)\n",
    "    A = alex_matrizA(Nx,Ny,dx,dy,ij_to_n,c)\n",
    "    \n",
    "    b = np.dot(M,W_0)\n",
    "\n",
    "    for t in range(1,Nt+1):\n",
    "        W = np.linalg.solve(A,b)\n",
    "        b = np.dot(M,W)\n",
    "    \n",
    "    return W"
   ]
  },
  {
   "cell_type": "code",
   "execution_count": 40,
   "metadata": {},
   "outputs": [],
   "source": [
    "Tmax = 5\n",
    "\n",
    "Nx = 7\n",
    "Ny = 7\n",
    "Nt = Tmax\n",
    "\n",
    "DomX = (0,10)\n",
    "DomY = (0,10)\n",
    "\n",
    "u_t0 = lambda x,y: (x*y*(x-10)*(y-10))/(x+3)\n",
    "alpha = 1\n",
    "\n",
    "# Probar solución\n",
    "# W = alex_resolverEDPParabolica(Nx,Ny,Nt,DomX,DomY,Tmax,u_t0,alpha,c)"
   ]
  },
  {
   "cell_type": "markdown",
   "metadata": {},
   "source": [
    "4) Su solución debería ser un \"cubo\" de tamaño $(N_x, N_y, N_t)$. Muestre gráficamente mediante <i>widgets</i> con 2 <i>slides</i> la solución encontrada (donde el primer <i>slide</i> modifica el momento $t$ visualizado y el segundo <i>slide</i> modifica el coeficiente $c$ de la condición). Use un gráfico 3D para visualizar la forma de la solución."
   ]
  },
  {
   "cell_type": "code",
   "execution_count": 41,
   "metadata": {},
   "outputs": [
    {
     "data": {
      "application/vnd.jupyter.widget-view+json": {
       "model_id": "f4ab2a07c36b404ea73068fda8efe716"
      }
     },
     "metadata": {},
     "output_type": "display_data"
    },
    {
     "data": {
      "text/plain": [
       "<function __main__.alex_plotSolution>"
      ]
     },
     "execution_count": 41,
     "metadata": {},
     "output_type": "execute_result"
    }
   ],
   "source": [
    "def alex_plotSolution(t,c):\n",
    "    W = alex_resolverEDPParabolica(Nx,Ny,Nt,DomX,DomY,t,u_t0,alpha,c)\n",
    "    \n",
    "    ij_to_n, n_to_ij = alex_vectorize(Nx,Ny)\n",
    "\n",
    "    X = list()\n",
    "    Y = list()\n",
    "    Z = list()\n",
    "\n",
    "    n = 0\n",
    "    for w in W:\n",
    "        i = n_to_ij[n][0]\n",
    "        j = n_to_ij[n][1]\n",
    "\n",
    "        X.append(i)\n",
    "        Y.append(j)\n",
    "        Z.append(w)\n",
    "\n",
    "        n+=1\n",
    "\n",
    "    fig = plt.figure(figsize=(12,8))\n",
    "    ax = fig.gca(projection='3d')\n",
    "\n",
    "    ax.plot_wireframe(X, Y, Z)\n",
    "\n",
    "    plt.show()\n",
    "\n",
    "interact(alex_plotSolution, t=widgets.IntSlider(min=0,max=Tmax,step=1,value=0), c=widgets.FloatSlider(min=0,max=1,step=0.1,value=1))"
   ]
  },
  {
   "cell_type": "markdown",
   "metadata": {},
   "source": [
    "<div id='heateq-image' />\n",
    "# 3.2. Aplicación de la ecuación de calor en imágenes: <i> Blurring </i> (40 pts)\n",
    "\n",
    "La ecuación de calor logra una difusión, en base a las condiciones entregadas. Aplicado en imágenes logramos un efecto de <i> blur </i> en la imagen. Consideremos el siguiente problema:\n",
    "\n",
    "\\begin{align}\n",
    "    u_t &= \\alpha\\,\\Delta u \\\\\n",
    "    u(x,y,0) &= I(x,y) \\\\\n",
    "    c\\cdot u(\\Gamma, t) + (1-c)\\cdot\\dfrac{\\partial u}{\\partial \\mathbf{n}}(\\Gamma,t) &= 0, \\quad t > 0, c \\in (0,1)\n",
    "\\end{align}\n",
    "\n",
    "donde $I(x,y)$ es una imagen. Consideremos $\\alpha = 1$ por simplicidad.\n",
    "\n",
    "1) Cargue la imagen <i>mandrill.png</i> (adjunta en esta tarea) como escala de grises, normalice sus valores (respecto a la escala de grises) y transfórmela a un <i>array</i> de <i>Numpy</i>. Visualice la imagen y su dimensión.\n",
    "\n"
   ]
  },
  {
   "cell_type": "code",
   "execution_count": 54,
   "metadata": {},
   "outputs": [
    {
     "name": "stdout",
     "output_type": "stream",
     "text": [
      "Dimensiones(px) \n",
      " x = 100 \n",
      " y = 100\n"
     ]
    },
    {
     "data": {
      "image/png": "[encoded data removed]",
      "text/plain": [
       "<matplotlib.figure.Figure at 0x1157c49e8>"
      ]
     },
     "metadata": {},
     "output_type": "display_data"
    }
   ],
   "source": [
    "def alex_mostrarImagen(im):\n",
    "    plt.figure(figsize=(15,5))\n",
    "    \n",
    "    plt.subplot(1,2,1)\n",
    "    plt.imshow(im, cmap='gray')\n",
    "        \n",
    "    plt.show()\n",
    "    \n",
    "def alex_mostrarImagenDesdeArray(im_array):\n",
    "    plt.figure(figsize=(15,5))\n",
    "    \n",
    "    plt.subplot(1,2,1)\n",
    "    plt.imshow(im_array, cmap='gray')\n",
    "        \n",
    "    plt.show()\n",
    "\n",
    "\n",
    "image = Image.open('mandrill.png').convert('LA')\n",
    "width, height = image.size\n",
    "\n",
    "alpha = 1\n",
    "Tmax = 10\n",
    "\n",
    "Nx = width-1\n",
    "Ny = height-1\n",
    "Nt = Tmax\n",
    "\n",
    "DomX = (0,width)\n",
    "DomY = (0,height)\n",
    "\n",
    "ij_to_n, n_to_ij = alex_vectorize(Nx,Ny)\n",
    "\n",
    "Im_0 = np.zeros([height,width])\n",
    "\n",
    "im_array = np.array(image)\n",
    "\n",
    "# Guardar escala de grises sin componente de transparencia\n",
    "for y in range(0,height):\n",
    "    for x in range(0,width):\n",
    "        gray,transparency = im_array[y][x]\n",
    "        Im_0[x][y] = gray\n",
    "        \n",
    "    \n",
    "print(\"Dimensiones(px)\",\"\\n\",\"x =\",width,\"\\n\",\"y =\",height)\n",
    "alex_mostrarImagenDesdeArray(Im_0.T)"
   ]
  },
  {
   "cell_type": "code",
   "execution_count": 55,
   "metadata": {},
   "outputs": [
    {
     "data": {
      "text/plain": [
       "(100, 100, 2)"
      ]
     },
     "execution_count": 55,
     "metadata": {},
     "output_type": "execute_result"
    }
   ],
   "source": [
    "np.asarray(image).shape"
   ]
  },
  {
   "cell_type": "markdown",
   "metadata": {},
   "source": [
    "2) Programe una función que resuelva la ecuación de calor propuesta. Para este punto es importante considerar algunos aspectos:\n",
    "* La ecuación se resuelve sobre un dominio, y sobre este dominio debemos aplicar valores $\\Delta x, \\Delta y$ que se estimen convenientes. Para este problema el dominio es entregado por la imagen, por lo que tenemos cierta \"flexibilidad\" para escogerlo. Si la dimensión de la imagen es $(N,M)$ entonces pueden tomarse, convenientemente, el dominio espacial como $[0,N-1]\\times[0,M-1]$ y con esto tomar $(N,M)$ puntos equiespaciados por $\\Delta x = 1, \\Delta y = 1$. Es decir estamos tomando como cada punto de la \"discretización\" como un píxel de la imagen.\n",
    "* Recuerde que la imagen representa su función de condición inicial. Dado lo explicado anteriormente, si generamos $N$ y $M$ puntos y denotamos la imagen por $I(x,y)$, tenemos que $I(x_i,y_j)$ equivale al píxel $(i,j)$ (recordar que estamos tomando $\\Delta x = 1, \\Delta y = 1$.\n",
    "* Tenga en consideración los valores necesarios para que el problema sea estable.\n",
    "* El efecto de blur es progresivo. Considerando que $t$ está acotado por $0 < t \\leq T_\\max$, esto quiere decir que mientras más grande sea $T_\\max$, más tiempo se está entregando para que la imagen se vea afectada por el efecto de <i>blur</i>. Para visualizar esto considere $T_\\max = 30$."
   ]
  },
  {
   "cell_type": "markdown",
   "metadata": {},
   "source": [
    "Se usan las mismas funciones que para la pregunta 1, excepto esta."
   ]
  },
  {
   "cell_type": "code",
   "execution_count": 56,
   "metadata": {
    "collapsed": true
   },
   "outputs": [],
   "source": [
    "# Igual que en pregunta 1, solo cambia la forma de generar la condición inicial\n",
    "def alex_resolverEDPParabolica_Im(Nx,Ny,Nt,DomX,DomY,Tmax,u_t0,alpha,c):\n",
    "    ij_to_n, n_to_ij = alex_vectorize(Nx,Ny)\n",
    "    DomT = (0,Tmax)\n",
    "    dx,dy,dt = alex_calcularDeltas(Nx,Ny,Nt,DomX,DomY,DomT,alpha)\n",
    "\n",
    "    W = np.zeros((Nx+1)*(Ny+1))\n",
    "    W_0 = alex_condicionInicial_Im(u_t0,Nx,Ny,dx,dy,ij_to_n)\n",
    "    \n",
    "    M = alex_matrizM(Nx,Ny,dx,dy,dt,ij_to_n,alpha)\n",
    "    A = alex_matrizA(Nx,Ny,dx,dy,ij_to_n,c)\n",
    "    \n",
    "    b = np.dot(M,W_0)\n",
    "\n",
    "    for t in range(1,Nt+1):\n",
    "        W = np.linalg.solve(A,b)\n",
    "        b = np.dot(M,W)\n",
    "    \n",
    "    return W"
   ]
  },
  {
   "cell_type": "markdown",
   "metadata": {},
   "source": [
    "3) Aplique su código a la imagen. Luego de obtener la solución utilize un <i> widget </i> con dos <i>slides</i>: el primero para visualizar la imagen en cada tiempo obtenido y el segundo variando el parámetro $c \\in (0,1)$. ¿Se consigue el efecto de <i> blur </i> en la imagen?."
   ]
  },
  {
   "cell_type": "code",
   "execution_count": 57,
   "metadata": {},
   "outputs": [
    {
     "data": {
      "application/vnd.jupyter.widget-view+json": {
       "model_id": "2cd0f5e2eab84b86b35f026d1b2fe506"
      }
     },
     "metadata": {},
     "output_type": "display_data"
    },
    {
     "data": {
      "text/plain": [
       "<function __main__.alex_plotImagen>"
      ]
     },
     "execution_count": 57,
     "metadata": {},
     "output_type": "execute_result"
    }
   ],
   "source": [
    "def alex_plotImagen(t,c):\n",
    "    W = alex_resolverEDPParabolica_Im(Nx,Ny,Nt,DomX,DomY,t,Im_0,alpha,c)\n",
    "    \n",
    "    ij_to_n, n_to_ij = alex_vectorize(Nx,Ny)\n",
    "    \n",
    "    reconstruir_im=np.zeros([(Nx+1),(Ny+1)])\n",
    "\n",
    "    n = 0\n",
    "    for w in W:\n",
    "        i = n_to_ij[n][0]\n",
    "        j = n_to_ij[n][1]\n",
    "\n",
    "        reconstruir_im[i][j]=w\n",
    "        \n",
    "        n+=1\n",
    "\n",
    "    alex_mostrarImagenDesdeArray(reconstruir_im.T)\n",
    "\n",
    "interact(alex_plotImagen, t=widgets.IntSlider(min=0,max=Tmax,step=1,value=0), c=widgets.FloatSlider(min=0,max=1,step=0.1,value=1))"
   ]
  },
  {
   "cell_type": "markdown",
   "metadata": {},
   "source": [
    "4) Explique el efecto del parámetro $c$ en la imagen. ¿cuál es el $c$ óptimo para obtener un buen efecto de <i>blur</i>?."
   ]
  },
  {
   "cell_type": "code",
   "execution_count": null,
   "metadata": {
    "collapsed": true
   },
   "outputs": [],
   "source": []
  },
  {
   "cell_type": "markdown",
   "metadata": {},
   "source": [
    "<div id='revheateq-image' />\n",
    "# 3.3. Otra aplicación de la ecuación de calor: <i> Deblur </i> (30 pts)\n",
    "\n",
    "En la sección anterior pudo aplicar la ecuación de calor a una imagen. **¿Será este proceso reversible?**. Dicho de otra manera, si tengo una imagen con <i>blur</i>, ¿puedo recuperar la imagen original?. Este problema se plantea de la siguiente manera:\n",
    "\n",
    "\\begin{align}\n",
    "u_t &= \\alpha\\, \\Delta u\\\\\n",
    "u(x,y,\\tau) &= I_\\tau(x,y)\\\\\n",
    "c\\cdot u(\\Gamma, t) + (1-c)\\cdot\\dfrac{\\partial u}{\\partial \\mathbf{n}}(\\Gamma,t) &= 0, \\quad t > 0, c \\in (0,1)\n",
    "\\end{align}\n",
    "\n",
    "donde $I_\\tau(x,y)$ es la imagen procesada o con efecto <i>blur</i>. Esto es un problema de valor final --- recuerde\n",
    "que nosotros hemos trabajado problemas de valor incial. En este contexto, tenemos que $\\tau$ es el tiempo en cuestión (tiempo hasta donde avanzó la ecuación de calor). Entonces estamos buscando la condición incial $I(x,y)$ que me lleva a $I_\\tau(x,y)$. Este problema puede reducirse a la siguiente <i>PDE</i>:\n",
    "\n",
    "\\begin{align}\n",
    "u_t &= -\\widetilde{\\alpha}\\,\\Delta u\\\\\n",
    "u(x,y,0) &= I_\\tau(x,y)\\\\\n",
    "c\\cdot u(\\Gamma, t) + (1-c)\\cdot\\dfrac{\\partial u}{\\partial \\mathbf{n}}(\\Gamma,t) &= 0, \\quad t > 0, c \\in (0,1)\n",
    "\\end{align}\n",
    "\n",
    "Esto es posible en cierta medida, para saltos pequeños de tiempo. Es decir, **¡debemos retroceder el tiempo!**\n",
    "\n",
    "1) Carge la imagen adjunta llamada <b>blurred.tiff</b> y visualícela utilizando la función adjunta en esta sección. Indique que significa el histograma que entrega.\n"
   ]
  },
  {
   "cell_type": "code",
   "execution_count": 58,
   "metadata": {},
   "outputs": [
    {
     "data": {
      "image/png": "[encoded data removed]",
      "text/plain": [
       "<matplotlib.figure.Figure at 0x115da6898>"
      ]
     },
     "metadata": {},
     "output_type": "display_data"
    }
   ],
   "source": [
    "blurred_image = Image.open('blurred.tiff')\n",
    "\n",
    "# Función auxiliar para mostrar la imagen y el histograma. Los parámetros k y dt son entregados por el slide.\n",
    "#  im: imagen a mostrar.\n",
    "def show_imhist(im):\n",
    "    plt.figure(figsize=(15,5))\n",
    "    \n",
    "    plt.subplot(1,2,1)\n",
    "    # Mostrar imagen en tiempo k\n",
    "    plt.imshow(im, cmap='gray')\n",
    "    \n",
    "    # Mostrar histograma\n",
    "    plt.subplot(1,2,2)\n",
    "    bins=np.linspace(0,1,100)\n",
    "    plt.hist(im.flatten() ,bins=bins, normed=True)\n",
    "    plt.grid(True)\n",
    "    \n",
    "    plt.show()\n",
    "\n",
    "show_imhist(np.array(blurred_image))"
   ]
  },
  {
   "cell_type": "markdown",
   "metadata": {},
   "source": [
    "El histograma muestra la frecuencia de los tonos de gris en los pixeles de la imágen, donde 0 (0%) es negro y 1 (100%) es blanco."
   ]
  },
  {
   "cell_type": "markdown",
   "metadata": {},
   "source": [
    "2) Construya un código para resolver numéricamente este problema. En esta parte, la imagen adjunta será la condición inicial. Considere $\\widetilde{\\alpha} = 1$ en la segunda PDE o equivalentemente $\\alpha=-1$ en la primera PDE. Considere el valor de $c$ óptimo, considerando lo obtenido en la sección anterior. Además considere $\\tau = 30$ (o $T_\\max = 30$ usando la notación de los problemas anteriores)."
   ]
  },
  {
   "cell_type": "code",
   "execution_count": null,
   "metadata": {
    "collapsed": true
   },
   "outputs": [],
   "source": []
  },
  {
   "cell_type": "markdown",
   "metadata": {},
   "source": [
    "3) Resuelva el problema y visualícelo utilizando un <i> widget </i> con 2 <i>slides</i>: el primero para variar el tiempo visualizado y el segundo para variar el parámetro $\\Delta t$. Utilice la función adjunta para visualizar la imagen y el histograma. ¿Se puede revertir el efecto en la imagen?, ¿qué ocurre después de harto tiempo?, ¿Qué ocurre con la distribución (entragada por el histograma) a medida que avanza el tiempo?, ¿podemos utilizar esto de alguna manera?, ¿qué puede concluir respecto al efecto de $\\Delta t$ sobre el algoritmo?. Varíe $\\Delta t \\in (0.1, 5)$."
   ]
  },
  {
   "cell_type": "code",
   "execution_count": null,
   "metadata": {
    "collapsed": true
   },
   "outputs": [],
   "source": []
  },
  {
   "cell_type": "markdown",
   "metadata": {},
   "source": [
    "<div id='c' />\n",
    "# 4. Conclusiones"
   ]
  },
  {
   "cell_type": "markdown",
   "metadata": {},
   "source": [
    "El análisis de este problema requiere mucha memoria en el computador."
   ]
  },
  {
   "cell_type": "markdown",
   "metadata": {},
   "source": [
    "<div id='r' />\n",
    "# 5. Referencias\n",
    "https://docs.scipy.org/doc/numpy/reference/"
   ]
  }
 ],
 "metadata": {
  "anaconda-cloud": {},
  "kernelspec": {
   "display_name": "Python 3",
   "language": "python",
   "name": "python3"
  },
  "language_info": {
   "codemirror_mode": {
    "name": "ipython",
    "version": 3
   },
   "file_extension": ".py",
   "mimetype": "text/x-python",
   "name": "python",
   "nbconvert_exporter": "python",
   "pygments_lexer": "ipython3",
   "version": "3.5.3"
  },
  "widgets": {
   "state": {
    "40596b8789ba4e128012eca35af9cf5a": {
     "views": [
      {
       "cell_index": 29
      }
     ]
    },
    "ed618e09a0374327904baf56c81b6653": {
     "views": [
      {
       "cell_index": 37
      }
     ]
    }
   },
   "version": "1.2.0"
  }
 },
 "nbformat": 4,
 "nbformat_minor": 1
}
