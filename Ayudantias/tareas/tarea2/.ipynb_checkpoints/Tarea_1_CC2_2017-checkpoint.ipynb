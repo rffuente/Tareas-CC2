{
 "cells": [
  {
   "cell_type": "markdown",
   "metadata": {},
   "source": [
    "<center>\n",
    "    <h1> ILI286 - Computación Científica II </h1>\n",
    "    <h2> Tarea 2 </h2>\n",
    "    <h2> [S]cientific [C]omputing [T]eam </h2>\n",
    "    <h3> _19 de Marzo 2017_ </h3>\n",
    "</center>"
   ]
  },
  {
   "cell_type": "markdown",
   "metadata": {},
   "source": [
    "# Tabla de Contenidos\n",
    "* [1.- Objetivos](#obj)\n",
    "* [2.- Introducción](#intro)\n",
    "* [3.- Desarrollo](#desarrollo)\n",
    "    * [3.1- Analisis de los métodos](#analisis)\n",
    "    * [3.2- Aplicando lo aprendido](#aplicacion)\n",
    "* [4.- Instrucciones](#instr)"
   ]
  },
  {
   "cell_type": "markdown",
   "metadata": {},
   "source": [
    "<div id='obj' />\n",
    "# 1. _Objetivos_\n",
    "\n",
    "Para la presente tarea se tiene por objetivos:\n",
    "\n",
    "* Conocer y programar los métodos vistos en clases para calcular los valores propios de una matriz. \n",
    "* Analizar como se comportan estos algoritmos según distintas variables.\n",
    "* Aplicar uno de estos algoritmos a un problema real."
   ]
  },
  {
   "cell_type": "markdown",
   "metadata": {},
   "source": [
    "<div id='intro' />\n",
    "# 2. _Introducción_ \n"
   ]
  },
  {
   "cell_type": "markdown",
   "metadata": {},
   "source": [
    "Existen muchos problemas de la informática donde los _valores y vectores propios_ juegan un papel importante al momento de obtener información valiosa. Uno de los elementos de mayor relevancia es el **valor propio dominante** de una matriz, y en este laboratorio mediante un análisis de tiempo y precisión veremos distintas técnicas para poder obtenerlo de forma rápida y concisa. "
   ]
  },
  {
   "cell_type": "markdown",
   "metadata": {},
   "source": [
    "<div id='desarrollo' />\n",
    "# 3. _Desarrollo_ "
   ]
  },
  {
   "cell_type": "markdown",
   "metadata": {},
   "source": [
    "<div id='analisis' />\n",
    "## 3.1 _Análisis de los métodos_\n",
    "\n",
    "1. Deberá implementar los 4 métodos vistos en clases (_Power Iteration_, _Inverse Power Iteration_, _Rayleigh Quotient Iteration_ y _Unshifted QR Algorithm_). Para probarlos, necesitará de una función que le retorne una matriz simétrica definida positiva (y por lo tanto _invertible_), y conocer sus valores propios. Esto lo puede lograr realizando lo siguiente:\n",
    "\n",
    " * Creamos una matriz cuadrada _A_ de números aleatorios, con el tamaño que deseé para la matriz final.\n",
    " * Descomponemos la matriz _A_ mediante _SVD_ (_A_ = U $\\Sigma$ V* ). Puede usar las matrices U o V. \n",
    " * Luego, construiremos una matriz diagonal _D_ con los valores propios que usaremos mas adelante. Puede usar la siguiente fórmula para los valores de la diagonal:\n",
    "   * $\\large \\lambda_n = \\frac{1}{2n + 2}$, $\\mbox{ } n = 0,1,2,\\ldots$\n",
    " * Finalmente crearemos la matriz _B_ = _UDU*_, la cual sera una matriz simétrica definida positiva y con valores propios conocidos.\n",
    " \n",
    "   Nota: Use la misma semilla para crear las matrices aleatorias y realizar la tarea (para esto puede usar la función de numpy _numpy.random.seed_ ).\n",
    "   \n",
    "2. A continuación, se le pide estimar el tiempo que demora cada algoritmo. Para esto, cree matrices $A_{nxn}$ para\n",
    "_n_ = 10, 100, 500 y 1000, luego guarde el tiempo que demora cada algoritmo en ejecutar una iteración. Se recomienda que repita varias veces el experimento por cada método y calcule el promedio de los tiempos guardados. Muestre los resultados obtenidos en un único gráfico. ¿Qué método es mas rápido? ¿Cuánta diferencia de tiempo existe entre el método mas veloz y el mas lento? Concluya.\n",
    "\n",
    "3. Analice que tan preciso son los métodos que usted ha implementado. Para esto, calcule el error $|\\lambda_{real} - \\lambda_{método}^{(i)}|$, hasta que este error sea menor 1e−10, donde $\\lambda_{real}$ es el valor propio dominante e _i_ es el número de iteración. Posteriormente, deberá realizar 4 gráficas (una para cada dimensión n = 10,100,500,1000) donde el eje _x_ son las iteraciones, y el eje _y_ será el error. ¿Qué método es mas preciso? A medida que aumenta el tamaño de la matriz, ¿Qué puede concluir?\n",
    "\n",
    "4. Finalmente, deberá realizar 4 gráficos (uno para cada dimensión n = 10,100,500,1000), donde hará la comparación entre el tiempo (calculado en la pregunta 2) en el eje _x_, y la precisión (calculada en la pregunta 3) en el eje _y_. Para esto, multiplique el número de iteraciones al momento del cálculo del error por el tiempo que se demora cada iteración. ¿Qué método es mejor según usted, y bajo que criterios?"
   ]
  },
  {
   "cell_type": "markdown",
   "metadata": {},
   "source": [
    "<div id='aplicacion' />\n",
    "## 3.2 _Aplicando lo aprendido_\n",
    "\n",
    "* Una de las aplicaciones que se le pueden dar a los vectores y valores propios es el estudio y resolución de las **ecuaciones de diferencia**. Estas ecuaciones son similares a las _ecuaciones diferenciales_, pero usando sucesiones en vez de funciones (con un número finito de pasos). Un ejemplo de esto son los problemas de **crecimiento exponencial** (como el crecimiento de bacterias). La expresión general de la relación de recurrencia describe este modelo como:\n",
    "\n",
    "    $$ P_{n+1} = KP_n $$\n",
    "\n",
    ">Donde $P_0$ es la población inicial, y _K_ la constante de crecimiento. Su solución es:\n",
    "\n",
    "$$ P_n = K^{n}P_0 , \\mbox{ }n=1,2,3, \\ldots$$\n",
    "\n",
    ">Esto se logra ya que reemplazando en nuestra primera ecuación por la condición de población inicial, nos queda:\n",
    "\n",
    "$$ P_1 = KP_0 $$\n",
    "\n",
    ">Si seguimos avanzando, nos damos cuenta que $P_2 = KP_1$, y ya que conocemos $P_1$, esto nos queda que $P_2 = K^{2}P_0$, y haciendo esto _n_ veces llegamos a la solución propuesta anteriormente.\n",
    "\n",
    ">En los problemas de crecimiento y reproducción de especies, un factor muy importante a analizar es la _edad_. Un modelo que nos ayuda a entender y resolver esta problemática es la **matriz de Leslie**. El problema en notación matricial tiene la siguiente estructura:\n",
    "\n",
    "$$ x^{(n+1)} = Ax^{(n)}, \\mbox{ } n \\geq 0 $$\n",
    "\n",
    ">Donde _A_ es la matriz de Leslie y _x_ un vector, con la siguiente forma:\n",
    "\n",
    "$$ A = \\begin{pmatrix} F_1 & F_2 & \\cdots & F_{k-1} & F_k \\\\ P_0 & 0 & \\cdots & 0 & 0 \\\\ 0 & P_1 & \\cdots & 0 & 0 \\\\ \\vdots & \\vdots & \\ddots & \\vdots & \\vdots \\\\ 0 & 0 & \\cdots & P_{k-1} & 0 \\end{pmatrix}, x^{(n)} = \\begin{pmatrix} x_0^{(n)} \\\\ x_1^{(n)} \\\\ \\vdots \\\\ x_k^{(n)} \\end{pmatrix}$$\n",
    "\n",
    ">Donde:\n",
    ">* $x_{i}^{(n)}$ : hembras de edad _i_ vivas en el instante _n_.\n",
    ">* $P_i$ : fracción de hembras de edad _i_ que seguiran vivas un año después.\n",
    ">* $F_i$ : número medio de crías hembras nacidas de una hembra de edad _i_.\n",
    "\n",
    ">Siendo asi, se propone el siguiente problema:\n",
    "\n",
    ">_Supongamos que una población de animales hembras está dividida en dos clases de edad. En cada periodo el 8 % de la primera pasa a la segunda. El número medio de crías hembras de las hembras de la primera clase es de 1,5 y el de la segunda es de 2.\n",
    "Además, inicialmente hay 100 hembras de cada clase de edad_. \n",
    "\n",
    ">Encuentre una expresión explicita para la matriz _A_ y el vector $x^{(n)}$, y grafique el vector para 10 instantes ($n=1,2,\\ldots, 10$). Además, escoja uno de sus algoritmos para encontrar el **valor propio dominante** de la matriz de Leslie. ¿Cual es la relación que existe entre ambos métodos?\n",
    "\n",
    ">_Hint_: _Fíjese como evoluciona el vector $x^{(n)}$ a traves de los instantes, ¿Aumenta o disminuye?_.\n",
    "\n",
    ">_Hint2_: _Para una ecuación $u_n = A^n u_0$, si A es diagonalizable puede escribirse como $c_1 \\lambda_1^n x_1 + c_2 \\lambda_2^n x_2 + \\ldots + c_k \\lambda_k^n x_k $. Si $\\lambda_1$ es el valor propio dominante, ¿Qué se puede deducir de la expresión $c_1 \\lambda_1^{\\large\\textbf{n}} x_1$_ ?\n",
    "\n",
    "* Proponga usted un problema donde son ocupados los vectores y valores propios, y proponga un algoritmo que lo resulva. Sea detallado tanto en su problema como en su algoritmo."
   ]
  },
  {
   "cell_type": "markdown",
   "metadata": {},
   "source": [
    "<div id='instr' />\n",
    "# 4. _Instrucciones_:\n",
    " \n",
    " \n",
    "* La estructura del laboratorio es la siguiente:\n",
    "     1. Título, nombre de estudiante, email y rol.\n",
    "     2. Introducción.\n",
    "     3. Desarrollo y análisis de resultados.\n",
    "     4. Conclusiones.\n",
    "     5. Referencias.\n",
    "* El laboratorio debe ser realizado en `Jupyter` notebook (`Python3`).\n",
    "* Se evaluará la correcta utilización de librerias `NumPy`, `SciPy`, `SymPy`, `Matplotlib` y `ipywidgets`, así como la correcta implementación de algoritmos vectorizados cuando se indique.\n",
    "* El archivo de entrega debe denominarse Tarea1-rol.tar.gz, y debe contener un directorio con todos los archivos necesarios para ejecutar el notebook, junto con un archivo README indicando explícitamente las bibliotecas extras utilizadas.\n",
    "* El descuento por día de atraso será de $30$ puntos, con un máximo de 1 día de atraso. No se recibirán entregas después de este día.\n",
    "* El trabajo es personal, no se permite compartir código, aunque sí se sugiere discutir aspectos generales con sus compañeros. En caso de sospecha de copia, se citará a los involucrados a defender sus conocimientos de manera presencial, evaluación cuya nota reemplazará la obtenida en la tarea.\n",
    "* El no seguir estas instrucciones, implica descuentos en su nota obtenida."
   ]
  }
 ],
 "metadata": {
  "anaconda-cloud": {},
  "kernelspec": {
   "display_name": "Python [default]",
   "language": "python",
   "name": "python2"
  },
  "language_info": {
   "codemirror_mode": {
    "name": "ipython",
    "version": 2
   },
   "file_extension": ".py",
   "mimetype": "text/x-python",
   "name": "python",
   "nbconvert_exporter": "python",
   "pygments_lexer": "ipython2",
   "version": "2.7.8"
  }
 },
 "nbformat": 4,
 "nbformat_minor": 1
}
