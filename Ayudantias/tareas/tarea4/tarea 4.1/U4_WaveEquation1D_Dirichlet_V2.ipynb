{
 "cells": [
  {
   "cell_type": "markdown",
   "metadata": {},
   "source": [
    "<center>\n",
    "    <h1> ILI286 - Computación Científica II  </h1>\n",
    "    <h2> EDP Hiperbólicas: Diferencias Finitas </h2>\n",
    "    <h2> [S]cientific [C]omputing [T]eam<sup>1</sup></h2>\n",
    "</center>\n",
    "\n",
    "  \n",
    "<br>\n",
    "<br>\n",
    "[1] _Material creado por profesor Claudio Torres_ (`ctorres@inf.utfsm.cl`) _y ayudantes: Alvaro Salinas y Martín Villanueva. DI UTFSM. Noviembre 2016._"
   ]
  },
  {
   "cell_type": "markdown",
   "metadata": {},
   "source": [
    "# Tabla de Contenidos\n",
    "* [Ecuación de Onda 1D](#onda)\n",
    "* [Finite Differences con condición de borde de Dirichlet](#dirichlet)"
   ]
  },
  {
   "cell_type": "markdown",
   "metadata": {},
   "source": [
    "### Librerías necesarias"
   ]
  },
  {
   "cell_type": "code",
   "execution_count": 12,
   "metadata": {
    "collapsed": true
   },
   "outputs": [],
   "source": [
    "%matplotlib inline\n",
    "import numpy as np\n",
    "import scipy.linalg as spla\n",
    "import matplotlib.pyplot as plt\n",
    "from ipywidgets import widgets\n",
    "from ipywidgets import interact\n",
    "import scipy.optimize"
   ]
  },
  {
   "cell_type": "markdown",
   "metadata": {},
   "source": [
    "<div id='onda' />\n",
    "# Ecuación de Onda 1D #\n",
    "\n",
    "Consideremos la siguiente EDP hiperbólica, para $ x \\in [a,b] \\ \\ $ y $t \\in [0,T_{max}] \\ \\ $:\n",
    "\\begin{align*}\n",
    "u_{tt}(x,t) &= c^2\\, u_{xx}(x,t) \\\\\n",
    "u(x,0) &= f(x)\\\\\n",
    "u_t(x,0) &= g(x)\\\\\n",
    "u(a,t) &= l(t)\\\\\n",
    "u(b,t) &= r(t)\n",
    "\\end{align*}\n",
    "\n",
    "Utilizando diferencias finitas, la ecuación nos queda:\n",
    "\\begin{align*}\n",
    "u_{tt}(x,t) &= c^2\\, u_{xx}(x,t) \\\\\n",
    "\\dfrac{u_i^{t+1}-2u_i^t+u_i^{t-1}}{\\Delta t^2} &= c^2\\, \\dfrac{u_{i+1}^t-2u_i^t+u_{i-1}^t}{\\Delta x^2} \n",
    "\\end{align*}\n",
    "\n",
    "Nuestra incógnita sería $u_i^{t+1}$, la cual se puede calcular teniendo información de los dos tiempos anteriores. Por lo tanto, despejando llegamos a:\n",
    "\n",
    "$$u_i^{t+1} = \\dfrac{c^2 \\Delta t^2}{\\Delta x^2}\\left(u_{i+1}^t + u_{i-1}^t\\right) + 2\\left(1 - \\dfrac{c^2 \\Delta t^2}{\\Delta x^2}\\right)u_i^t - u_i^{t-1}$$\n",
    "\n",
    "Si bien esto se resuelve directamente a medida que avanzamos en el tiempo, en $t=1$ nos faltará el valor de $u_i^{-1}$, pero recordando que:\n",
    "$$u_t = \\dfrac{u_i^{t+1} - u_i^{t-1}}{2\\Delta t}$$\n",
    "se puede utilizar la condición incial para obtener:\n",
    "\\begin{align*}\n",
    "u_i^{t+1} &= \\dfrac{c^2 \\Delta t^2}{2 \\Delta x^2}\\left(u_{i+1}^t + u_{i-1}^t\\right) + \\left(1 - \\dfrac{c^2 \\Delta t^2}{\\Delta x^2}\\right)u_i^t + \\Delta t u_t \\\\\n",
    "u_i^1 &= \\dfrac{c^2 \\Delta t^2}{2 \\Delta x^2}\\left(u_{i+1}^0 + u_{i-1}^0\\right) + \\left(1 - \\dfrac{c^2 \\Delta t^2}{\\Delta x^2}\\right)u_i^0  + \\Delta t u_t(x_i,0)\n",
    "\\end{align*}"
   ]
  },
  {
   "cell_type": "markdown",
   "metadata": {},
   "source": [
    "<div id='dirichlet' />\n",
    "## Finite Differences con condición de borde de Dirichlet ##"
   ]
  },
  {
   "cell_type": "code",
   "execution_count": 14,
   "metadata": {
    "collapsed": true
   },
   "outputs": [],
   "source": [
    "def Dirichlet(x,f,g,l,r,c2,dx,dt,N,M):\n",
    "    \n",
    "    sigma2 = c2 * dt**2 / dx**2\n",
    "    \n",
    "    print('sigma**2= ',sigma2)\n",
    "        \n",
    "    # The approximation for all time-steps\n",
    "    w  = np.zeros((M+1,N))\n",
    "    \n",
    "    # Initial condition\n",
    "    w[0,:]=f\n",
    "        \n",
    "    # Building A\n",
    "    d=np.zeros(N-2)\n",
    "    d[0]=2-2*sigma2\n",
    "    d[1]=sigma2\n",
    "    A=spla.toeplitz(d)\n",
    "    \n",
    "    ## Fist step\n",
    "    tmp=np.zeros(N-2)\n",
    "    tmp[0]=w[0,0]\n",
    "    tmp[-1]=w[0,-1]\n",
    "    w[1,1:-1]=0.5*(np.dot(A,w[0,1:-1]))+dt*g[1:-1]+0.5*sigma2*tmp\n",
    "    \n",
    "    ## All the rest of the steps\n",
    "    for t in range(2,M+1):\n",
    "        tmp[0]=l(dt*t)\n",
    "        tmp[-1]=r(dt*t)\n",
    "        w[t,1:-1]=np.dot(A,w[t-1,1:-1])-w[t-2,1:-1]+sigma2*tmp\n",
    "    return w"
   ]
  },
  {
   "cell_type": "code",
   "execution_count": 15,
   "metadata": {
    "collapsed": true
   },
   "outputs": [],
   "source": [
    "def l(t):\n",
    "    return 0*t\n",
    "\n",
    "def r(t):\n",
    "    return 0*t"
   ]
  },
  {
   "cell_type": "code",
   "execution_count": 16,
   "metadata": {
    "collapsed": true
   },
   "outputs": [],
   "source": [
    "def plot(us,i=0):\n",
    "    plt.plot(x,us[i])\n",
    "    plt.ylim(-0.11,0.11)\n",
    "    plt.title('Tiempo: '+str(i*dt))\n",
    "    plt.show()"
   ]
  },
  {
   "cell_type": "code",
   "execution_count": 17,
   "metadata": {
    "collapsed": true
   },
   "outputs": [],
   "source": [
    "N=100\n",
    "M=200\n",
    "TMAX = 40\n",
    "x = np.linspace(-20,20,N)\n",
    "t = np.linspace(0,TMAX,M)\n",
    "\n",
    "c = 2\n",
    "\n",
    "dx = x[1]-x[0]\n",
    "dt = t[1]-t[0]\n",
    "\n",
    "# RECALL: CFL condition:\n",
    "#  if c dt/dx<=1 => stability\n",
    "#  else (c dt/dx>1) instability. "
   ]
  },
  {
   "cell_type": "code",
   "execution_count": 18,
   "metadata": {
    "collapsed": true
   },
   "outputs": [],
   "source": [
    "## Numerical Initial Conditions, notice these are numerical arrays!\n",
    "# i.e. vectors not functions.\n",
    "# u(x,0)=f(x)\n",
    "f1 = 0.1*np.exp(-x**2)\n",
    "f2 = 0.1*np.sin(2*x*np.pi/8)\n",
    "\n",
    "# u_t(x,0)=f(x)\n",
    "# SOLITON\n",
    "#g1 = (np.exp(-(x-0.2)**2) - np.exp(-(x+0.2)**2))/2\n",
    "g1 = np.zeros(N)\n",
    "# ONDA QUE SE DIVIDE\n",
    "g2 = np.zeros(N)"
   ]
  },
  {
   "cell_type": "code",
   "execution_count": 19,
   "metadata": {},
   "outputs": [
    {
     "name": "stdout",
     "output_type": "stream",
     "text": [
      "sigma**2=  0.989975000631\n"
     ]
    }
   ],
   "source": [
    "us1 = Dirichlet(x,f1,g1,l,r,c**2,dx,dt,N,M)"
   ]
  },
  {
   "cell_type": "code",
   "execution_count": 20,
   "metadata": {},
   "outputs": [
    {
     "name": "stderr",
     "output_type": "stream",
     "text": [
      "/Users/Roberto/anaconda/lib/python3.5/site-packages/traitlets/traitlets.py:567: FutureWarning: comparison to `None` will result in an elementwise object comparison in the future.\n",
      "  silent = bool(old_value == new_value)\n"
     ]
    },
    {
     "data": {
      "application/vnd.jupyter.widget-view+json": {
       "model_id": "fc77b13df9264243b23055d6c8fb8d2e"
      }
     },
     "metadata": {},
     "output_type": "display_data"
    },
    {
     "data": {
      "text/plain": [
       "<function __main__.plot>"
      ]
     },
     "execution_count": 20,
     "metadata": {},
     "output_type": "execute_result"
    }
   ],
   "source": [
    "dp = 1\n",
    "widgets.interact(plot,us=widgets.fixed(us1),i=(0,M,dp))"
   ]
  },
  {
   "cell_type": "code",
   "execution_count": 10,
   "metadata": {
    "collapsed": true
   },
   "outputs": [],
   "source": [
    "#Definimos las ecuaciones diferenciales planteadas en el enunciado\n",
    "def F(y,a,b):\n",
    "    return np.array([-b*y[0]*y[1],b*y[0]*y[1] - a*y[1],a*y[1]])\n",
    "    \n",
    "#resolvemos el problema con el metodo de euler, pasandole un initial guess y2 y los valores de alpha y beta.\n",
    "def solve_SIR(y2,a,b):\n",
    "    xi = [763,y2,0]\n",
    "    #discretizamos el espacio en 200 puntos de 0 a 14, ya que conocemos los valores en ese extremo.\n",
    "    time_grid = np.linspace(0,14,200)\n",
    "    for i in range(len(time_grid)-1):\n",
    "        #definimos un h pequeño, el cual sera los espacios entre punto y punto de nuestra discretización.\n",
    "        h = time_grid[i+1] - time_grid[i]\n",
    "        #actualizamos el vector con el metodo de euler.\n",
    "        xi = xi + h*F(xi,a,b)\n",
    "    #retornamos el valor de I(t) en 14.    \n",
    "    return xi[1]"
   ]
  },
  {
   "cell_type": "code",
   "execution_count": 11,
   "metadata": {},
   "outputs": [
    {
     "name": "stdout",
     "output_type": "stream",
     "text": [
      "Valor de I(14) sin aplicar busqueda de 0:\n",
      "10.6190505186\n",
      "\n",
      "\n"
     ]
    },
    {
     "ename": "NameError",
     "evalue": "name 'scipy' is not defined",
     "output_type": "error",
     "traceback": [
      "\u001b[0;31m---------------------------------------------------------------------------\u001b[0m",
      "\u001b[0;31mNameError\u001b[0m                                 Traceback (most recent call last)",
      "\u001b[0;32m<ipython-input-11-da68a25d9da7>\u001b[0m in \u001b[0;36m<module>\u001b[0;34m()\u001b[0m\n\u001b[1;32m     11\u001b[0m     \u001b[0;32mreturn\u001b[0m\u001b[0;34m(\u001b[0m\u001b[0msolve_SIR\u001b[0m\u001b[0;34m(\u001b[0m\u001b[0mx\u001b[0m\u001b[0;34m,\u001b[0m\u001b[0;36m0.4477\u001b[0m\u001b[0;34m,\u001b[0m\u001b[0;36m0.0022\u001b[0m\u001b[0;34m)\u001b[0m \u001b[0;34m-\u001b[0m \u001b[0;36m23\u001b[0m\u001b[0;34m)\u001b[0m\u001b[0;34m\u001b[0m\u001b[0m\n\u001b[1;32m     12\u001b[0m \u001b[0;34m\u001b[0m\u001b[0m\n\u001b[0;32m---> 13\u001b[0;31m \u001b[0mx1\u001b[0m \u001b[0;34m=\u001b[0m \u001b[0mscipy\u001b[0m\u001b[0;34m.\u001b[0m\u001b[0moptimize\u001b[0m\u001b[0;34m.\u001b[0m\u001b[0mbroyden2\u001b[0m\u001b[0;34m(\u001b[0m\u001b[0mg\u001b[0m\u001b[0;34m,\u001b[0m\u001b[0minitial_guess\u001b[0m\u001b[0;34m)\u001b[0m\u001b[0;34m\u001b[0m\u001b[0m\n\u001b[0m\u001b[1;32m     14\u001b[0m \u001b[0mprint\u001b[0m\u001b[0;34m(\u001b[0m\u001b[0;34m\"Valor de I(14) aplicando busqueda de 0:\"\u001b[0m\u001b[0;34m)\u001b[0m\u001b[0;34m\u001b[0m\u001b[0m\n\u001b[1;32m     15\u001b[0m \u001b[0mprint\u001b[0m\u001b[0;34m(\u001b[0m\u001b[0mx1\u001b[0m\u001b[0;34m)\u001b[0m\u001b[0;34m\u001b[0m\u001b[0m\n",
      "\u001b[0;31mNameError\u001b[0m: name 'scipy' is not defined"
     ]
    }
   ],
   "source": [
    "#Probamos nuestro algoritmo\n",
    "initial_guess = 10\n",
    "\n",
    "solx = solve_SIR(initial_guess,0.4477,0.0022)\n",
    "print(\"Valor de I(14) sin aplicar busqueda de 0:\")\n",
    "print(solx)\n",
    "print(\"\\n\")\n",
    "\n",
    "#Definimos la funcion a la cual le aplicaremos la busqueda de 0 con broyden.\n",
    "def g(x):\n",
    "    return(solve_SIR(x,0.4477,0.0022) - 23)\n",
    "\n",
    "x1 = scipy.optimize.broyden2(g,initial_guess)\n",
    "print(\"Valor de I(14) aplicando busqueda de 0:\")\n",
    "print(x1)"
   ]
  },
  {
   "cell_type": "code",
   "execution_count": 21,
   "metadata": {},
   "outputs": [],
   "source": [
    "def diferent_a_graphic(a):    \n",
    "    \n",
    "    initial_guess = 1\n",
    "\n",
    "    solx = solve_SIR(initial_guess,a,0.0022)\n",
    "    \n",
    "    def g3(x):\n",
    "        return(solve_SIR(x,a,0.0022) - 21)\n",
    "\n",
    "    x1 = scipy.optimize.broyden2(g3,initial_guess)\n",
    "    x = []\n",
    "    y_1 = []\n",
    "    y_2 = []\n",
    "    y_3 = []\n",
    "    xi = np.array([763,x1,0])\n",
    "    eje_x = 0\n",
    "    time_grid = np.linspace(0,14,200)\n",
    "    for i in range(len(time_grid)-1):\n",
    "        h = time_grid[i+1] - time_grid[i]\n",
    "        eje_x = eje_x + h\n",
    "        x.append(eje_x)\n",
    "        y_1.append(xi[0])\n",
    "        y_2.append(xi[1])\n",
    "        y_3.append(xi[2])\n",
    "        xi = xi + h*F(xi,a,0.0022)\n",
    "    return x,y_1,y_2,y_3"
   ]
  },
  {
   "cell_type": "code",
   "execution_count": 24,
   "metadata": {
    "collapsed": true
   },
   "outputs": [],
   "source": [
    "def plot_a(a):\n",
    "    x,y_1,y_2,y_3 = diferent_a_graphic(a)\n",
    "    fig = plt.figure(figsize=(14, 7)) \n",
    "    plt.plot(x, y_1,'-y' ,label = 'suceptible')\n",
    "    plt.plot(x, y_2,'-b', label = 'infectado')\n",
    "    plt.plot(x, y_3,'-g', label = 'resistente')\n",
    "    plt.grid(True)\n",
    "    plt.grid(color = '0.5', linestyle = '--', linewidth = 1)\n",
    "    plt.title(\"Avance de la poblacion con a = \" + str(a),fontsize = 14, verticalalignment = 'baseline', horizontalalignment = 'center')\n",
    "    plt.axis('tight')\n",
    "    plt.legend(loc = 2,prop={'size':14})\n",
    "    plt.xlabel(\"tiempo\", fontsize = 14)\n",
    "    plt.ylabel(\"población\", fontsize = 14)\n",
    "    plt.show()"
   ]
  },
  {
   "cell_type": "code",
   "execution_count": 25,
   "metadata": {},
   "outputs": [
    {
     "data": {
      "application/vnd.jupyter.widget-view+json": {
       "model_id": "f7ee6c81a2c44f259923c3e5b2498640"
      }
     },
     "metadata": {},
     "output_type": "display_data"
    },
    {
     "data": {
      "text/plain": [
       "<function __main__.plot_a>"
      ]
     },
     "execution_count": 25,
     "metadata": {},
     "output_type": "execute_result"
    }
   ],
   "source": [
    "dp = 0.03\n",
    "widgets.interact(plot_a, a = (0.4477,0.8888,dp))"
   ]
  },
  {
   "cell_type": "code",
   "execution_count": null,
   "metadata": {
    "collapsed": true
   },
   "outputs": [],
   "source": []
  }
 ],
 "metadata": {
  "anaconda-cloud": {},
  "kernelspec": {
   "display_name": "Python (myenv)",
   "language": "python",
   "name": "py35"
  },
  "language_info": {
   "codemirror_mode": {
    "name": "ipython",
    "version": 3
   },
   "file_extension": ".py",
   "mimetype": "text/x-python",
   "name": "python",
   "nbconvert_exporter": "python",
   "pygments_lexer": "ipython3",
   "version": "3.5.3"
  },
  "widgets": {
   "state": {
    "6558ba6576cd42e5a411abdf23d69670": {
     "views": [
      {
       "cell_index": 16
      }
     ]
    },
    "90271327db7a4b138e0b2ab5f7a3707a": {
     "views": [
      {
       "cell_index": 14
      }
     ]
    },
    "93fbc09a562b462e9a16da707443356b": {
     "views": [
      {
       "cell_index": 12
      }
     ]
    }
   },
   "version": "1.2.0"
  }
 },
 "nbformat": 4,
 "nbformat_minor": 1
}
