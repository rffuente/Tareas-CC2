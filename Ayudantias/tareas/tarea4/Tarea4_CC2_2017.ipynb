{
 "cells": [
  {
   "cell_type": "markdown",
   "metadata": {},
   "source": [
    "<center>\n",
    "    <h1> ILI286 - Computación Científica II </h1>\n",
    "    <h2> Tarea 4 </h2>\n",
    "    <h2> [S]cientific [C]omputing [T]eam </h2>\n",
    "    <h3> _5 de Mayo 2017_ </h3>\n",
    "</center>"
   ]
  },
  {
   "cell_type": "markdown",
   "metadata": {},
   "source": [
    "# Tabla de Contenidos\n",
    "* [1.- Objetivos](#obj)\n",
    "* [2.- Introducción](#intro)\n",
    "* [3.- Explicación](#explicacion)\n",
    "* [4.- Preguntas](#preguntas)\n",
    "     - [Pregunta 1](#pregunta1)\n",
    "     - [Pregunta 2](#pregunta2)\n",
    "     - [Pregunta 3](#pregunta3)\n",
    "     - [Pregunta 4](#pregunta4)\n",
    "* [4.- Instrucciones](#instr)\n",
    "* [5.- Referencias](#ref)"
   ]
  },
  {
   "cell_type": "markdown",
   "metadata": {},
   "source": [
    "<div id='obj' />\n",
    "# 1. _Objetivos_\n",
    "\n",
    "Para la presente tarea se tiene por objetivos:\n",
    "\n",
    "<ol>\n",
    "<li> Estudiar un caso de aplicación de problemas condición de frontera </li>\n",
    "<li> Aprender y analizar métodos mas complejos para la solución numérica de sistemas ecuaciones no lineales (raíces)</li>\n",
    "<li> Realizar un análisis al método de disparo aplicado a un sistema de ecuaciones </li>\n",
    "\n",
    "</ol>"
   ]
  },
  {
   "cell_type": "markdown",
   "metadata": {},
   "source": [
    "<div id='intro' />\n",
    "# 2. _Introducción_ "
   ]
  },
  {
   "cell_type": "markdown",
   "metadata": {},
   "source": [
    "En este laboratorio se analizará como resolver sistemas de ecuaciones diferenciales no lineales a travez del _shooting method_.  Ademas veremos su uso en aplicaciones reales, como lo es el modelo _SIR_, que explica la evolución de una enfermedad infecciosa creada por un virus o una bacteria."
   ]
  },
  {
   "cell_type": "markdown",
   "metadata": {},
   "source": [
    "<div id='explicacion' />\n",
    "# 3. _Explicación_ "
   ]
  },
  {
   "cell_type": "markdown",
   "metadata": {},
   "source": [
    "El modelo SIR es un modelo básico que explica la evolución de una enfermedad infecciosa creada por un virus o una bacteria. Un ejemplo de este tipo de enfermedades es la gripe A o el ébola. \n",
    "\n",
    "Este modelo consiste en un sistema de 3 **_EDO’s_ no lineales** que no posee una solución explícita. Sin embargo, usando herramientas matemáticas y computacionales podemos extraer información acerca de las soluciones del sistema. El modelo SIR es un modelo compartimental porque divide a la población en 3 compartimentos:\n",
    "\n",
    "* _S(t)_: Representa al número de individuos susceptibles, individuos sanos que al entrar en contacto con la enfermedad pueden resultar infectados, en función del tiempo.\n",
    "\n",
    "* _I(t)_: Representa al número de individuos infectados, individuos que pueden transmitir la enfermedad al grupo _S(t)_, en función del tiempo.\n",
    "\n",
    "* _R(t)_: Representa al número de individuos retirados, individuos que se han recuperado de la enfermedad y se han vuelto inmunes o han muerto, en función del tiempo.\n",
    "\n",
    "Ademas, se realizan las siguientes hipotesis:\n",
    "\n",
    "* La población se mantiene constante, es decir, no se tienen en cuenta los nacimientos y muertes que se producen a lo largo del desarrollo de la enfermedad. Si denotamos por _N_ a la población total de individuos tenemos que la suma del número de individuos de cada uno de los 3 grupos es igual al total de la población:\n",
    "\n",
    "$$N = S(t) + I(t) + R(t)$$\n",
    "\n",
    "* La enfermedad se transmite por contacto directo entre las personas.\n",
    "* En cuanto un individuo es infectado pasa a estar en el grupo de los infectados.\n",
    "* Los individuos del grupo _I(t)_ se acaban recuperando de la enfermedad y adquieren la inmunidad o mueren (pasando en ambos casos al grupo _R(t)_).\n",
    "\n",
    "La formulación del modelo nos lleva al siguiente sistema de ecuaciones diferenciales ordinarias no lineales:\n",
    "\n",
    "$$\n",
    "\\begin{array}{ll}\n",
    "\\displaystyle \\frac{dS}{dt} = -\\beta\\cdot S(t)\\cdot I(t) & \\displaystyle S(0)= S_0\\\\\n",
    "\\\\\n",
    "\\displaystyle \\frac{dI}{dt} = \\beta\\cdot S(t)\\cdot I(t) - \\alpha\\cdot R(t) & \\displaystyle I(0)=I_0\\\\\n",
    "\\\\\n",
    "\\displaystyle \\frac{dR}{dt} = \\alpha\\cdot R(t) & \\displaystyle R(0)=R_0\\\\\n",
    "\\end{array}\n",
    "$$\n",
    "\n",
    "donde $S_0,I_0$ y $R_0$ son valores iniciales que tiene cada ecuación, y $\\alpha > 0, \\beta > 0$ son tasas que usted tendrá que analizar más adelante.\n",
    "\n",
    "En el año 1978 se informó a la conocida revista British Medical Journal de un brote de gripe en un internado del norte de Inglaterra que se extendió del 22 de enero al 4 de febrero, afectando a una poblacion de 763 personas. Lamentablemente, debido a una falla del sistema se ha perdido la información de la evolución de esta epidemia. Uno de los datos recuperados es el siguiente: La cantidad de personas **infectadas** a los 14 dias es 23. Se le ha pedido entonces al curso de _Computación Cientifica 2_ que analize y resuelva este problema.\n",
    "\n",
    "Para este ejercicio ,se va a implementar el 'método del disparo' para el sistema de ecuaciones presentado, de modo que para encontrar encontrar la raiz <code>F(s) = 0 </code> es necesario un método mas complejo que el método de bisección, de modo que introducimos el <em>método de Broyden</em>$^1$ \n",
    "\n",
    "<div id='broy' />\n",
    "<h3> Broyden's Method </h3>\n",
    "<p>En análisis numérico, el método de Broyden es un método quasi-Newtoniano para encontrar raíces en un sistema de <code>k</code> variables. El conocido método de Newton es usado para encontrar un x tal que <code>f(x) = 0</code>, y para ello usa la matriz jacobiana <b><code>J</code></b>. Sin embargo, calcular esta matriz puede resultar en un costo computacional muy alto en algunos casos. La idea del método de Broyden es calcular la matriz jacobiana solo en la primera iteración, y generar actualizaciones en las siguientes iteraciones. </p>\n",
    "\n",
    "<p> El pseudocódigo para el método de Broyden es el siguiente. Note que como parametros de entrada se necesita un vector de soluciones inicial $x_0$ y una matriz $B_0$ , la cual si es imposible de calcular, se puede usar $B_0 = I$: </p>\n",
    "<h3> Broyden's Method PseudoCode </h3>\n",
    "\n",
    "$1. \\enspace x_0 = Initial Vector $\n",
    "\n",
    "$2. \\enspace B_0 = Initial Matrix $\n",
    "\n",
    "$3. \\enspace \\textbf{for }  i = 0,1,2,...$\n",
    "\n",
    "$4. \\quad \\quad x_{i+1} = x_{i} - B_{i} F(x_i)$\n",
    "\n",
    "$5. \\quad \\quad B_{i+1} = B_{i} + \\frac{(\\delta_{i+1} - B_{i}\\Delta_{i+1})\\delta_{i+1}^T B_i}{\\delta_{i+1}^T B_i\\Delta_{i+1}}$\n",
    "\n",
    "$6.\\enspace \\textbf{end}$\n",
    "\n",
    "$7. \\quad \\quad where \\enspace  \\delta_i = x_i - x_{i-1} and \\enspace \\Delta_i = F(x_i) - F(x_{i-1})$\n",
    "\n"
   ]
  },
  {
   "cell_type": "markdown",
   "metadata": {},
   "source": [
    "<div id='preguntas' />\n",
    "# 4. _preguntas_ "
   ]
  },
  {
   "cell_type": "markdown",
   "metadata": {},
   "source": [
    "<div id='pregunta1' />\n",
    "### Pregunta 1"
   ]
  },
  {
   "cell_type": "markdown",
   "metadata": {},
   "source": [
    "<ul style=\"list-style-type: none;\">\n",
    "<li>\n",
    "        \n",
    "        <b>a)</b> Implemente el método de Broyden. Recuerde que para analizar la raiz de $F(x)$ en un sistema de ecuaciones debe analizar $||F(x)||_{2}$. Para comprobar el correcto funcionamiento del método, impleméntelo en el sistema de ecuaciones: \n",
    "        \n",
    "        $$ F(x) = \\begin{pmatrix} x_2^2 - x_1^3  \\\\ x_1^2 + x_2^2 - 1 \\end{pmatrix} $$\n",
    "        $$ x_0 =  \\begin{pmatrix} 1 \\\\ 1 \\end{pmatrix} \\quad \\quad B_{0} = F^{'}(x_0) $$\n",
    " <p> Compruebe sus resultados con la libreria <code> scipy.optimize.broyden2 </code> el cual tiene el método de Broyden II implementado. Analize el error absoluto entre el valor obtenido mediante la función implementada por usted y la función de <code> scipy.optimize. </code>    </p> $$$$ Explique ademas que sucede si aumenta uno de los 2 valores iniciales.\n",
    " \n",
    "</ul>"
   ]
  },
  {
   "cell_type": "markdown",
   "metadata": {},
   "source": [
    "<div id='pregunta2' />\n",
    "### Pregunta 2"
   ]
  },
  {
   "cell_type": "markdown",
   "metadata": {},
   "source": [
    "<ul style=\"list-style-type: none;\">\n",
    "\n",
    "    <li><b>b) </b> Resuelva el modelo _SIR_ con _Shooting Method_ para valores $\\alpha = 0.4477$ y $\\beta = 0.0022$. Dado que es un sistema de ecuaciones, la función _F_ debe tener al menos como parámetros de entrada los valores iniciales que no se encuentran estimados en el enunciado $I(0)$, y retornar el valor final que se encuentran en el enunciado $I(14)$. Recuerde que dado _Shooting Method_ es necesario usar un ODE-Solver para resolver Problemas de Valor Inicial (_IVP_) como _Euler Method_.\n",
    "    $$$$\n",
    "    Es recomendable que implemente una función que tome como parámetro un array de funciones (las 3 funciones del sistema de ecuaciones) y resuelva a la vez todas las funciones.\n",
    "    </li>\n",
    "    \n",
    "</ul>"
   ]
  },
  {
   "cell_type": "markdown",
   "metadata": {},
   "source": [
    "<div id='pregunta3' />\n",
    "### Pregunta 3"
   ]
  },
  {
   "cell_type": "markdown",
   "metadata": {},
   "source": [
    "<ul style=\"list-style-type: none;\">\n",
    "    <li> <b>c)</b> Grafique las soluciones del punto anterior es un único gráfico con respecto al tiempo. Para esto, guarde los valores de _S_,_I_ y _R_ en cada iteración, y grafiquelos con _plot_. Concluya que significa las curvas que genera su función. Puede usar la función _broyden_ que creo en el item 1 o usar la función <code>scipy.optimize.broyden2</code> de _python_. \n",
    "    </li>$$$$\n",
    "    \n",
    "</ul>"
   ]
  },
  {
   "cell_type": "markdown",
   "metadata": {},
   "source": [
    "<div id='pregunta4' />\n",
    "### Pregunta 4"
   ]
  },
  {
   "cell_type": "markdown",
   "metadata": {},
   "source": [
    "<ul style=\"list-style-type: none;\">\n",
    "    <li> <b>d)</b> Como se mencionó antes, deberá descubir que significan las tasas $\\alpha$ y $\\beta$. Para esto, usando las mismas condiciones iniciales y finales, use la funcion <code> interact </code> de la libreria <code> ipywidgets </code>$^2$, donde **$\\alpha \\in \\text{ }$[0.0011, 0.0022]** y **$\\beta \\in \\text{ }$[0.4477, 0.8888]**. Para esto, deje una tasa fija y varíe la otra, y explique que sucede con las curvas generadas, concluyendo además que significa cada tasa y como influye su aumento o disminución en el gráfico. \n",
    "    </li>\n",
    "    \n",
    "</ul>"
   ]
  },
  {
   "cell_type": "markdown",
   "metadata": {},
   "source": [
    "<div id='pregunta5' />\n",
    "### Pregunta 5"
   ]
  },
  {
   "cell_type": "markdown",
   "metadata": {},
   "source": [
    "<ul style=\"list-style-type: none;\">\n",
    "    <li> <b>e)</b>  En la siguiente tabla aparecen los datos del número real de personas enfermas cada día:    \n",
    "    </li>\n",
    "</ul>\n",
    "\n",
    "| Día     |  Infectados reales  |\n",
    "|:-------:|:-------------------:|\n",
    "|    1    |         3           |\n",
    "|    2    |         8           |\n",
    "|    3    |         28          |\n",
    "|    4    |         75          |\n",
    "|    5    |         221         |\n",
    "|    6    |         291         |\n",
    "|    7    |         255         |\n",
    "|    8    |         235         |\n",
    "|    9    |         190         |\n",
    "|    10   |         125         |\n",
    "|    11   |         70          |\n",
    "|    12   |         28          |\n",
    "|    13   |         12          |\n",
    "|    14   |         5           |\n",
    "\n",
    "\n",
    "    \n",
    "    \n",
    "<ul style=\"list-style-type: none;\">   \n",
    "    <li> Se sabe además que la epidemia comenzó con un infectado, y que la poblacion inicial es de 763 personas. Determine los valores reales de $\\alpha$ y $\\beta$ que mejor se ajusten al caso, y explique los pasos que realizó para obtenerlos. Para esto, debera realizar una estimación de $\\alpha$ y $\\beta$ usando las condiciones iniciales y el sistema de ecuaciones. Grafique el resultado con su estimación de $\\alpha$ y $\\beta$ versus la estimación con valores reales. Para esto, use el siguiente formato:\n",
    "    </li>\n",
    "</ul>    "
   ]
  },
  {
   "cell_type": "code",
   "execution_count": 1,
   "metadata": {},
   "outputs": [
    {
     "data": {
      "image/png": "[encoded data removed]",
      "text/plain": [
       "<matplotlib.figure.Figure at 0x103c789b0>"
      ]
     },
     "metadata": {},
     "output_type": "display_data"
    }
   ],
   "source": [
    "import numpy as np\n",
    "import matplotlib.pyplot as plt\n",
    "%matplotlib inline\n",
    "\n",
    "#Data a graficar\n",
    "t = [1,2,3,4,5,6,7]\n",
    "data_real = [2,4,6,8,6,4,2]\n",
    "data_aproximada = [2.4,3.4,5.5,7.6,6.2,3.8,2.5]\n",
    "\n",
    "fig = plt.figure(figsize=(12, 6)) \n",
    "#Grafica de la data real\n",
    "plt.plot(t,data_real,'-r', label = 'data_aproximada')\n",
    "plt.hold(True)\n",
    "#Grafica de la data aproximada\n",
    "plt.plot(t, data_aproximada,'*', label = 'data real')\n",
    "plt.grid(True)\n",
    "plt.grid(color = '0.5', linestyle = '--', linewidth = 1)\n",
    "plt.title(\"Ejemplo de data\",fontsize = 16, verticalalignment = 'baseline', horizontalalignment = 'center')\n",
    "plt.axis('tight')\n",
    "plt.legend(loc = 2,prop={'size':14})\n",
    "plt.xlabel(\"t\", fontsize = 16)\n",
    "plt.xlim(min(t)-0.3,max(t) + 0.3)\n",
    "plt.ylim(min(data_real),max(data_real) + 0.3)\n",
    "plt.ylabel(\"data\", fontsize = 16)\n",
    "\n",
    "plt.tight_layout()\n",
    "plt.show()"
   ]
  },
  {
   "cell_type": "markdown",
   "metadata": {},
   "source": [
    "Una vez que tenga sus valores iniciales, debera encontrar los parametros $\\alpha$ y $\\beta$ que minimize la siguiente función:\n",
    "\n",
    "$$ \\displaystyle \\sum_{i = 0}^{14} \\left(\\hat{I}(i) - I(i)\\right)^2$$\n",
    "\n",
    "Donde $I(i)$ es el número real de infectados en el día _i_ y $\\hat{I}(i)$ es el número aproximado de individuos infectados que se ha obtenido resolviendo numéricamente el sistema de ecuaciones antes propuesto. Grafique la función con sus nuevas tasas versus los valores reales y concluya si su resultado es aceptable. Para minimizar puede hacer uso de la funcion <code>scipy.optimize.fmin</code>$^3$\n",
    "\n",
    "_Hint1: Si la derivada de un punto nos da 0, quiere decir que hemos alcanzado el máximo de la función._ \n",
    "\n",
    "\n",
    "_Hint2: Recuerde los métodos de integración del laboratorio pasado. Tal vez no conocemos la función dentro de una integral, pero si los valores que tiene la función en distintos instantes._"
   ]
  },
  {
   "cell_type": "markdown",
   "metadata": {
    "collapsed": true
   },
   "source": [
    "<div id='instr' />\n",
    "# 4. _Instrucciones_:\n",
    " \n",
    " \n",
    "* La estructura del laboratorio es la siguiente:\n",
    "     1. Título, nombre de estudiante, email y rol.\n",
    "     2. Introducción.\n",
    "     3. Desarrollo y análisis de resultados.\n",
    "     4. Conclusiones.\n",
    "     5. Referencias.\n",
    "* El laboratorio debe ser realizado en `Jupyter` notebook (`Python3`).\n",
    "* Se evaluará la correcta utilización de librerias `NumPy`, `SciPy`, `SymPy`, `Matplotlib` y `ipywidgets`, así como la correcta implementación de algoritmos vectorizados cuando se indique.\n",
    "* El archivo de entrega debe denominarse Tarea1-rol.tar.gz, y debe contener un directorio con todos los archivos necesarios para ejecutar el notebook, junto con un archivo README indicando explícitamente las bibliotecas extras utilizadas.\n",
    "* El descuento por día de atraso será de $30$ puntos, con un máximo de 1 día de atraso. No se recibirán entregas después de este día.\n",
    "* El trabajo es personal, no se permite compartir código aunque sí se sugiere discutir aspectos generales con sus compañeros. En caso de sospecha de copia, se citará a los involucrados a defender sus conocimientos de manera presencial, evaluación cuya nota reemplazará la obtenida en la tarea.\n",
    "* El no seguir estas instrucciones, implica descuentos en su nota obtenida."
   ]
  },
  {
   "cell_type": "markdown",
   "metadata": {},
   "source": [
    "<div id='ref' />\n",
    "# 5. _Referencias_:\n",
    "\n",
    "* 1.- Pagina 133 del libro guia del curso _Numerical Analysis by Timothy Sauer_\n",
    "* 2.- Documentacion de _Interact_:\n",
    "    - http://ipywidgets.readthedocs.io/en/latest/examples/Using%20Interact.html\n",
    "* 3.- Documentación de la funcion _fmin_:\n",
    "    - https://docs.scipy.org/doc/scipy/reference/generated/scipy.optimize.fmin.html"
   ]
  }
 ],
 "metadata": {
  "anaconda-cloud": {},
  "kernelspec": {
   "display_name": "Python 3",
   "language": "python",
   "name": "python3"
  },
  "language_info": {
   "codemirror_mode": {
    "name": "ipython",
    "version": 3
   },
   "file_extension": ".py",
   "mimetype": "text/x-python",
   "name": "python",
   "nbconvert_exporter": "python",
   "pygments_lexer": "ipython3",
   "version": "3.5.3"
  },
  "widgets": {
   "state": {
    "cafd2588827b466ebea2d13cf504bb66": {
     "views": [
      {
       "cell_index": 35
      }
     ]
    },
    "ff4db2d61c27496d8ad60e2490f16a76": {
     "views": [
      {
       "cell_index": 34
      }
     ]
    }
   },
   "version": "1.2.0"
  }
 },
 "nbformat": 4,
 "nbformat_minor": 2
}
