{
 "cells": [
  {
   "cell_type": "markdown",
   "metadata": {},
   "source": [
    "<center>\n",
    "    <h1> ILI286 - Computación Científica II  </h1>\n",
    "    <h2> Tarea 5 </h2>\n",
    "    <h2> 21 de noviembre del 2016</h2>\n",
    "    <h4> Roberto Felipe Fuentes Zenteno - 201173037-2 - roberto.fuentes@alumnos.usm.cl</h4>\n",
    "</center>"
   ]
  },
  {
   "cell_type": "markdown",
   "metadata": {},
   "source": [
    "# Tabla de Contenidos\n",
    "* [1.- Introducción](#int)\n",
    "* [2.- Pregunta 1](#preg1)\n",
    "* [3.- Pregunta 2](#preg2)\n",
    "* [4.- Pregunta 3](#preg3)\n",
    "* [5.- Bonus](#bonus)\n",
    "    * [1.- Pregunta 1](#bonus1)\n",
    "    * [2.- Pregunta 2](#bonus2)\n",
    "* [7.- Conclusión](#con)\n",
    "* [8.- Referencias](#ref)"
   ]
  },
  {
   "cell_type": "markdown",
   "metadata": {},
   "source": [
    "### Librerías necesarias"
   ]
  },
  {
   "cell_type": "code",
   "execution_count": 1,
   "metadata": {
    "collapsed": false
   },
   "outputs": [],
   "source": [
    "%matplotlib inline\n",
    "import numpy as np\n",
    "import scipy.linalg as spla\n",
    "import matplotlib.pyplot as plt\n",
    "from matplotlib import gridspec\n",
    "from ipywidgets import widgets"
   ]
  },
  {
   "cell_type": "markdown",
   "metadata": {},
   "source": [
    "<div id='preg1' />\n",
    "## Pregunta 1 ##"
   ]
  },
  {
   "cell_type": "markdown",
   "metadata": {},
   "source": [
    "Definimos nuestra función de _diritchlet_ para resolver siguiente ecuación de ondas, acotada por las siguientes condiciones de borde para$ x \\in [-10,10] \\ \\ $ y $t \\in [0,20] \\ \\ $:\n",
    "\\begin{align*}\n",
    "u_{tt}(x,t) &= c^2\\, u_{xx}(x,t) \\\\\n",
    "u(x,0) &= f(x) =  0.1e^{-x^2}\\\\\n",
    "u_t(x,0) &= g(x) = 0\\\\\n",
    "u(-10,t) &= u(10,t)\\\\\n",
    "\\end{align*}\n",
    "\n",
    "Usando un $\\Delta x = 0.2$ y $\\Delta t = 0.1$, y considerando $c^2 = 4$. Para esto debemos realizar diferencias finitas:\n",
    "\n",
    "\\begin{align*}\n",
    "u_{tt}(x,t) &= c^2\\, u_{xx}(x,t) \\\\\n",
    "\\dfrac{u_{i,t+1}-2u_{i,t} +u_{i,t-1}}{\\Delta t^2} &= c^2\\, \\dfrac{u_{i+1,t}-2u_{i,t} +u_{i-1,t}}{\\Delta x^2} \n",
    "\\end{align*}\n",
    "\n",
    "Aqui Nuestra incógnita es $u_{i,t+1}$, la cual despejaremos con la información de los dos tiempos anteriores. Por lo tanto, despejando llegamos a:\n",
    "\n",
    "$$u_{i,t+1} = \\dfrac{c^2 \\Delta t^2}{\\Delta x^2} u_{i+1,t} + 2\\left(1 - \\dfrac{c^2 \\Delta t^2}{\\Delta x^2}\\right)u_{i,t} + \\dfrac{c^2 \\Delta t^2}{\\Delta x^2} u_{i-1,t}- u_{i,t-1}$$\n",
    "\n",
    "Haciendo $\\dfrac{c^2 \\Delta t^2}{\\Delta x^2} = \\sigma$, tenemos que:\n",
    "$$u_{i,t+1} = \\sigma^2 u_{i+1,t} + 2\\left(1 - \\sigma^2\\right)u_{i,t} +  \\sigma^2 u_{i-1,t} - u_{i,t-1}$$\n",
    "\n",
    "Debemos analizar el caso inicial, ya que al reemplazar nuestra ecuación en $t = 0$, nos queda:\n",
    "$$u_{i,1} = \\sigma^2 u_{i+1,1} + 2\\left(1 - \\sigma^2\\right)u_{i,1} + \\sigma^2 u_{i-1,1}- u_{i,-1}$$\n",
    "\n",
    "Aqui no tenemos $u_{i,-1}$, por lo que debemos encontrarlo. Gracias a nuestra condición con derivada y usando _central difference_, tenemos:\n",
    "\n",
    "$$u_t = \\dfrac{u_{i,t+1} - u_{i,t-1}}{2\\Delta t} = 0$$\n",
    "\n",
    "Reemplazando en t = 0 y despejando tenemos que:\n",
    "\n",
    "$$u_{i,-1} = u_{i,1}$$\n",
    "\n",
    "Reemplazando en la ecuación anterior, nos quedan las siguientes ecuaciones para los tiempos $t = 1$ y $t = 2\\cdots$:\n",
    "\n",
    "\\begin{align*}\n",
    "u_{i,t+1} &= \\sigma^2 u_{i+1,t} + \\left(1 - \\sigma^2\\right)u_{i,t} + \\sigma^2 u_{i-1,t} + \\Delta t u_t \\\\\n",
    "u_{i,1} &= \\dfrac{\\sigma^2}{2} u_{i+1,0} + \\left(1 - \\sigma^2\\right)u_{i,0} + \\dfrac{\\sigma^2}{2} u_{i-1,0}  + \\Delta t u_t(x_i,0)\n",
    "\\end{align*}\n",
    "\n",
    "Finalmente uasndo las condiciones periodicas, debemos cambiar el arreglo _tmp_, ya que no recibimos _l(t)_ y _r(t)_ como parámetros, sino que tenemos una ecuación mas de donde sacar información. Si dibujamos el punto inicial (es decir $w_{0,0}$), al momento de obtener el punto $w_{-1,0}$, tendremos que aprovechar nuestras condiciones periodicas, por lo que tendremos que mirar el punto $w_{Nx-1,0}$, el cual es el penultimo punto del otro extremo, y de forma analoga al momento de analizar $w_{N_x+1,1}$ tendremos que ver el punto $w_{1,0}$. \n",
    "Implementando esto en codigo tenemos:"
   ]
  },
  {
   "cell_type": "code",
   "execution_count": 2,
   "metadata": {
    "collapsed": true
   },
   "outputs": [],
   "source": [
    "def periodic_diritchlet(f,g,c,dx,dt,M,N):\n",
    "    \n",
    "    #Generamos el arreglo de puntos.\n",
    "    x = np.linspace(-10,10,N)\n",
    "    t = np.linspace(0,20,M)\n",
    "    \n",
    "    sigma = c**2 * (dt/dx)**2\n",
    "    \n",
    "    if(sigma <= 1):\n",
    "        print(\"Se cumple condicion CFL, sigma**2 = \" + str(sigma))\n",
    "    else:\n",
    "        print(\"No se cumple condicion CFL, sigma**2 = \" + str(sigma))\n",
    "        \n",
    "    #Generamos un arreglo de del tamaño de la discretizacion (en el caso particular de la pregunta 1, de 200x100).\n",
    "    w = np.zeros((M,N))\n",
    "    \n",
    "    #Llenamos la primera fila con la informacion que sabemos, u(x,0) = f(x). \n",
    "    w[0,:] = f(x)\n",
    "    \n",
    "    #Creamos una matriz tridiagonal con los coeficientes correspondientes: en la diagonal A_i,j = 2-2*sigma, y A_i,j+1 y A_i,j-1 = sigma.\n",
    "    B = np.zeros(N)\n",
    "    B[0] = 2 - 2*sigma\n",
    "    B[1] = sigma\n",
    "    A = spla.toeplitz(B)\n",
    "    #Llenamos la primera y ultima fila de esta matriz con 0, asi podremos sumar directamente los bordes.\n",
    "    #A[0,:] = np.zeros(A.shape[0])\n",
    "    #A[-1,:] = np.zeros(A.shape[-1])\n",
    "    \n",
    "    #Para el primer caso asignamos lo presentado anteriormente.\n",
    "    C_t = np.zeros(N)\n",
    "    C_t[0] = w[0,-2]\n",
    "    C_t[-1] = w[0, 1]\n",
    "    w[1,:] = 0.5 * np.dot(A, w[0,:]) + dt*g + 0.5*sigma*C_t\n",
    "    \n",
    "    #Para el resto de caso (t=2 hacia adelante) agregamos los coeficientes como se indico anteriormente.\n",
    "    for k in range(2,M):\n",
    "        C_t[0] = w[k-1, -2]\n",
    "        C_t[-1] = w[k-1, 1]\n",
    "        w[k] = np.dot(A, w[k-1,:]) +  sigma*C_t - w[k-2,:]\n",
    "        \n",
    "    return x,w,dt,t"
   ]
  },
  {
   "cell_type": "code",
   "execution_count": 3,
   "metadata": {
    "collapsed": false
   },
   "outputs": [],
   "source": [
    "#Definimos la funcion para graficar, \n",
    "def plot_diritchlet(us,i=0):\n",
    "    plt.figure(figsize=(10,8))\n",
    "    plt.plot(x,us[i,:],'--bo',color = 'black')\n",
    "    plt.ylim(-0.05,0.11)\n",
    "    plt.xlim(-10,10)\n",
    "    plt.title('Tiempo: '+str(i*dt))\n",
    "    plt.grid()\n",
    "    plt.ylabel('w(x,t)',fontsize=20)\n",
    "    plt.xlabel('x',fontsize=20)\n",
    "    plt.show()"
   ]
  },
  {
   "cell_type": "markdown",
   "metadata": {},
   "source": [
    "Luego damos los valores iniciales correspondientes a la tarea, los cuales fueron nombrados anteriormente:"
   ]
  },
  {
   "cell_type": "code",
   "execution_count": 4,
   "metadata": {
    "collapsed": false,
    "scrolled": true
   },
   "outputs": [
    {
     "name": "stdout",
     "output_type": "stream",
     "text": [
      "Se cumple condicion CFL, sigma**2 = 1.0\n"
     ]
    }
   ],
   "source": [
    "N=100\n",
    "M=200\n",
    "\n",
    "c = 2\n",
    "\n",
    "dx = 0.2\n",
    "dt = 0.1\n",
    "\n",
    "# u(x,0)=f(x)\n",
    "f = lambda x: 0.1*np.exp(-x**2)\n",
    "\n",
    "# u_t(x,0)=g(x)\n",
    "g_1 = np.zeros(N)\n",
    "\n",
    "x,u,dt,t = periodic_diritchlet(f,g_1,c,dx,dt,M,N)"
   ]
  },
  {
   "cell_type": "markdown",
   "metadata": {},
   "source": [
    "Finalmente graficos nuestra solución usando la variable _t_ como la variable independiente, e iremos mirando como se comporta el grafico a medida que avanza el tiempo:"
   ]
  },
  {
   "cell_type": "code",
   "execution_count": 5,
   "metadata": {
    "collapsed": false
   },
   "outputs": [
    {
     "data": {
      "image/png": "[encoded data removed]",
      "text/plain": [
       "<matplotlib.figure.Figure at 0x10eba7860>"
      ]
     },
     "metadata": {},
     "output_type": "display_data"
    }
   ],
   "source": [
    "dp = 1\n",
    "widgets.interact(plot_diritchlet,us=widgets.fixed(u),i=(0,199,dp))"
   ]
  },
  {
   "cell_type": "markdown",
   "metadata": {
    "collapsed": true
   },
   "source": [
    "Observamos que efectivamente en u(x,0), nuestra función original es _f(x)_, y a medida que avanza el tiempo vemos como esta se transforma en 2 ondas de amplitud 0.05. A medida que avanza el tiempo nos damos cuenta que basicamente eran 2 ondas de amplitud 0.05, que justo en el tiempo 0 estaban superpuestas. Siguiendo con el analisis, despues de cierto tiempo, las ondas llegan al borde, donde se superponen nuevamente con otras ondas, alcanzando nuevamente una amplitud de 0.1. Finalmente, las ondas se devuelven y se vuelven a juntar. Esto sucede gracias a la propiedad de superposición de la onda. Es importante destacar ademas que la superposicion ocurre justamente en x = -10 y x = 10, las cuales son justamente las condiciones de la ecuación de la onda. Finalmente, cabe destacar que como se trata de una condicion periodica, esto se debera repetir si las ondas viajan en el mismo sentido y se encuentran en una misma fase. "
   ]
  },
  {
   "cell_type": "markdown",
   "metadata": {
    "collapsed": true
   },
   "source": [
    "<div id='preg2' />\n",
    "## Pregunta 2 ##"
   ]
  },
  {
   "cell_type": "markdown",
   "metadata": {},
   "source": [
    "Nos preguntan que sucede cuando modificamos $\\Delta t$ , $\\Delta x$ o _c_ para que $\\sigma^2 = \\left(\\dfrac{c \\Delta t}{ \\Delta x}\\right)^2$ sea mucho mas grande y pequeño que 1  ( $\\sigma^2 \\gg 1$ y $\\sigma^2 \\ll 1$). Para esto crearemos una función donde a través de un widget se graficarán las 2 soluciones con ambos $\\sigma^2$, y se analizara que es lo que sucede a medida que aumenta el tiempo.\n"
   ]
  },
  {
   "cell_type": "code",
   "execution_count": 6,
   "metadata": {
    "collapsed": true
   },
   "outputs": [],
   "source": [
    "def plot_sigma(us,i=0):\n",
    "    #Grafica para sigma muy pequeño\n",
    "    fig = plt.figure(figsize=(14, 5)) \n",
    "    gs = gridspec.GridSpec(1, 2, width_ratios=[3, 3]) \n",
    "    ax0 = plt.subplot(gs[0])\n",
    "    ax0.plot(x,us[0][i,:],'--bo',color = 'green')\n",
    "    plt.grid(True)\n",
    "    plt.grid(color = '0.5', linestyle = '--', linewidth = 1)\n",
    "    plt.title(\"Sigma << 1\",fontsize = 14, verticalalignment = 'baseline', horizontalalignment = 'center')\n",
    "    plt.xlim(-10,10)\n",
    "    plt.axis('tight')\n",
    "    ax0.set_ylim(-0.11, 0.11)\n",
    "    plt.xlabel(\"w(x,t)\", fontsize = 14)\n",
    "    plt.ylabel(\"x\", fontsize = 14)\n",
    "    \n",
    "    #grafico para sigma muy grande\n",
    "    ax1 = plt.subplot(gs[1])\n",
    "    ax1.plot(x,us[1][i,:],'--bo',color = 'red')\n",
    "    plt.grid(True)\n",
    "    plt.grid(color = '0.5', linestyle = '--', linewidth = 1)\n",
    "    plt.xlim(-10,10)\n",
    "    plt.title(\"Sigma >> 1\",fontsize = 14, verticalalignment = 'baseline', horizontalalignment = 'center')\n",
    "    plt.axis('tight')\n",
    "    #Si se apreciar un mejor comportamiento de la onda desde lejos, se recomienda comenta ax1.set_ylimit.\n",
    "    ax1.set_ylim(-0.11, 0.11)\n",
    "    plt.xlabel(\"w(x,t)\", fontsize = 14)\n",
    "    plt.ylabel(\"x\", fontsize = 14)\n",
    "\n",
    "    plt.show()"
   ]
  },
  {
   "cell_type": "markdown",
   "metadata": {},
   "source": [
    "Finalmente daremos valores de tal forma que los sigmas queden mucho mas grandes y pequeños que uno. Para este caso, veremos la comparación entre $\\sigma^2$ = 0.0625 y $\\sigma^2$ = 6.25. Para esto, vemos que sucedera al momento de varias _c_ en nuestro grafico (haciendo _c_ muy grande y muy pequeño):"
   ]
  },
  {
   "cell_type": "code",
   "execution_count": 7,
   "metadata": {
    "collapsed": false
   },
   "outputs": [
    {
     "name": "stdout",
     "output_type": "stream",
     "text": [
      "Se cumple condicion CFL, sigma**2 = 0.0625\n"
     ]
    }
   ],
   "source": [
    "#Creamos una lista para guardar las 2 matrices con distintos sigmas\n",
    "uv = []\n",
    "#Para un sigma muy pequeño\n",
    "\n",
    "c_litte = 0.5\n",
    "\n",
    "x,u1,dt,t = periodic_diritchlet(f,g_1,c_litte,dx,dt,M,N)\n",
    "uv.append(u1)"
   ]
  },
  {
   "cell_type": "code",
   "execution_count": 8,
   "metadata": {
    "collapsed": false
   },
   "outputs": [
    {
     "name": "stdout",
     "output_type": "stream",
     "text": [
      "No se cumple condicion CFL, sigma**2 = 6.25\n"
     ]
    }
   ],
   "source": [
    "#Para un sigma muy grande\n",
    "c_bigger = 5\n",
    "\n",
    "dx = 0.2\n",
    "dt = 0.1\n",
    "x,u2,dt,t = periodic_diritchlet(f,g_1,c_bigger,dx,dt,M,N)\n",
    "uv.append(u2)"
   ]
  },
  {
   "cell_type": "code",
   "execution_count": 9,
   "metadata": {
    "collapsed": false
   },
   "outputs": [
    {
     "data": {
      "image/png": "[encoded data removed]",
      "text/plain": [
       "<matplotlib.figure.Figure at 0x10dc232e8>"
      ]
     },
     "metadata": {},
     "output_type": "display_data"
    }
   ],
   "source": [
    "dp = 1\n",
    "widgets.interact(plot_sigma,us=widgets.fixed(uv),i=(0,150,dp))"
   ]
  },
  {
   "cell_type": "markdown",
   "metadata": {},
   "source": [
    "### ¿Qué sucede al variar _c_? ¿Cómo afecta esto a $\\sigma$?\n",
    "\n",
    "* Para un $\\sigma^2$ muy grande:\n",
    "\n",
    "    Lo que hicimos aqui fue aumetar c de 2 a 5, lo cual hace que la condicion CFL no se cumpla. Aquí, la onda empieza a diverger, mostrandonos que a medida que aumenta el tiempo empieza a entregarnos resultados errornes y cada vez mas grandes. Aqui podemos concluir que entre mas grande sea nuestro $\\sigma$ empezara a oscilar y entregar resultados en cada vez menos tiempo.\n",
    "    \n",
    "* Para un $\\sigma^2$ muy pequeño:\n",
    "\n",
    "    Para lograr esto, se disminuye ahora _c_ a 0.5. Al ver la simulación, vemos que la onda empieza a converger y a mostrarnos el mismo resultado que el ejercicio anterior, con la diferencia de que la onda avanza sumamente lento en comparación al primer gráfico, por lo que podemos concluir que a medida que $\\sigma$ es mas bajo, mas tardará el algortimo en mostrarnos un resultado correcto en el tiempo y espacio correspondiente."
   ]
  },
  {
   "cell_type": "markdown",
   "metadata": {},
   "source": [
    "<div id='preg3' />\n",
    "## Pregunta 3 ##"
   ]
  },
  {
   "cell_type": "markdown",
   "metadata": {},
   "source": [
    "Para este ejercicio se evaluaran las mismas condiciones que se implementaron con la pregunta 1, y con el mismo _c_. Sin embargo, sera nuestra función _g(x)_ la que cambiara, pasando de 0 a la siguiente función:\n",
    "\n",
    "$$ u_t(x,0) = g(x)= \\frac{1}{2}(e^{-(x-0.2)^2} - e^{-(x+0.2)^2})$$"
   ]
  },
  {
   "cell_type": "code",
   "execution_count": 10,
   "metadata": {
    "collapsed": false
   },
   "outputs": [
    {
     "name": "stdout",
     "output_type": "stream",
     "text": [
      "Se cumple condicion CFL, sigma**2 = 1.0\n"
     ]
    }
   ],
   "source": [
    "# u_t(x,0)=g(x)\n",
    "g_2 = 0.5*(np.exp(-(x-0.2)**2) - np.exp(-(x+0.2)**2))\n",
    "\n",
    "x,u3,dt,t = periodic_diritchlet(f,g_2,c,dx,dt,M,N)"
   ]
  },
  {
   "cell_type": "code",
   "execution_count": 11,
   "metadata": {
    "collapsed": false
   },
   "outputs": [
    {
     "data": {
      "image/png": "[encoded data removed]",
      "text/plain": [
       "<matplotlib.figure.Figure at 0x10db4aeb8>"
      ]
     },
     "metadata": {},
     "output_type": "display_data"
    }
   ],
   "source": [
    "dp = 1\n",
    "widgets.interact(plot_diritchlet,us=widgets.fixed(u3),i=(0,199,dp))"
   ]
  },
  {
   "cell_type": "markdown",
   "metadata": {},
   "source": [
    "Aqui observamos que, al igual que el caso inicial la onda parte con una amplitud de 0.1, es decir, las 2 ondas estan superpuestas. Sin embargo, a medida que avanza el tiempo, vemos que las 2 ondas viajan de manera superpuesta a lo largo del tiempo. Esto nos da a entender que las 2 ondas con amplitud 0.05 ahora viajabn con la misma fase y en el mismo sentido, estando superpuestas siempre. Podemos concluir entonces que la funcion $g(x) \\ne 0$ claramente afecta el comportamiento de la onda, haciendo que se comporte de otra forma (en este caso, dando una superposición perfecta a medida que el tiempo avanza).\n",
    "\n",
    "Si esto lo llevamos al plano fisico, se observa que esta simulación es una <b>_Interferencia Constructiva_</b>, interferencia que se da cuando el desfase de las ondas es <b>un múltiplo par de $\\pi$ </b> o <b>si están desfasados en un número entero de longitudes de onda</b>. Esto hace que las ondas coincidan perfectamente, y su amplitud sea el doble de una."
   ]
  },
  {
   "cell_type": "markdown",
   "metadata": {},
   "source": [
    "<div id='bonus' />\n",
    "## Bonus ##"
   ]
  },
  {
   "cell_type": "markdown",
   "metadata": {},
   "source": [
    "<div id='bonus1' />\n",
    "### Pregunta 1 ###"
   ]
  },
  {
   "cell_type": "markdown",
   "metadata": {},
   "source": [
    "Para esta pregunta, nos piden calcular de nuevo la misma ecuacion, pero cambiando las condiciones periodicas, por condiciones de _Neummann_:\n",
    "\n",
    "$$u_x(x_0,t) = u_x(x_N,t) = 0$$ "
   ]
  },
  {
   "cell_type": "code",
   "execution_count": 12,
   "metadata": {
    "collapsed": false
   },
   "outputs": [],
   "source": [
    "def periodic_neummann_bonus_1(f,g,c,dx,dt,M,N,bonus):\n",
    "    \n",
    "    #Generamos el arreglo de puntos.\n",
    "    \n",
    "    x = np.linspace(-10,10,N) \n",
    "    t = np.linspace(0,20,M)\n",
    "        \n",
    "    sigma = c**2 * (dt/dx)**2\n",
    "    \n",
    "    if(sigma <= 1):\n",
    "        print(\"Se cumple condicion CFL, sigma**2 = \" + str(sigma))\n",
    "    else:\n",
    "        print(\"No se cumple condicion CFL, sigma**2 = \" + str(sigma))\n",
    "        \n",
    "    #Generamos un arreglo de del tamaño de la discretizacion (en el caso particular de la pregunta 1, de 200x100).\n",
    "    w = np.zeros((M,N))\n",
    "    \n",
    "    #Llenamos la primera fila con la informacion que sabemos, u(x,0) = f(x). \n",
    "    w[0,:] = f(x)\n",
    "    \n",
    "    #Creamos una matriz tridiagonal con los coeficientes correspondientes: en la diagonal A_i,j = 2-2*sigma, y A_i,j+1 y A_i,j-1 = sigma.\n",
    "    B = np.zeros(N)\n",
    "    B[0] = 2 - 2*sigma\n",
    "    B[1] = sigma\n",
    "    A = spla.toeplitz(B)\n",
    "    #Llenamos la primera y ultima fila de esta matriz con 0, asi podremos sumar directamente los bordes.\n",
    "    #A[0,:] = np.zeros(A.shape[0])\n",
    "    #A[-1,:] = np.zeros(A.shape[-1])\n",
    "    \n",
    "    #Para el primer caso asignamos lo presentado anteriormente.\n",
    "    C_t = np.zeros(N)\n",
    "    C_t[0] = w[0,1]\n",
    "    C_t[-1] = w[0, -2]\n",
    "    w[1] = 0.5 * np.dot(A, w[0]) + dt*g + 0.5*sigma*C_t\n",
    "    \n",
    "    #Para el resto de caso (t=2 hacia adelante) agregamos los coeficientes como se indico anteriormente.\n",
    "    for k in range(2,M):\n",
    "        C_t[0] = w[k-1, 1]\n",
    "        C_t[-1] = w[k-1, -2]\n",
    "        w[k] = np.dot(A, w[k-1]) +  sigma*C_t - w[k-2]\n",
    "        \n",
    "    return x,w,dt,t"
   ]
  },
  {
   "cell_type": "code",
   "execution_count": 13,
   "metadata": {
    "collapsed": false
   },
   "outputs": [],
   "source": [
    "#Definimos la funcion para graficar, \n",
    "def plot_neummann_bonus1(us,i=0):\n",
    "    plt.figure(figsize=(10,8))\n",
    "    plt.plot(x,us[i,:],'--bo',color = 'blue')\n",
    "    plt.ylim(-0.05,0.21)\n",
    "    plt.xlim(-10,10)\n",
    "    plt.title('Tiempo: '+str(i*dt))\n",
    "    plt.grid()\n",
    "    plt.ylabel('w(x,t)',fontsize=20)\n",
    "    plt.xlabel('x',fontsize=20)\n",
    "    plt.show()"
   ]
  },
  {
   "cell_type": "code",
   "execution_count": 14,
   "metadata": {
    "collapsed": false
   },
   "outputs": [
    {
     "name": "stdout",
     "output_type": "stream",
     "text": [
      "Se cumple condicion CFL, sigma**2 = 1.0\n"
     ]
    }
   ],
   "source": [
    "x,u4,dt,t = periodic_neummann_bonus_1(f,g_2,c,dx,dt,M,N,1)"
   ]
  },
  {
   "cell_type": "code",
   "execution_count": 15,
   "metadata": {
    "collapsed": false,
    "scrolled": false
   },
   "outputs": [
    {
     "data": {
      "image/png": "[encoded data removed]",
      "text/plain": [
       "<matplotlib.figure.Figure at 0x10dc231d0>"
      ]
     },
     "metadata": {},
     "output_type": "display_data"
    }
   ],
   "source": [
    "dp = 1\n",
    "widgets.interact(plot_neummann_bonus1,us=widgets.fixed(u4),i=(0,199,dp))"
   ]
  },
  {
   "cell_type": "markdown",
   "metadata": {},
   "source": [
    "Aqui observamos que el comportamiento de la onda es similar al problema 3, es decir, son 2 ondas que van superpuestas a cada minuto. Sin embargo, las ondas ahora se superponen con otras 2 ondas superpuestas que vienen en sentido contrario, superponiendose en los bordes y creando una superposición aun mas grande (una onda con amplitud 0.2). "
   ]
  },
  {
   "cell_type": "markdown",
   "metadata": {},
   "source": [
    "<div id='bonus2' />\n",
    "### Pregunta 2 ###"
   ]
  },
  {
   "cell_type": "markdown",
   "metadata": {},
   "source": [
    "Aqui se realizará una comparación de la simulación generada con la discretizacion de nuestra EDP contra la solución real del problema, la cual viene dada por la siguiente expresión:\n",
    "\n",
    "$$ u(x,t) = 0.1e^{-(x-2t)^2} $$\n",
    "\n",
    "Debemos tener en cuenta ademas que el dominio de _x_ es ahora de -10 a 50, por lo que ahora podremos apreciar con mayor plenitud como se comporta nuestra onda en contraste a la solución real."
   ]
  },
  {
   "cell_type": "code",
   "execution_count": 16,
   "metadata": {
    "collapsed": true
   },
   "outputs": [],
   "source": [
    "def periodic_neumman_bonus_2(f,g,c,dx,dt,N,M):\n",
    "    \n",
    "    #Generamos el arreglo de puntos. Aqui agrandamos el rango de x a [-10,50]\n",
    "    x = np.linspace(-10,50,N)\n",
    "    t = np.linspace(0,20,M)\n",
    "    \n",
    "    sigma = c**2 * (dt/dx)**2\n",
    "\n",
    "    if(sigma <= 1):\n",
    "        print(\"Se cumple condicion CFL, sigma**2 = \" + str(sigma))\n",
    "    else:\n",
    "        print(\"No se cumple condicion CFL, sigma**2 = \" + str(sigma))\n",
    "        \n",
    "    #Generamos un arreglo de del tamaño de la discretizacion (en el caso particular de la pregunta 1, de 200x100).\n",
    "    w = np.zeros((M,N))\n",
    "    \n",
    "    #Llenamos la primera fila con la informacion que sabemos, u(x,0) = f(x). \n",
    "    w[0,:] = f(x)\n",
    "    \n",
    "    #Creamos una matriz tridiagonal con los coeficientes correspondientes: en la diagonal A_i,j = 2-2*sigma, y A_i,j+1 y A_i,j-1 = sigma.\n",
    "    B = np.zeros(N)\n",
    "    B[0] = 2 - 2*sigma\n",
    "    B[1] = sigma\n",
    "    A = spla.toeplitz(B)\n",
    "    #Llenamos la primera y ultima fila de esta matriz con 0, asi podremos sumar directamente los bordes.\n",
    "    #A[0,:] = np.zeros(A.shape[0])\n",
    "    #A[-1,:] = np.zeros(A.shape[-1])\n",
    "    \n",
    "    #Para el primer caso asignamos lo presentado anteriormente.\n",
    "    C_t = np.zeros(N)\n",
    "    C_t[0] = w[0,1]\n",
    "    C_t[-1] = w[0, -2]\n",
    "    w[1] = 0.5 * np.dot(A, w[0]) + dt*g(x) + 0.5*sigma*C_t\n",
    "    \n",
    "    #Para el resto de caso (t=2 hacia adelante) agregamos los coeficientes como se indico anteriormente.\n",
    "    for k in range(2,M):\n",
    "        C_t[0] = w[k-1, 1]\n",
    "        C_t[-1] = w[k-1, -2]\n",
    "        w[k] = np.dot(A, w[k-1]) +  sigma*C_t - w[k-2]\n",
    "        \n",
    "    return x,w,dt,t"
   ]
  },
  {
   "cell_type": "code",
   "execution_count": 17,
   "metadata": {
    "collapsed": false
   },
   "outputs": [],
   "source": [
    "#Funcion para graficar el bonus 2\n",
    "def plot_neumman_bonus2(us,i=0):\n",
    "    plt.figure(figsize=(10,7))\n",
    "    #Grafica de funcion generada por discretizacion\n",
    "    plt.plot(x_neummann,us[i,:],'--bo',color = 'red',label = 'función aproximada')\n",
    "    plt.hold(True)\n",
    "    #Grafica funcion real \n",
    "    plt.plot(x_neummann, 0.1*np.exp(-(x_neummann - 2*i*dt)**2),'--bo',color = 'green', label = 'función real')\n",
    "    plt.ylim(-0.01,0.11)\n",
    "    plt.xlim(-10,50)\n",
    "    plt.title('Tiempo: '+str(i*dt))\n",
    "    plt.grid()\n",
    "    plt.legend(loc=1)\n",
    "    plt.ylabel('w(x,t)',fontsize=20)\n",
    "    plt.xlabel('x',fontsize=20)\n",
    "    plt.show()"
   ]
  },
  {
   "cell_type": "code",
   "execution_count": 18,
   "metadata": {
    "collapsed": false,
    "scrolled": false
   },
   "outputs": [
    {
     "name": "stdout",
     "output_type": "stream",
     "text": [
      "Se cumple condicion CFL, sigma**2 = 1.0\n"
     ]
    }
   ],
   "source": [
    "#Damos nuevos valores a la ecuacion ya que nuestro rango en en x aumento.\n",
    "N_neummann=300\n",
    "M=200\n",
    "\n",
    "c = 2\n",
    "\n",
    "dx = 0.2\n",
    "dt = 0.1\n",
    "\n",
    "# u(x,0)=f(x)\n",
    "f = lambda x: 0.1*np.exp(-x**2)\n",
    "\n",
    "# u_t(x,0)=g(x)\n",
    "g_2 = lambda x: 0.5*(np.exp(-(x-0.2)**2) - np.exp(-(x+0.2)**2))\n",
    "\n",
    "x_neummann,u5,dt,t = periodic_neumman_bonus_2(f,g_2,c,dx,dt,N_neummann,M)\n",
    "\n",
    "#Creamos una matriz con los valores de la solucion real.\n",
    "resultado_real = []\n",
    "temp = []\n",
    "for i in range(len(t)):\n",
    "    for j in range(len(x_neummann)):\n",
    "        temp.append(0.1*np.exp(-(x_neummann[j] - 2*t[i])**2))\n",
    "    resultado_real.append(temp)\n",
    "    temp = []"
   ]
  },
  {
   "cell_type": "code",
   "execution_count": 19,
   "metadata": {
    "collapsed": false,
    "scrolled": false
   },
   "outputs": [
    {
     "data": {
      "image/png": "[encoded data removed]",
      "text/plain": [
       "<matplotlib.figure.Figure at 0x10d372e80>"
      ]
     },
     "metadata": {},
     "output_type": "display_data"
    }
   ],
   "source": [
    "dp = 1\n",
    "widgets.interact(plot_neumman_bonus2,us=widgets.fixed(u5),i=(0,199,dp))"
   ]
  },
  {
   "cell_type": "markdown",
   "metadata": {},
   "source": [
    "Observamos que las 2 graficas parten exactamente iguales, pero a medida que empieza a pasar el tiempo, la gráficad de nuestra solucion empieza a desfazarse con respecto a la onda original, lo que nos da un indicio de que existe un error. Para esto, creamos una funcion _compute error_, la cual recibira nuestra solución y la solución real, restara las 2 soluciones y sacara el maximo de cada fila, obteniendo asi los errores maximos por cada fila:  "
   ]
  },
  {
   "cell_type": "code",
   "execution_count": 20,
   "metadata": {
    "collapsed": true
   },
   "outputs": [],
   "source": [
    "def compute_error(x_sol1,x_sol2):\n",
    "    return np.amax(x_sol1-x_sol2,axis=1)"
   ]
  },
  {
   "cell_type": "code",
   "execution_count": 21,
   "metadata": {
    "collapsed": true
   },
   "outputs": [],
   "source": [
    "#Funcion para graficar el error\n",
    "def plot_error(error):\n",
    "    iteration = list(range(0,len(error)))\n",
    "    plt.figure(figsize=(10,8))\n",
    "    plt.semilogy(iteration,error,'--bo',color = 'black')\n",
    "    plt.ylim(7e-5,1e-2)\n",
    "    plt.title('Tiempo t_i vs error',fontsize=20)\n",
    "    plt.grid()\n",
    "    plt.xlabel('Tiempo',fontsize=20)\n",
    "    plt.ylabel('error',fontsize=20)\n",
    "    plt.show()"
   ]
  },
  {
   "cell_type": "code",
   "execution_count": 22,
   "metadata": {
    "collapsed": false,
    "scrolled": false
   },
   "outputs": [
    {
     "data": {
      "image/png": "[encoded data removed]",
      "text/plain": [
       "<matplotlib.figure.Figure at 0x10dc2e668>"
      ]
     },
     "metadata": {},
     "output_type": "display_data"
    }
   ],
   "source": [
    "#Calculamos el error y lo graficamos.\n",
    "error = compute_error(resultado_real, u5)\n",
    "plot_error(error)"
   ]
  },
  {
   "cell_type": "markdown",
   "metadata": {},
   "source": [
    "Observamos que el error en el tiempo 0 es claramente 0, puesto que al inicio la onda se comportara segun la condicion de borde, lo que hace que las 2 soluciones sean iguales. Sin embargo, a medida que aumenta el tiempo los errores empiezan a aumentar, lo cual se puede apreciar en la grafica. Esto se puede comportar de una mejor manera si encontramos otra discretizacion que sea mas adecuada al problema. \n",
    "\n",
    "Logramos deducir según nuestro gráfico que en la región en la cual estamos estimando la solución por _diferencias finitas_ es de aproximadamente $10^{-2}$, lo cual es un error que si bien no es tan pequeño como se esperaria,es un error bastante bueno y que simula de manera bastante buena el comportamiento de la onda,"
   ]
  },
  {
   "cell_type": "markdown",
   "metadata": {},
   "source": [
    "<div id='con' />\n",
    "## Conclusiones ##"
   ]
  },
  {
   "cell_type": "markdown",
   "metadata": {},
   "source": [
    "Gracias a este laboratorio, hemos podido graficar el comportamiento de una onda periódica en su totalidad. Además, dependiendo de las condiciones de borde de la onda, esta se comporta de distintas maneras, pudiendo ver asi como las ondas se juntaban y formaban una gran onda gracias al principio de superposición, como tambien conceptos de gran relevancia como la fase, la amplitud y la interferencia. \n",
    "\n",
    "Es importante destacar la condición _CFL_ de las ondas hiperbólicas, puesto que si no controlamos de forma correcta estos parámetros, puede que nuestra simulación no sea la más acorde a nuestra solución (como se comprobó en la pregunta 2 del laboratorio).\n",
    "\n",
    "Por otra parte, comprobamos que las simulaciones que realizamos de las ondas son bastantes cercanas a la realidad (en la ultima pregunta del bonus, pudimos comprobar que el error respecto a la ecuación original es bastante poca). Cabe destacar que dependiendo de los parámetros que le demos a la onda, y de que tan bien construyamos nuestro algoritmo, podremos ver una simulación casi perfecta de la onda. Finalmente con estos algoritmos para contruir una EDP de ondas (Hiperbólica), ademas del bajo error de estas simulaciones, podemos realizar grandes experimentos, pudiendo así resolver incontables problemas que existen en la vida real."
   ]
  },
  {
   "cell_type": "markdown",
   "metadata": {},
   "source": [
    "<div id='ref' />\n",
    "## Referencias ##"
   ]
  },
  {
   "cell_type": "markdown",
   "metadata": {
    "collapsed": false
   },
   "source": [
    "\"_Superposición de las ondas_\"\n",
    "- http://laplace.us.es/wiki/index.php/Superposición_de_ondas\n",
    "\n",
    "\"_Descripción de una onda_\"\n",
    "\n",
    "- https://es.wikipedia.org/wiki/Onda\n",
    "\n",
    "\"_Numerical Analysis, 2nd Edition, Timothy Sauer, Chapter 8_\""
   ]
  }
 ],
 "metadata": {
  "anaconda-cloud": {},
  "kernelspec": {
   "display_name": "Python [Root]",
   "language": "python",
   "name": "Python [Root]"
  },
  "language_info": {
   "codemirror_mode": {
    "name": "ipython",
    "version": 3
   },
   "file_extension": ".py",
   "mimetype": "text/x-python",
   "name": "python",
   "nbconvert_exporter": "python",
   "pygments_lexer": "ipython3",
   "version": "3.5.2"
  },
  "widgets": {
   "state": {
    "6558ba6576cd42e5a411abdf23d69670": {
     "views": [
      {
       "cell_index": 16
      }
     ]
    },
    "90271327db7a4b138e0b2ab5f7a3707a": {
     "views": [
      {
       "cell_index": 14
      }
     ]
    },
    "93fbc09a562b462e9a16da707443356b": {
     "views": [
      {
       "cell_index": 12
      }
     ]
    }
   },
   "version": "1.2.0"
  }
 },
 "nbformat": 4,
 "nbformat_minor": 0
}
